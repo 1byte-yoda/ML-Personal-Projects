{
  "nbformat": 4,
  "nbformat_minor": 0,
  "metadata": {
    "colab": {
      "name": "Quora-Duplicate.ipynb",
      "provenance": [],
      "collapsed_sections": [],
      "toc_visible": true,
      "mount_file_id": "19Aqeh31ZHhlAjsDXJpDYncnDpbmKF12K",
      "authorship_tag": "ABX9TyNUNVhfRvE1HYWNv/vPdlGT",
      "include_colab_link": true
    },
    "kernelspec": {
      "name": "python3",
      "display_name": "Python 3"
    }
  },
  "cells": [
    {
      "cell_type": "markdown",
      "metadata": {
        "id": "view-in-github",
        "colab_type": "text"
      },
      "source": [
        "<a href=\"https://colab.research.google.com/github/PHMark/ML-Personal-Projects/blob/master/Quora_Duplicate.ipynb\" target=\"_parent\"><img src=\"https://colab.research.google.com/assets/colab-badge.svg\" alt=\"Open In Colab\"/></a>"
      ]
    },
    {
      "cell_type": "markdown",
      "metadata": {
        "id": "775DFNZqaQXd",
        "colab_type": "text"
      },
      "source": [
        "<h1 style=\"text-align:center;font-size:30px;\"> Quora Duplicate Questions </h1>"
      ]
    },
    {
      "cell_type": "markdown",
      "metadata": {
        "id": "8WAAdl8RbilD",
        "colab_type": "text"
      },
      "source": [
        "# 1. Business Problem"
      ]
    },
    {
      "cell_type": "markdown",
      "metadata": {
        "id": "4HnFoUVAbmWo",
        "colab_type": "text"
      },
      "source": [
        "## 1.1 Description"
      ]
    },
    {
      "cell_type": "markdown",
      "metadata": {
        "id": "MWL-liqCboyF",
        "colab_type": "text"
      },
      "source": [
        "<p>Quora is a place to gain and share knowledge—about anything. It’s a platform to ask questions and connect with people who contribute unique insights and quality answers. This empowers people to learn from each other and to better understand the world.</p>\n",
        "<p>\n",
        "Over 100 million people visit Quora every month, so it's no surprise that many people ask similarly worded questions. Multiple questions with the same intent can cause seekers to spend more time finding the best answer to their question, and make writers feel they need to answer multiple versions of the same question. Quora values canonical questions because they provide a better experience to active seekers and writers, and offer more value to both of these groups in the long term.\n",
        "</p>\n",
        "<br>\n",
        "\n",
        "> Credits: Kaggle \n"
      ]
    },
    {
      "cell_type": "markdown",
      "metadata": {
        "id": "aNX6ZhzJbr54",
        "colab_type": "text"
      },
      "source": [
        "### Problem Statement\n",
        "\n",
        "- Identify which questions asked on Quora are duplicates of questions that have already been asked. \n",
        "- This could be useful to instantly provide answers to questions that have already been answered. \n",
        "- We are tasked with predicting whether a pair of questions are duplicates or not. "
      ]
    },
    {
      "cell_type": "markdown",
      "metadata": {
        "id": "pfKoge1vb2HU",
        "colab_type": "text"
      },
      "source": [
        "## 1.2 Sources/Other Links"
      ]
    },
    {
      "cell_type": "markdown",
      "metadata": {
        "id": "ymrG3kjpbxGX",
        "colab_type": "text"
      },
      "source": [
        "\n",
        "- Source : https://www.kaggle.com/c/quora-question-pairs\n",
        "\n",
        "**Others:**\n",
        "- Discussions : https://www.kaggle.com/anokas/data-analysis-xgboost-starter-0-35460-lb/comments\n",
        "- Kaggle Winning Solution and other approaches: https://www.dropbox.com/sh/93968nfnrzh8bp5/AACZdtsApc1QSTQc7X0H3QZ5a?dl=0\n",
        "- Blog 1 : https://engineering.quora.com/Semantic-Question-Matching-with-Deep-Learning\n",
        "- Blog 2 : https://towardsdatascience.com/identifying-duplicate-questions-on-quora-top-12-on-kaggle-4c1cf93f1c30"
      ]
    },
    {
      "cell_type": "markdown",
      "metadata": {
        "id": "HX6Qjg61cWHP",
        "colab_type": "text"
      },
      "source": [
        "## 1.3 Real world/Business Objectives and Constraints"
      ]
    },
    {
      "cell_type": "markdown",
      "metadata": {
        "id": "_pKdtipjcYGf",
        "colab_type": "text"
      },
      "source": [
        "1. The cost of a mis-classification can be very high.\n",
        "2. You would want a probability of a pair of questions to be duplicates so that you can choose any threshold of choice.\n",
        "3. No strict latency concerns.\n",
        "4. Interpretability is partially important."
      ]
    },
    {
      "cell_type": "markdown",
      "metadata": {
        "id": "WDxKa4hgcbIT",
        "colab_type": "text"
      },
      "source": [
        "# 2. Machine Learning Probelm"
      ]
    },
    {
      "cell_type": "markdown",
      "metadata": {
        "id": "d2OpU1DUcdFO",
        "colab_type": "text"
      },
      "source": [
        "## 2.1 Data"
      ]
    },
    {
      "cell_type": "markdown",
      "metadata": {
        "id": "ByZHFEBCce7M",
        "colab_type": "text"
      },
      "source": [
        "### 2.1.1 Data Overview"
      ]
    },
    {
      "cell_type": "markdown",
      "metadata": {
        "id": "aVCh65wEcgm2",
        "colab_type": "text"
      },
      "source": [
        "<p> \n",
        "- Data will be in a file Train.csv <br>\n",
        "- Train.csv contains 5 columns : qid1, qid2, question1, question2, is_duplicate <br>\n",
        "- Size of Train.csv - 60MB <br>\n",
        "- Number of rows in Train.csv = 404,290\n",
        "</p>"
      ]
    },
    {
      "cell_type": "markdown",
      "metadata": {
        "id": "YcsKzkATcrio",
        "colab_type": "text"
      },
      "source": [
        "## 2.2 Mapping the real world problem into a Machine Learning problem"
      ]
    },
    {
      "cell_type": "markdown",
      "metadata": {
        "id": "KhMRAXRecuWe",
        "colab_type": "text"
      },
      "source": [
        "### 2.2.1 Type of Machine Leaning Problem"
      ]
    },
    {
      "cell_type": "markdown",
      "metadata": {
        "id": "KbDDKmtYcwOO",
        "colab_type": "text"
      },
      "source": [
        "<p> This is a binary classification problem, for a given pair of questions we need to predict if they are duplicate or not. </p>"
      ]
    },
    {
      "cell_type": "markdown",
      "metadata": {
        "id": "7lbbsckmdA7l",
        "colab_type": "text"
      },
      "source": [
        "### 2.2.2 Performance Metric "
      ]
    },
    {
      "cell_type": "markdown",
      "metadata": {
        "id": "RvGywEnmdDad",
        "colab_type": "text"
      },
      "source": [
        "Source: https://www.kaggle.com/c/quora-question-pairs#evaluation\n",
        "\n",
        "Metric(s): \n",
        "* log-loss : https://www.kaggle.com/wiki/LogarithmicLoss"
      ]
    },
    {
      "cell_type": "markdown",
      "metadata": {
        "id": "ddxE1pPqdGQl",
        "colab_type": "text"
      },
      "source": [
        "## 2.3 Train and Test Construction"
      ]
    },
    {
      "cell_type": "markdown",
      "metadata": {
        "id": "mn7ndOUsdS_-",
        "colab_type": "text"
      },
      "source": [
        "<p> We will build train and test set randomly, splitting in the ratio of 70:30. </p>"
      ]
    },
    {
      "cell_type": "markdown",
      "metadata": {
        "id": "QTy7Jl2Ddwfv",
        "colab_type": "text"
      },
      "source": [
        "# 3. Exploratory Data Analysis "
      ]
    },
    {
      "cell_type": "code",
      "metadata": {
        "id": "oi7Tq_fpdQ41",
        "colab_type": "code",
        "colab": {}
      },
      "source": [
        "import pandas as pd\n",
        "import numpy as np\n",
        "import seaborn as sns\n",
        "from matplotlib import pyplot as plt\n",
        "import nltk\n",
        "from nltk.stem import SnowballStemmer\n",
        "from nltk.corpus import stopwords\n",
        "from wordcloud import WordCloud, STOPWORDS\n",
        "try:\n",
        "  from fuzzywuzzy import fuzz\n",
        "except:\n",
        "  !pip install fuzzywuzzy\n",
        "  from fuzzywuzzy import fuzz\n",
        "try:\n",
        "  import distance\n",
        "except:\n",
        "  !pip install distance\n",
        "  import distance\n",
        "import re\n",
        "import os\n",
        "import time\n",
        "\n",
        "QUORA_DATA_DIR = '/content/drive/My Drive/Datasets/quora_kaggle/'"
      ],
      "execution_count": 0,
      "outputs": []
    },
    {
      "cell_type": "code",
      "metadata": {
        "id": "BySQSJsxd_--",
        "colab_type": "code",
        "colab": {}
      },
      "source": [
        "df = pd.read_csv(QUORA_DATA_DIR + 'train.csv')"
      ],
      "execution_count": 0,
      "outputs": []
    },
    {
      "cell_type": "code",
      "metadata": {
        "id": "2h1jIWVSeSId",
        "colab_type": "code",
        "outputId": "cc9c057e-41c5-417d-e456-85aaf9d834db",
        "colab": {
          "base_uri": "https://localhost:8080/",
          "height": 51
        }
      },
      "source": [
        "print('Number of Rows: {}\\nNumber of Columns: {}'.format(*df.shape))"
      ],
      "execution_count": 3,
      "outputs": [
        {
          "output_type": "stream",
          "text": [
            "Number of Rows: 404290\n",
            "Number of Columns: 6\n"
          ],
          "name": "stdout"
        }
      ]
    },
    {
      "cell_type": "code",
      "metadata": {
        "id": "p3e5ZdSheklz",
        "colab_type": "code",
        "outputId": "66466886-04f0-416a-f827-a9be2cf0aef2",
        "colab": {
          "base_uri": "https://localhost:8080/",
          "height": 289
        }
      },
      "source": [
        "# Inspect some data\n",
        "df.head()"
      ],
      "execution_count": 4,
      "outputs": [
        {
          "output_type": "execute_result",
          "data": {
            "text/html": [
              "<div>\n",
              "<style scoped>\n",
              "    .dataframe tbody tr th:only-of-type {\n",
              "        vertical-align: middle;\n",
              "    }\n",
              "\n",
              "    .dataframe tbody tr th {\n",
              "        vertical-align: top;\n",
              "    }\n",
              "\n",
              "    .dataframe thead th {\n",
              "        text-align: right;\n",
              "    }\n",
              "</style>\n",
              "<table border=\"1\" class=\"dataframe\">\n",
              "  <thead>\n",
              "    <tr style=\"text-align: right;\">\n",
              "      <th></th>\n",
              "      <th>id</th>\n",
              "      <th>qid1</th>\n",
              "      <th>qid2</th>\n",
              "      <th>question1</th>\n",
              "      <th>question2</th>\n",
              "      <th>is_duplicate</th>\n",
              "    </tr>\n",
              "  </thead>\n",
              "  <tbody>\n",
              "    <tr>\n",
              "      <th>0</th>\n",
              "      <td>0</td>\n",
              "      <td>1</td>\n",
              "      <td>2</td>\n",
              "      <td>What is the step by step guide to invest in sh...</td>\n",
              "      <td>What is the step by step guide to invest in sh...</td>\n",
              "      <td>0</td>\n",
              "    </tr>\n",
              "    <tr>\n",
              "      <th>1</th>\n",
              "      <td>1</td>\n",
              "      <td>3</td>\n",
              "      <td>4</td>\n",
              "      <td>What is the story of Kohinoor (Koh-i-Noor) Dia...</td>\n",
              "      <td>What would happen if the Indian government sto...</td>\n",
              "      <td>0</td>\n",
              "    </tr>\n",
              "    <tr>\n",
              "      <th>2</th>\n",
              "      <td>2</td>\n",
              "      <td>5</td>\n",
              "      <td>6</td>\n",
              "      <td>How can I increase the speed of my internet co...</td>\n",
              "      <td>How can Internet speed be increased by hacking...</td>\n",
              "      <td>0</td>\n",
              "    </tr>\n",
              "    <tr>\n",
              "      <th>3</th>\n",
              "      <td>3</td>\n",
              "      <td>7</td>\n",
              "      <td>8</td>\n",
              "      <td>Why am I mentally very lonely? How can I solve...</td>\n",
              "      <td>Find the remainder when [math]23^{24}[/math] i...</td>\n",
              "      <td>0</td>\n",
              "    </tr>\n",
              "    <tr>\n",
              "      <th>4</th>\n",
              "      <td>4</td>\n",
              "      <td>9</td>\n",
              "      <td>10</td>\n",
              "      <td>Which one dissolve in water quikly sugar, salt...</td>\n",
              "      <td>Which fish would survive in salt water?</td>\n",
              "      <td>0</td>\n",
              "    </tr>\n",
              "  </tbody>\n",
              "</table>\n",
              "</div>"
            ],
            "text/plain": [
              "   id  qid1  ...                                          question2 is_duplicate\n",
              "0   0     1  ...  What is the step by step guide to invest in sh...            0\n",
              "1   1     3  ...  What would happen if the Indian government sto...            0\n",
              "2   2     5  ...  How can Internet speed be increased by hacking...            0\n",
              "3   3     7  ...  Find the remainder when [math]23^{24}[/math] i...            0\n",
              "4   4     9  ...            Which fish would survive in salt water?            0\n",
              "\n",
              "[5 rows x 6 columns]"
            ]
          },
          "metadata": {
            "tags": []
          },
          "execution_count": 4
        }
      ]
    },
    {
      "cell_type": "code",
      "metadata": {
        "id": "5Os9Qq7Ceo8D",
        "colab_type": "code",
        "outputId": "4c8d6ee0-a670-418b-e990-fcf2b3f4ffed",
        "colab": {
          "base_uri": "https://localhost:8080/",
          "height": 238
        }
      },
      "source": [
        "df.info()"
      ],
      "execution_count": 5,
      "outputs": [
        {
          "output_type": "stream",
          "text": [
            "<class 'pandas.core.frame.DataFrame'>\n",
            "RangeIndex: 404290 entries, 0 to 404289\n",
            "Data columns (total 6 columns):\n",
            " #   Column        Non-Null Count   Dtype \n",
            "---  ------        --------------   ----- \n",
            " 0   id            404290 non-null  int64 \n",
            " 1   qid1          404290 non-null  int64 \n",
            " 2   qid2          404290 non-null  int64 \n",
            " 3   question1     404289 non-null  object\n",
            " 4   question2     404288 non-null  object\n",
            " 5   is_duplicate  404290 non-null  int64 \n",
            "dtypes: int64(4), object(2)\n",
            "memory usage: 18.5+ MB\n"
          ],
          "name": "stdout"
        }
      ]
    },
    {
      "cell_type": "markdown",
      "metadata": {
        "id": "-F0fL4eNe5DW",
        "colab_type": "text"
      },
      "source": [
        "We are given a minimal number of data fields here, consisting of:\n",
        "\n",
        "- id:  Looks like a simple rowID\n",
        "- qid{1, 2}:  The unique ID of each question in the pair\n",
        "- question{1, 2}:  The actual textual contents of the questions.\n",
        "- is_duplicate:  The label that we are trying to predict - whether the two questions are duplicates of each other."
      ]
    },
    {
      "cell_type": "markdown",
      "metadata": {
        "id": "Muo994Vce7_N",
        "colab_type": "text"
      },
      "source": [
        "### 3.2.1 Distribution of data points among output classes\n",
        "- Number of duplicate(smilar) and non-duplicate(non similar) questions"
      ]
    },
    {
      "cell_type": "code",
      "metadata": {
        "id": "u0En2MCrp1ZM",
        "colab_type": "code",
        "colab": {}
      },
      "source": [
        "# Some useful function\n",
        "\n",
        "def put_label(rects, data, axes):\n",
        "  '''Put bar plot values'''\n",
        "  for rect, i in zip(rects, data):\n",
        "        h = rect.get_height()/2\n",
        "        axes.text(rect.get_x() + rect.get_width()/2., h ,str(i),\n",
        "                ha='center', color='white', fontsize=10)"
      ],
      "execution_count": 0,
      "outputs": []
    },
    {
      "cell_type": "code",
      "metadata": {
        "id": "nAS5XxBQex2T",
        "colab_type": "code",
        "outputId": "427a699e-3149-4a00-e503-345a927a799e",
        "colab": {
          "base_uri": "https://localhost:8080/",
          "height": 390
        }
      },
      "source": [
        "height = df['is_duplicate'].value_counts()\n",
        "\n",
        "fig, ax = plt.subplots(figsize=(8, 6))\n",
        "ax.set_title('Distribution of Class of the Target Column')\n",
        "rects = ax.bar(x=df['is_duplicate'].unique(), height=height, \n",
        "               color=['mediumseagreen', 'darkorange'])\n",
        "ax.set_xticks(ticks=[0, 1])\n",
        "ax.set_xticklabels(labels=['Not Duplicate', 'Duplicate'])\n",
        "put_label(rects, height, ax)\n",
        "plt.show()"
      ],
      "execution_count": 7,
      "outputs": [
        {
          "output_type": "display_data",
          "data": {
            "image/png": "[encoded data removed]",
            "text/plain": [
              "<Figure size 576x432 with 1 Axes>"
            ]
          },
          "metadata": {
            "tags": [],
            "needs_background": "light"
          }
        }
      ]
    },
    {
      "cell_type": "code",
      "metadata": {
        "id": "9XcuuH6ZfMsD",
        "colab_type": "code",
        "outputId": "c2c0018f-f409-4fcc-b8c4-6f485624b21c",
        "colab": {
          "base_uri": "https://localhost:8080/",
          "height": 51
        }
      },
      "source": [
        "print('Percentage of questions that are not duplicate (is_duplicate = 0): {}%'.format(round(100*height.iloc[0]/height.sum(), 2)))\n",
        "print('Percentage of questions that are duplicate (is_duplicate = 1): {}%'.format(round(100*height.iloc[1]/height.sum(), 2)))"
      ],
      "execution_count": 8,
      "outputs": [
        {
          "output_type": "stream",
          "text": [
            "Percentage of questions that are not duplicate (is_duplicate = 0): 63.08%\n",
            "Percentage of questions that are duplicate (is_duplicate = 1): 36.92%\n"
          ],
          "name": "stdout"
        }
      ]
    },
    {
      "cell_type": "markdown",
      "metadata": {
        "id": "68ZYcFqlvMT2",
        "colab_type": "text"
      },
      "source": [
        "Observation(s): \n",
        "* As we can see here, the distribution of class on is_duplicate column is imbalance. Hence, it's a good idea to use *Binary Confusion Matrix* as a secondary performance metric.\n"
      ]
    },
    {
      "cell_type": "markdown",
      "metadata": {
        "id": "l9YtJz-ulnIv",
        "colab_type": "text"
      },
      "source": [
        "### 3.2.2 Number of unique questions\n",
        "\n",
        "We can consider a unique question as a question that was mentioned or partnered in this dataset only once, and the repeated questions are those that were partnered more than once."
      ]
    },
    {
      "cell_type": "code",
      "metadata": {
        "id": "cFGZViOvj6Gn",
        "colab_type": "code",
        "outputId": "c5ec7fd5-de7b-4630-9d55-9780586c8293",
        "colab": {
          "base_uri": "https://localhost:8080/",
          "height": 390
        }
      },
      "source": [
        "q1_plus_q2 = pd.concat([df['qid1'], df['qid2']])\n",
        "\n",
        "unique_questions = q1_plus_q2.unique()\n",
        "question_frequency = q1_plus_q2.value_counts()\n",
        "questions_occured_more_than_once = question_frequency > 1\n",
        "repeated_questions = np.sum(questions_occured_more_than_once)\n",
        "max_repeated_question = question_frequency[questions_occured_more_than_once].max()\n",
        "\n",
        "height = [len(unique_questions), repeated_questions]\n",
        "fig, ax = plt.subplots(figsize=(8, 6))\n",
        "rects = ax.bar(x=['Unique Questions', 'Repeated Questions'], \n",
        "               height=height, color=['mediumseagreen', 'darkorange'])\n",
        "put_label(rects, height, ax)\n",
        "plt.title('Representation of Unique and Repeated Questions')\n",
        "plt.show()"
      ],
      "execution_count": 9,
      "outputs": [
        {
          "output_type": "display_data",
          "data": {
            "image/png": "[encoded data removed]",
            "text/plain": [
              "<Figure size 576x432 with 1 Axes>"
            ]
          },
          "metadata": {
            "tags": [],
            "needs_background": "light"
          }
        }
      ]
    },
    {
      "cell_type": "code",
      "metadata": {
        "id": "pl2eO6Ek09PP",
        "colab_type": "code",
        "colab": {}
      },
      "source": [
        "# fig, ax = plt.subplots(nrows=1, ncols=2, figsize=(12, 5))\n",
        "# fig.suptitle('Distribution of Mean Class in Repeated Questions')\n",
        "# sns.distplot(a=df.loc[(df['qid1'].isin(question_frequency[questions_occured_more_than_once].index)) |\n",
        "#        (df['qid2'].isin(question_frequency[questions_occured_more_than_once].index))].groupby('qid1').mean()['is_duplicate'], \n",
        "#              color='blue', label='qid1',ax=ax[0])\n",
        "# sns.distplot(a=df.loc[(df['qid1'].isin(question_frequency[questions_occured_more_than_once].index)) |\n",
        "#        (df['qid2'].isin(question_frequency[questions_occured_more_than_once].index))].groupby('qid2').mean()['is_duplicate'], \n",
        "#              color='orange', label='qid2', ax=ax[1])\n",
        "# fig.legend()\n",
        "# plt.show()"
      ],
      "execution_count": 0,
      "outputs": []
    },
    {
      "cell_type": "code",
      "metadata": {
        "id": "LWxW2wVMBP7b",
        "colab_type": "code",
        "colab": {}
      },
      "source": [
        "# fig, ax = plt.subplots(nrows=1, ncols=2, figsize=(12, 5))\n",
        "# fig.suptitle('Distribution of Mean Class in Unique Questions')\n",
        "# sns.distplot(a=df.loc[(df['qid1'].isin(unique_questions)) |\n",
        "#        (df['qid2'].isin(unique_questions))].groupby('qid1').mean()['is_duplicate'], \n",
        "#              color='blue', label='qid1',ax=ax[0])\n",
        "# sns.distplot(a=df.loc[(df['qid1'].isin(unique_questions)) |\n",
        "#        (df['qid2'].isin(unique_questions))].groupby('qid2').mean()['is_duplicate'], \n",
        "#              color='orange', label='qid2', ax=ax[1])\n",
        "# fig.legend()\n",
        "# plt.show()"
      ],
      "execution_count": 0,
      "outputs": []
    },
    {
      "cell_type": "markdown",
      "metadata": {
        "id": "hoXg9a-Crxn5",
        "colab_type": "text"
      },
      "source": [
        "### 3.2.3 Checking for Duplicate Datapoints"
      ]
    },
    {
      "cell_type": "code",
      "metadata": {
        "id": "nsQfEAzAmTb8",
        "colab_type": "code",
        "outputId": "f02f345c-8057-4f39-b2cd-3961dd401d9b",
        "colab": {
          "base_uri": "https://localhost:8080/",
          "height": 34
        }
      },
      "source": [
        "duplicate_df = df.groupby(['qid1', 'qid2']).count() > 1\n",
        "print('Total number of duplicate datapoints: %d' % np.sum(duplicate_df['id']))"
      ],
      "execution_count": 12,
      "outputs": [
        {
          "output_type": "stream",
          "text": [
            "Total number of duplicate datapoints: 0\n"
          ],
          "name": "stdout"
        }
      ]
    },
    {
      "cell_type": "markdown",
      "metadata": {
        "id": "xPzdFSI0Dv-g",
        "colab_type": "text"
      },
      "source": [
        "Observation(s): \n",
        "* There are no duplicate pairs of questions in the dataset. However, there are 111,780 repeated questions, this questions might be those of the Frequently Asked Questions in Quora."
      ]
    },
    {
      "cell_type": "markdown",
      "metadata": {
        "id": "YVUtggZ4tWW_",
        "colab_type": "text"
      },
      "source": [
        "### 3.2.4 Number of occurrences of each question"
      ]
    },
    {
      "cell_type": "code",
      "metadata": {
        "id": "evj3NdG5sOJX",
        "colab_type": "code",
        "outputId": "0797baae-a28a-4715-f83f-f64224277b0b",
        "colab": {
          "base_uri": "https://localhost:8080/",
          "height": 427
        }
      },
      "source": [
        "fig, ax = plt.subplots(figsize=(20, 10))\n",
        "ax.set_title('Log-Histogram of question appearance counts')\n",
        "ax.hist(x=question_frequency, bins=160, color='orange')\n",
        "ax.set_yscale('log')\n",
        "ax.set_xlabel('Question Occurences')\n",
        "ax.set_ylabel('Number of Questions')\n",
        "plt.show()"
      ],
      "execution_count": 13,
      "outputs": [
        {
          "output_type": "display_data",
          "data": {
            "image/png": "[encoded data removed]",
            "text/plain": [
              "<Figure size 1440x720 with 1 Axes>"
            ]
          },
          "metadata": {
            "tags": [],
            "needs_background": "light"
          }
        }
      ]
    },
    {
      "cell_type": "markdown",
      "metadata": {
        "id": "iWfXxp6wwBjF",
        "colab_type": "text"
      },
      "source": [
        "### 3.2.5 Checking for NULL values"
      ]
    },
    {
      "cell_type": "code",
      "metadata": {
        "id": "-uDXy8t8t5Fl",
        "colab_type": "code",
        "outputId": "561e2764-6fe5-4973-b909-dac869fc4e08",
        "colab": {
          "base_uri": "https://localhost:8080/",
          "height": 193
        }
      },
      "source": [
        "rows_with_null = df[df.isnull().any(1)]\n",
        "rows_with_null"
      ],
      "execution_count": 14,
      "outputs": [
        {
          "output_type": "execute_result",
          "data": {
            "text/html": [
              "<div>\n",
              "<style scoped>\n",
              "    .dataframe tbody tr th:only-of-type {\n",
              "        vertical-align: middle;\n",
              "    }\n",
              "\n",
              "    .dataframe tbody tr th {\n",
              "        vertical-align: top;\n",
              "    }\n",
              "\n",
              "    .dataframe thead th {\n",
              "        text-align: right;\n",
              "    }\n",
              "</style>\n",
              "<table border=\"1\" class=\"dataframe\">\n",
              "  <thead>\n",
              "    <tr style=\"text-align: right;\">\n",
              "      <th></th>\n",
              "      <th>id</th>\n",
              "      <th>qid1</th>\n",
              "      <th>qid2</th>\n",
              "      <th>question1</th>\n",
              "      <th>question2</th>\n",
              "      <th>is_duplicate</th>\n",
              "    </tr>\n",
              "  </thead>\n",
              "  <tbody>\n",
              "    <tr>\n",
              "      <th>105780</th>\n",
              "      <td>105780</td>\n",
              "      <td>174363</td>\n",
              "      <td>174364</td>\n",
              "      <td>How can I develop android app?</td>\n",
              "      <td>NaN</td>\n",
              "      <td>0</td>\n",
              "    </tr>\n",
              "    <tr>\n",
              "      <th>201841</th>\n",
              "      <td>201841</td>\n",
              "      <td>303951</td>\n",
              "      <td>174364</td>\n",
              "      <td>How can I create an Android app?</td>\n",
              "      <td>NaN</td>\n",
              "      <td>0</td>\n",
              "    </tr>\n",
              "    <tr>\n",
              "      <th>363362</th>\n",
              "      <td>363362</td>\n",
              "      <td>493340</td>\n",
              "      <td>493341</td>\n",
              "      <td>NaN</td>\n",
              "      <td>My Chinese name is Haichao Yu. What English na...</td>\n",
              "      <td>0</td>\n",
              "    </tr>\n",
              "  </tbody>\n",
              "</table>\n",
              "</div>"
            ],
            "text/plain": [
              "            id  ...  is_duplicate\n",
              "105780  105780  ...             0\n",
              "201841  201841  ...             0\n",
              "363362  363362  ...             0\n",
              "\n",
              "[3 rows x 6 columns]"
            ]
          },
          "metadata": {
            "tags": []
          },
          "execution_count": 14
        }
      ]
    },
    {
      "cell_type": "markdown",
      "metadata": {
        "id": "ibiR8aViwfEj",
        "colab_type": "text"
      },
      "source": [
        "There are 2 rows with NaN/Null column value on question2, and 1 row on question1. We can fill those null values with an empty string as this datapoints are not duplicate."
      ]
    },
    {
      "cell_type": "code",
      "metadata": {
        "id": "QgrtEIhTwEaB",
        "colab_type": "code",
        "outputId": "b0e72c85-4ff8-4056-b356-6e2bbabb6d6d",
        "colab": {
          "base_uri": "https://localhost:8080/",
          "height": 49
        }
      },
      "source": [
        "# Fill NaN values with a space\n",
        "df = df.fillna(' ')\n",
        "rows_with_null = df[df.isnull().any(1)]\n",
        "rows_with_null"
      ],
      "execution_count": 15,
      "outputs": [
        {
          "output_type": "execute_result",
          "data": {
            "text/html": [
              "<div>\n",
              "<style scoped>\n",
              "    .dataframe tbody tr th:only-of-type {\n",
              "        vertical-align: middle;\n",
              "    }\n",
              "\n",
              "    .dataframe tbody tr th {\n",
              "        vertical-align: top;\n",
              "    }\n",
              "\n",
              "    .dataframe thead th {\n",
              "        text-align: right;\n",
              "    }\n",
              "</style>\n",
              "<table border=\"1\" class=\"dataframe\">\n",
              "  <thead>\n",
              "    <tr style=\"text-align: right;\">\n",
              "      <th></th>\n",
              "      <th>id</th>\n",
              "      <th>qid1</th>\n",
              "      <th>qid2</th>\n",
              "      <th>question1</th>\n",
              "      <th>question2</th>\n",
              "      <th>is_duplicate</th>\n",
              "    </tr>\n",
              "  </thead>\n",
              "  <tbody>\n",
              "  </tbody>\n",
              "</table>\n",
              "</div>"
            ],
            "text/plain": [
              "Empty DataFrame\n",
              "Columns: [id, qid1, qid2, question1, question2, is_duplicate]\n",
              "Index: []"
            ]
          },
          "metadata": {
            "tags": []
          },
          "execution_count": 15
        }
      ]
    },
    {
      "cell_type": "markdown",
      "metadata": {
        "id": "7vFytKEK1Y-a",
        "colab_type": "text"
      },
      "source": [
        "## 3.3 Basic Feature Extraction (before cleaning)"
      ]
    },
    {
      "cell_type": "markdown",
      "metadata": {
        "id": "cMK172A51c-V",
        "colab_type": "text"
      },
      "source": [
        "Let us now construct a few features like:\n",
        " - ____freq_qid1____ = Frequency of qid1's\n",
        " - ____freq_qid2____ = Frequency of qid2's \n",
        " - ____q1len____ = Length of q1\n",
        " - ____q2len____ = Length of q2\n",
        " - ____q1_n_words____ = Number of words in Question 1\n",
        " - ____q2_n_words____ = Number of words in Question 2\n",
        " - ____word_Common____ = (Number of common unique words in Question 1 and Question 2)\n",
        " - ____word_Total____ =(Total num of words in Question 1 + Total num of words in Question 2)\n",
        " - ____word_share____ = (word_common)/(word_Total)\n",
        " - ____freq_q1+freq_q2____ = sum total of frequency of qid1 and qid2 \n",
        " - ____freq_q1-freq_q2____ = absolute difference of frequency of qid1 and qid2 "
      ]
    },
    {
      "cell_type": "code",
      "metadata": {
        "id": "pdi281WT_Uml",
        "colab_type": "code",
        "colab": {}
      },
      "source": [
        "# Some helpful functions\n",
        "\n",
        "def get_total_common_words(row):\n",
        "  '''Get the intersection between question1 and question2'''\n",
        "  w1 = set(map(lambda s: s.lower().strip(), row['question1'].split()))\n",
        "  w2 = set(map(lambda s: s.lower().strip(), row['question2'].split()))\n",
        "  return 1.0 * len(w1&w2)\n",
        "\n",
        "def get_total_words(row):\n",
        "  '''Get the union of question1 and question2'''\n",
        "  w1 = set(map(lambda s: s.lower().strip(), row['question1'].split()))\n",
        "  w2 = set(map(lambda s: s.lower().strip(), row['question2'].split()))\n",
        "  return 1.0 * len(w1)+len(w2)"
      ],
      "execution_count": 0,
      "outputs": []
    },
    {
      "cell_type": "code",
      "metadata": {
        "id": "-SH8YqhoxFoJ",
        "colab_type": "code",
        "outputId": "c34ad53e-fc54-4333-8c8e-db494574b883",
        "colab": {
          "base_uri": "https://localhost:8080/",
          "height": 632
        }
      },
      "source": [
        "# IF data is already preprocessed\n",
        "if os.path.isfile(QUORA_DATA_DIR + 'df_fe_without_preprocessing.csv'):\n",
        "  df = pd.read_csv(QUORA_DATA_DIR + 'df_fe_without_preprocessing.csv', encoding='latin-1')\n",
        "\n",
        "else:\n",
        "  df['freq_qid1'] = df.groupby('qid1')['qid1'].transform('count')\n",
        "  df['freq_qid2'] = df.groupby('qid2')['qid2'].transform('count')\n",
        "  df['q1len'] = df['question1'].str.len()\n",
        "  df['q2len'] = df['question2'].str.len()\n",
        "  df['q1_n_words'] = df['question1'].apply(lambda s: len(s.split(' ')))\n",
        "  df['q2_n_words'] = df['question2'].apply(lambda s: len(s.split(' ')))\n",
        "  df['word_Common'] = df[['question1', 'question2']].apply(get_total_common_words, axis=1)\n",
        "  df['word_Total'] = df[['question1', 'question2']].apply(get_total_words, axis=1)\n",
        "  df['word_share'] = df['word_Common']/df['word_Total']\n",
        "  df['freq_q1+freq_q2'] = df['freq_qid1'] + df['freq_qid2']\n",
        "  df['freq_q1-freq_q2'] = np.abs(df['freq_qid1'] - df['freq_qid2'])\n",
        "\n",
        "  # Save as CSV for later use\n",
        "  df.to_csv(QUORA_DATA_DIR + 'df_fe_without_preprocessing.csv', index=False)\n",
        "\n",
        "df.head()"
      ],
      "execution_count": 17,
      "outputs": [
        {
          "output_type": "execute_result",
          "data": {
            "text/html": [
              "<div>\n",
              "<style scoped>\n",
              "    .dataframe tbody tr th:only-of-type {\n",
              "        vertical-align: middle;\n",
              "    }\n",
              "\n",
              "    .dataframe tbody tr th {\n",
              "        vertical-align: top;\n",
              "    }\n",
              "\n",
              "    .dataframe thead th {\n",
              "        text-align: right;\n",
              "    }\n",
              "</style>\n",
              "<table border=\"1\" class=\"dataframe\">\n",
              "  <thead>\n",
              "    <tr style=\"text-align: right;\">\n",
              "      <th></th>\n",
              "      <th>id</th>\n",
              "      <th>qid1</th>\n",
              "      <th>qid2</th>\n",
              "      <th>question1</th>\n",
              "      <th>question2</th>\n",
              "      <th>is_duplicate</th>\n",
              "      <th>freq_qid1</th>\n",
              "      <th>freq_qid2</th>\n",
              "      <th>q1len</th>\n",
              "      <th>q2len</th>\n",
              "      <th>q1_n_words</th>\n",
              "      <th>q2_n_words</th>\n",
              "      <th>word_Common</th>\n",
              "      <th>word_Total</th>\n",
              "      <th>word_share</th>\n",
              "      <th>freq_q1+freq_q2</th>\n",
              "      <th>freq_q1-freq_q2</th>\n",
              "    </tr>\n",
              "  </thead>\n",
              "  <tbody>\n",
              "    <tr>\n",
              "      <th>0</th>\n",
              "      <td>0</td>\n",
              "      <td>1</td>\n",
              "      <td>2</td>\n",
              "      <td>What is the step by step guide to invest in sh...</td>\n",
              "      <td>What is the step by step guide to invest in sh...</td>\n",
              "      <td>0</td>\n",
              "      <td>1</td>\n",
              "      <td>1</td>\n",
              "      <td>66</td>\n",
              "      <td>57</td>\n",
              "      <td>14</td>\n",
              "      <td>12</td>\n",
              "      <td>10.0</td>\n",
              "      <td>23.0</td>\n",
              "      <td>0.434783</td>\n",
              "      <td>2</td>\n",
              "      <td>0</td>\n",
              "    </tr>\n",
              "    <tr>\n",
              "      <th>1</th>\n",
              "      <td>1</td>\n",
              "      <td>3</td>\n",
              "      <td>4</td>\n",
              "      <td>What is the story of Kohinoor (Koh-i-Noor) Dia...</td>\n",
              "      <td>What would happen if the Indian government sto...</td>\n",
              "      <td>0</td>\n",
              "      <td>4</td>\n",
              "      <td>1</td>\n",
              "      <td>51</td>\n",
              "      <td>88</td>\n",
              "      <td>8</td>\n",
              "      <td>13</td>\n",
              "      <td>4.0</td>\n",
              "      <td>20.0</td>\n",
              "      <td>0.200000</td>\n",
              "      <td>5</td>\n",
              "      <td>3</td>\n",
              "    </tr>\n",
              "    <tr>\n",
              "      <th>2</th>\n",
              "      <td>2</td>\n",
              "      <td>5</td>\n",
              "      <td>6</td>\n",
              "      <td>How can I increase the speed of my internet co...</td>\n",
              "      <td>How can Internet speed be increased by hacking...</td>\n",
              "      <td>0</td>\n",
              "      <td>1</td>\n",
              "      <td>1</td>\n",
              "      <td>73</td>\n",
              "      <td>59</td>\n",
              "      <td>14</td>\n",
              "      <td>10</td>\n",
              "      <td>4.0</td>\n",
              "      <td>24.0</td>\n",
              "      <td>0.166667</td>\n",
              "      <td>2</td>\n",
              "      <td>0</td>\n",
              "    </tr>\n",
              "    <tr>\n",
              "      <th>3</th>\n",
              "      <td>3</td>\n",
              "      <td>7</td>\n",
              "      <td>8</td>\n",
              "      <td>Why am I mentally very lonely? How can I solve...</td>\n",
              "      <td>Find the remainder when [math]23^{24}[/math] i...</td>\n",
              "      <td>0</td>\n",
              "      <td>1</td>\n",
              "      <td>1</td>\n",
              "      <td>50</td>\n",
              "      <td>65</td>\n",
              "      <td>11</td>\n",
              "      <td>9</td>\n",
              "      <td>0.0</td>\n",
              "      <td>19.0</td>\n",
              "      <td>0.000000</td>\n",
              "      <td>2</td>\n",
              "      <td>0</td>\n",
              "    </tr>\n",
              "    <tr>\n",
              "      <th>4</th>\n",
              "      <td>4</td>\n",
              "      <td>9</td>\n",
              "      <td>10</td>\n",
              "      <td>Which one dissolve in water quikly sugar, salt...</td>\n",
              "      <td>Which fish would survive in salt water?</td>\n",
              "      <td>0</td>\n",
              "      <td>3</td>\n",
              "      <td>1</td>\n",
              "      <td>76</td>\n",
              "      <td>39</td>\n",
              "      <td>13</td>\n",
              "      <td>7</td>\n",
              "      <td>2.0</td>\n",
              "      <td>20.0</td>\n",
              "      <td>0.100000</td>\n",
              "      <td>4</td>\n",
              "      <td>2</td>\n",
              "    </tr>\n",
              "  </tbody>\n",
              "</table>\n",
              "</div>"
            ],
            "text/plain": [
              "   id  qid1  qid2  ... word_share freq_q1+freq_q2  freq_q1-freq_q2\n",
              "0   0     1     2  ...   0.434783               2                0\n",
              "1   1     3     4  ...   0.200000               5                3\n",
              "2   2     5     6  ...   0.166667               2                0\n",
              "3   3     7     8  ...   0.000000               2                0\n",
              "4   4     9    10  ...   0.100000               4                2\n",
              "\n",
              "[5 rows x 17 columns]"
            ]
          },
          "metadata": {
            "tags": []
          },
          "execution_count": 17
        }
      ]
    },
    {
      "cell_type": "markdown",
      "metadata": {
        "id": "YXW07s63BSq6",
        "colab_type": "text"
      },
      "source": [
        "### 3.3.1 Analysis of some of the Extracted Features"
      ]
    },
    {
      "cell_type": "code",
      "metadata": {
        "id": "EiEgsb-pA544",
        "colab_type": "code",
        "outputId": "8f57628a-4d15-4fbb-837f-393b7a0eef6b",
        "colab": {
          "base_uri": "https://localhost:8080/",
          "height": 85
        }
      },
      "source": [
        "print (\"Minimum length of the questions in question1 : \" , min(df['q1_n_words']))\n",
        "\n",
        "print (\"Minimum length of the questions in question2 : \" , min(df['q2_n_words']))\n",
        "\n",
        "print (\"Number of Questions with minimum length [question1] :\", df[df['q1_n_words']== 1].shape[0])\n",
        "print (\"Number of Questions with minimum length [question2] :\", df[df['q2_n_words']== 1].shape[0])"
      ],
      "execution_count": 18,
      "outputs": [
        {
          "output_type": "stream",
          "text": [
            "Minimum length of the questions in question1 :  1\n",
            "Minimum length of the questions in question2 :  1\n",
            "Number of Questions with minimum length [question1] : 66\n",
            "Number of Questions with minimum length [question2] : 22\n"
          ],
          "name": "stdout"
        }
      ]
    },
    {
      "cell_type": "markdown",
      "metadata": {
        "id": "bUivU78kHs32",
        "colab_type": "text"
      },
      "source": [
        "#### 3.3.1.2 Feature: word_Common\n",
        "Let's see how useful the word_Common column on predicting duplicate and non-duplicate questions."
      ]
    },
    {
      "cell_type": "code",
      "metadata": {
        "id": "wFwcAoWBDFTc",
        "colab_type": "code",
        "outputId": "bea2b0fd-fd85-4d47-8409-5fd0813b5c9b",
        "colab": {
          "base_uri": "https://localhost:8080/",
          "height": 449
        }
      },
      "source": [
        "plt.figure(figsize=(15, 8))\n",
        "\n",
        "# Violin Plot\n",
        "plt.subplot(121)\n",
        "sns.violinplot(x='is_duplicate', y='word_Common', data=df)\n",
        "plt.xticks(ticks=[0, 1], labels=['Not Duplicate', 'Duplicate'])\n",
        "plt.xlabel('')\n",
        "\n",
        "# Distribution Plot\n",
        "plt.subplot(122)\n",
        "sns.distplot(a=df.loc[df['is_duplicate']==0, 'word_Common'], \n",
        "             color='blue', label='Not Duplicate')\n",
        "sns.distplot(a=df.loc[df['is_duplicate']==1, 'word_Common'], \n",
        "             color='red', label='Duplicate')\n",
        "plt.legend()\n",
        "plt.show()"
      ],
      "execution_count": 19,
      "outputs": [
        {
          "output_type": "display_data",
          "data": {
            "image/png": "[encoded data removed]",
            "text/plain": [
              "<Figure size 1080x576 with 2 Axes>"
            ]
          },
          "metadata": {
            "tags": [],
            "needs_background": "light"
          }
        }
      ]
    },
    {
      "cell_type": "markdown",
      "metadata": {
        "id": "ojP3Ixr3PUxv",
        "colab_type": "text"
      },
      "source": [
        "Observation(s):\n",
        "* The distribution of word_Common in duplicate and non-duplicate questions are overlapped"
      ]
    },
    {
      "cell_type": "markdown",
      "metadata": {
        "id": "TYM2myDXBYUB",
        "colab_type": "text"
      },
      "source": [
        "#### 3.3.1.2 Feature: word_share"
      ]
    },
    {
      "cell_type": "code",
      "metadata": {
        "id": "EnnCF1V6BU_G",
        "colab_type": "code",
        "outputId": "ec330367-56f9-41a5-a5a6-efb133754220",
        "colab": {
          "base_uri": "https://localhost:8080/",
          "height": 447
        }
      },
      "source": [
        "plt.figure(figsize=(15, 8))\n",
        "\n",
        "# Violin Plot\n",
        "plt.subplot(121)\n",
        "sns.violinplot(x='is_duplicate', y='word_share', data=df)\n",
        "plt.xticks(ticks=[0, 1], labels=['Not Duplicate', 'Duplicate'])\n",
        "plt.xlabel('')\n",
        "\n",
        "# Distribution Plot\n",
        "plt.subplot(122)\n",
        "sns.distplot(a=df.loc[df['is_duplicate']==0, 'word_share'], \n",
        "             color='blue', label='Not Duplicate')\n",
        "sns.distplot(a=df.loc[df['is_duplicate']==1, 'word_share'], \n",
        "             color='red', label='Duplicate')\n",
        "plt.legend()\n",
        "plt.show()"
      ],
      "execution_count": 20,
      "outputs": [
        {
          "output_type": "display_data",
          "data": {
            "image/png": "[encoded data removed]",
            "text/plain": [
              "<Figure size 1080x576 with 2 Axes>"
            ]
          },
          "metadata": {
            "tags": [],
            "needs_background": "light"
          }
        }
      ]
    },
    {
      "cell_type": "markdown",
      "metadata": {
        "id": "5Yts5K1ENCdc",
        "colab_type": "text"
      },
      "source": [
        "Observations: \n",
        "* We can see some overlapping area in the distribution plot but we can also see an area where the duplicate and non-duplicate questions are separated. This means that word_share might be a good predictor.\n",
        "* There is an obvious peak of distribution on the minimum value of word share on the non-duplicate class.\n",
        "* Duplicate questions seems to have a larger average word share than non-duplicate ones."
      ]
    },
    {
      "cell_type": "markdown",
      "metadata": {
        "id": "jRuahJBYQl1X",
        "colab_type": "text"
      },
      "source": [
        "## 3.4 Preprocessing of Text\n",
        "- Preprocessing:\n",
        "    - Removing html tags \n",
        "    - Removing Punctuations\n",
        "    - Performing stemming\n",
        "    - Removing Stopwords\n",
        "    - Expanding contractions etc."
      ]
    },
    {
      "cell_type": "code",
      "metadata": {
        "id": "Y8wcqbNAQZou",
        "colab_type": "code",
        "colab": {}
      },
      "source": [
        "# Create Text Preprocessing Functions\n",
        "try:\n",
        "    STOPWORDS = stopwords.words('english')\n",
        "except:\n",
        "  nltk.download('stopwords')\n",
        "  STOPWORDS = stopwords.words('english')\n",
        "\n",
        "def to_lower(string):\n",
        "  return string.lower()\n",
        "\n",
        "def remove_html_tags(string):\n",
        "  return re.sub('<.+?>', ' ', string).strip()\n",
        "\n",
        "def remove_punctuations(string):\n",
        "  pattern = re.compile('/W')\n",
        "  return re.sub(pattern, ' ', string)\n",
        "\n",
        "def stem(string):\n",
        "  snowball = SnowballStemmer(language='english')\n",
        "  return snowball.stem(string)\n",
        "\n",
        "def remove_stop_words(string):\n",
        "  return ' '.join(s for s in string.split() if s.lower() in STOPWORDS)\n",
        "\n",
        "def decontract(string):\n",
        "  string = string.replace(\",000,000\", \"m\").replace(\",000\", \"k\").replace(\"′\", \"'\").replace(\"’\", \"'\")\\\n",
        "                                          .replace(\"won't\", \"will not\").replace(\"cannot\", \"can not\").replace(\"can't\", \"can not\")\\\n",
        "                                          .replace(\"n't\", \" not\").replace(\"what's\", \"what is\").replace(\"it's\", \"it is\")\\\n",
        "                                          .replace(\"'ve\", \" have\").replace(\"i'm\", \"i am\").replace(\"'re\", \" are\")\\\n",
        "                                          .replace(\"he's\", \"he is\").replace(\"she's\", \"she is\").replace(\"'s\", \" own\")\\\n",
        "                                          .replace(\"%\", \" percent \").replace(\"₹\", \" rupee \").replace(\"$\", \" dollar \")\\\n",
        "                                          .replace(\"€\", \" euro \").replace(\"'ll\", \" will\")\n",
        "  string = re.sub(r\"([0-9]+)000000\", r\"\\1m\", string)\n",
        "  string = re.sub(r\"([0-9]+)000\", r\"\\1k\", string)\n",
        "  return string"
      ],
      "execution_count": 0,
      "outputs": []
    },
    {
      "cell_type": "code",
      "metadata": {
        "id": "lojleYl9bwhk",
        "colab_type": "code",
        "colab": {}
      },
      "source": [
        "def preprocess(string, remove_stopwords=False):\n",
        "  if isinstance(string, str):\n",
        "    string = to_lower(string)\n",
        "    string = remove_html_tags(string)\n",
        "    string = remove_punctuations(string)\n",
        "    string = stem(string)\n",
        "    string = decontract(string)\n",
        "\n",
        "    if remove_stopwords:\n",
        "      string = remove_stop_words(string)\n",
        "\n",
        "  return string"
      ],
      "execution_count": 0,
      "outputs": []
    },
    {
      "cell_type": "markdown",
      "metadata": {
        "id": "aQITpgPGWYHR",
        "colab_type": "text"
      },
      "source": [
        "## 3.5 Advanced Feature Extraction (NLP and Fuzzy Features)"
      ]
    },
    {
      "cell_type": "markdown",
      "metadata": {
        "id": "UCROzKW2V84Q",
        "colab_type": "text"
      },
      "source": [
        "Some Definition of Terms:\n",
        "- __Token__: You get a token by splitting sentence a space\n",
        "- __Stop_Word__ : stop words as per NLTK.\n",
        "- __Word__ : A token that is not a stop_word\n",
        "\n",
        "\n",
        "Features:\n",
        "- __cwc_min__ :  Ratio of common_word_count to min lenghth of word count of Q1 and Q2 <br>cwc_min = common_word_count / (min(len(q1_words), len(q2_words))\n",
        "<br>\n",
        "\n",
        "- __cwc_max__ :  Ratio of common_word_count to max lenghth of word count of Q1 and Q2 <br>cwc_max = common_word_count / (max(len(q1_words), len(q2_words))\n",
        "<br>\n",
        "\n",
        "- __csc_min__ :  Ratio of common_stop_count to min lenghth of stop count of Q1 and Q2 <br> csc_min = common_stop_count / (min(len(q1_stops), len(q2_stops))\n",
        "<br>\n",
        "\n",
        "- __csc_max__ :  Ratio of common_stop_count to max lenghth of stop count of Q1 and Q2<br>csc_max = common_stop_count / (max(len(q1_stops), len(q2_stops))\n",
        "<br>\n",
        "\n",
        "- __ctc_min__ :  Ratio of common_token_count to min lenghth of token count of Q1 and Q2<br>ctc_min = common_token_count / (min(len(q1_tokens), len(q2_tokens))\n",
        "<br>\n",
        "\n",
        "- __ctc_max__ :  Ratio of common_token_count to max lenghth of token count of Q1 and Q2<br>ctc_max = common_token_count / (max(len(q1_tokens), len(q2_tokens))\n",
        "<br>\n",
        "        \n",
        "- __last_word_eq__ :  Check if First word of both questions is equal or not<br>last_word_eq = int(q1_tokens[-1] == q2_tokens[-1])\n",
        "<br>\n",
        "\n",
        "- __first_word_eq__ :  Check if First word of both questions is equal or not<br>first_word_eq = int(q1_tokens[0] == q2_tokens[0])\n",
        "<br>\n",
        "        \n",
        "- __abs_len_diff__ :  Abs. length difference<br>abs_len_diff = abs(len(q1_tokens) - len(q2_tokens))\n",
        "<br>\n",
        "\n",
        "- __mean_len__ :  Average Token Length of both Questions<br>mean_len = (len(q1_tokens) + len(q2_tokens))/2\n",
        "<br>\n",
        "\n",
        "\n",
        "- __fuzz_ratio__ :  https://github.com/seatgeek/fuzzywuzzy#usage\n",
        "http://chairnerd.seatgeek.com/fuzzywuzzy-fuzzy-string-matching-in-python/\n",
        "<br>\n",
        "\n",
        "- __fuzz_partial_ratio__ :  https://github.com/seatgeek/fuzzywuzzy#usage\n",
        "http://chairnerd.seatgeek.com/fuzzywuzzy-fuzzy-string-matching-in-python/\n",
        "<br>\n",
        "\n",
        "- __token_sort_ratio__ : https://github.com/seatgeek/fuzzywuzzy#usage\n",
        "http://chairnerd.seatgeek.com/fuzzywuzzy-fuzzy-string-matching-in-python/\n",
        "<br>\n",
        "\n",
        "- __token_set_ratio__ : https://github.com/seatgeek/fuzzywuzzy#usage\n",
        "http://chairnerd.seatgeek.com/fuzzywuzzy-fuzzy-string-matching-in-python/\n",
        "<br>\n",
        "\n",
        "- __longest_substr_ratio__ :  Ratio of length longest common substring to min lenghth of token count of Q1 and Q2<br>longest_substr_ratio = len(longest common substring) / (min(len(q1_tokens), len(q2_tokens))"
      ]
    },
    {
      "cell_type": "code",
      "metadata": {
        "id": "70im3R2tTBP7",
        "colab_type": "code",
        "colab": {}
      },
      "source": [
        "# To get the results in 4 decemal points\n",
        "EPSILON = 0.0001 \n",
        "\n",
        "# Create Feature Extraction Functions\n",
        "\n",
        "def get_token_features(q1, q2):\n",
        "  '''Extract the first 10 features defined above'''\n",
        "  token_features = [0.0]*10\n",
        "\n",
        "  # q1 and q2 tokens\n",
        "  q1_token = q1.split()\n",
        "  q2_token = q2.split()\n",
        "\n",
        "  # If q1 or q2 is an empty string\n",
        "  if not q1_token or not q2_token:\n",
        "    return token_features\n",
        "\n",
        "  # q1 and q2 stop words\n",
        "  q1_stopwords = set([s for s in q1_token if s in STOPWORDS])\n",
        "  q2_stopwords = set([s for s in q2_token if s in STOPWORDS])\n",
        "\n",
        "  # q1 and q2 words\n",
        "  q1_words = set([s for s in q1_token if s not in STOPWORDS])\n",
        "  q2_words = set([s for s in q2_token if s not in STOPWORDS])\n",
        "\n",
        "  # common token in q1 and q2\n",
        "  common_token = len(set(q1_token).intersection(set(q2_token)))\n",
        "\n",
        "  # common stop words in q1 and q2\n",
        "  common_stopwords = len(q1_stopwords.intersection(q2_stopwords))\n",
        "\n",
        "  # common words in q1 and q2\n",
        "  common_words = len(q1_words.intersection(q2_words))\n",
        "\n",
        "  # cwc_min and cwc_max\n",
        "  token_features[0] = common_words/(min(len(q1_words), len(q2_words)) + EPSILON)\n",
        "  token_features[1] = common_words/(max(len(q1_words), len(q2_words)) + EPSILON)\n",
        "  \n",
        "  # csc_min and csc_max\n",
        "  token_features[2] = common_stopwords/(min(len(q1_stopwords), len(q2_stopwords)) + EPSILON)\n",
        "  token_features[3] = common_stopwords/(max(len(q1_stopwords), len(q2_stopwords)) + EPSILON)\n",
        "\n",
        "  # ctc_min and ctc_max\n",
        "  token_features[4] = common_token/(min(len(q2_token), len(q2_token)) + EPSILON)\n",
        "  token_features[5] = common_token/(max(len(q2_token), len(q2_token)) + EPSILON)\n",
        "\n",
        "  # q1 and q2 last token are equal\n",
        "  token_features[6] = int(q1_token[-1] == q2_token[-1])\n",
        "\n",
        "  # q1 and q2 first token are equal\n",
        "  token_features[7] = int(q1_token[0] == q2_token[0])\n",
        "\n",
        "  # Abs. length difference of q1 and q2 tokens\n",
        "  token_features[8] = np.abs(len(q1_token) - len(q2_token))\n",
        "\n",
        "  # Average Token Length of q1 and q2\n",
        "  token_features[9] = (len(q1_token) + len(q2_token))/2\n",
        "\n",
        "  return token_features\n",
        "\n",
        "def get_longest_substr_ratio(a, b):\n",
        "    strs = list(distance.lcsubstrings(a, b))\n",
        "    if len(strs) == 0:\n",
        "        return 0\n",
        "    else:\n",
        "        return len(strs[0]) / (min(len(a), len(b)) + 1)"
      ],
      "execution_count": 0,
      "outputs": []
    },
    {
      "cell_type": "code",
      "metadata": {
        "id": "0rPMMR1MXTrt",
        "colab_type": "code",
        "colab": {}
      },
      "source": [
        "# Create Feature Extraction Pipeline\n",
        "def extract_features(_df):\n",
        "  # Create a DF copy\n",
        "  _df = _df.copy()\n",
        "\n",
        "  print('[1/3] Preprocessing Questions....')\n",
        "  # Preprocess Q1 and Q2\n",
        "  _df['question1'] = _df['question1'].apply(preprocess)\n",
        "  _df['question2'] = _df['question2'].apply(preprocess)\n",
        "\n",
        "  print('[2/3] Extracting the first 10 features....')\n",
        "  # Get the first 10 advanced features\n",
        "  token_features = _df.apply(lambda x: get_token_features(x['question1'], x['question2']), axis=1)\n",
        "\n",
        "  _df[\"cwc_min\"] = list(map(lambda x: x[0], token_features))\n",
        "  _df[\"cwc_max\"] = list(map(lambda x: x[1], token_features))\n",
        "  _df[\"csc_min\"] = list(map(lambda x: x[2], token_features))\n",
        "  _df[\"csc_max\"] = list(map(lambda x: x[3], token_features))\n",
        "  _df[\"ctc_min\"] = list(map(lambda x: x[4], token_features))\n",
        "  _df[\"ctc_max\"] = list(map(lambda x: x[5], token_features))\n",
        "  _df[\"last_word_eq\"] = list(map(lambda x: x[6], token_features))\n",
        "  _df[\"first_word_eq\"] = list(map(lambda x: x[7], token_features))\n",
        "  _df[\"abs_len_diff\"] = list(map(lambda x: x[8], token_features))\n",
        "  _df[\"mean_len\"] = list(map(lambda x: x[9], token_features))\n",
        "\n",
        "  print('[3/3] Extracting the FuzzyWuzzy features....')\n",
        "  # Fuzzywuzzy features\n",
        "  _df['token_set_ratio'] = df.apply(lambda x: fuzz.token_set_ratio(x['question1'], x['question2']), axis=1)\n",
        "  _df['token_sort_ratio'] = df.apply(lambda x: fuzz.token_sort_ratio(x['question1'], x['question2']), axis=1)\n",
        "  _df['fuzz_ratio'] = df.apply(lambda x: fuzz.QRatio(x['question1'], x['question2']), axis=1)\n",
        "  _df['fuzz_partial_ratio'] = df.apply(lambda x: fuzz.partial_ratio(x['question1'], x['question2']), axis=1)\n",
        "  _df['longest_substr_ratio'] = df.apply(lambda x: get_longest_substr_ratio(x['question1'], x['question2']), axis=1)\n",
        "\n",
        "  return _df"
      ],
      "execution_count": 0,
      "outputs": []
    },
    {
      "cell_type": "code",
      "metadata": {
        "id": "obAW_IX6X5bx",
        "colab_type": "code",
        "colab": {
          "base_uri": "https://localhost:8080/",
          "height": 352
        },
        "outputId": "49bc4071-eecd-4560-8905-27ca61a08ed7"
      },
      "source": [
        "if os.path.isfile(QUORA_DATA_DIR + 'nlp_features_train.csv'):\n",
        "    df = pd.read_csv(QUORA_DATA_DIR + 'nlp_features_train.csv',encoding='latin-1')\n",
        "else:\n",
        "    print('Extracting features for train:')\n",
        "    df = extract_features(df)\n",
        "    df.to_csv(QUORA_DATA_DIR + 'nlp_features_train.csv', index=False)\n",
        "df.head(2)"
      ],
      "execution_count": 50,
      "outputs": [
        {
          "output_type": "stream",
          "text": [
            "Extracting features for train:\n",
            "[1/3] Preprocessing Questions....\n",
            "[2/3] Extracting the first 10 features....\n",
            "[3/3] Extracting the FuzzyWuzzy features....\n"
          ],
          "name": "stdout"
        },
        {
          "output_type": "execute_result",
          "data": {
            "text/html": [
              "<div>\n",
              "<style scoped>\n",
              "    .dataframe tbody tr th:only-of-type {\n",
              "        vertical-align: middle;\n",
              "    }\n",
              "\n",
              "    .dataframe tbody tr th {\n",
              "        vertical-align: top;\n",
              "    }\n",
              "\n",
              "    .dataframe thead th {\n",
              "        text-align: right;\n",
              "    }\n",
              "</style>\n",
              "<table border=\"1\" class=\"dataframe\">\n",
              "  <thead>\n",
              "    <tr style=\"text-align: right;\">\n",
              "      <th></th>\n",
              "      <th>id</th>\n",
              "      <th>qid1</th>\n",
              "      <th>qid2</th>\n",
              "      <th>question1</th>\n",
              "      <th>question2</th>\n",
              "      <th>is_duplicate</th>\n",
              "      <th>freq_qid1</th>\n",
              "      <th>freq_qid2</th>\n",
              "      <th>q1len</th>\n",
              "      <th>q2len</th>\n",
              "      <th>q1_n_words</th>\n",
              "      <th>q2_n_words</th>\n",
              "      <th>word_Common</th>\n",
              "      <th>word_Total</th>\n",
              "      <th>word_share</th>\n",
              "      <th>freq_q1+freq_q2</th>\n",
              "      <th>freq_q1-freq_q2</th>\n",
              "      <th>cwc_min</th>\n",
              "      <th>cwc_max</th>\n",
              "      <th>csc_min</th>\n",
              "      <th>csc_max</th>\n",
              "      <th>ctc_min</th>\n",
              "      <th>ctc_max</th>\n",
              "      <th>last_word_eq</th>\n",
              "      <th>first_word_eq</th>\n",
              "      <th>abs_len_diff</th>\n",
              "      <th>mean_len</th>\n",
              "      <th>token_set_ratio</th>\n",
              "      <th>token_sort_ratio</th>\n",
              "      <th>fuzz_ratio</th>\n",
              "      <th>fuzz_partial_ratio</th>\n",
              "      <th>longest_substr_ratio</th>\n",
              "    </tr>\n",
              "  </thead>\n",
              "  <tbody>\n",
              "    <tr>\n",
              "      <th>0</th>\n",
              "      <td>0</td>\n",
              "      <td>1</td>\n",
              "      <td>2</td>\n",
              "      <td>what is the step by step guide to invest in sh...</td>\n",
              "      <td>what is the step by step guide to invest in sh...</td>\n",
              "      <td>0</td>\n",
              "      <td>1</td>\n",
              "      <td>1</td>\n",
              "      <td>66</td>\n",
              "      <td>57</td>\n",
              "      <td>14</td>\n",
              "      <td>12</td>\n",
              "      <td>10.0</td>\n",
              "      <td>23.0</td>\n",
              "      <td>0.434783</td>\n",
              "      <td>2</td>\n",
              "      <td>0</td>\n",
              "      <td>0.799984</td>\n",
              "      <td>0.666656</td>\n",
              "      <td>0.999983</td>\n",
              "      <td>0.999983</td>\n",
              "      <td>0.833326</td>\n",
              "      <td>0.833326</td>\n",
              "      <td>0.0</td>\n",
              "      <td>1.0</td>\n",
              "      <td>2.0</td>\n",
              "      <td>13.0</td>\n",
              "      <td>100</td>\n",
              "      <td>93</td>\n",
              "      <td>93</td>\n",
              "      <td>98</td>\n",
              "      <td>0.965517</td>\n",
              "    </tr>\n",
              "    <tr>\n",
              "      <th>1</th>\n",
              "      <td>1</td>\n",
              "      <td>3</td>\n",
              "      <td>4</td>\n",
              "      <td>what is the story of kohinoor (koh-i-noor) dia...</td>\n",
              "      <td>what would happen if the indian government sto...</td>\n",
              "      <td>0</td>\n",
              "      <td>4</td>\n",
              "      <td>1</td>\n",
              "      <td>51</td>\n",
              "      <td>88</td>\n",
              "      <td>8</td>\n",
              "      <td>13</td>\n",
              "      <td>4.0</td>\n",
              "      <td>20.0</td>\n",
              "      <td>0.200000</td>\n",
              "      <td>5</td>\n",
              "      <td>3</td>\n",
              "      <td>0.499988</td>\n",
              "      <td>0.222220</td>\n",
              "      <td>0.666644</td>\n",
              "      <td>0.499988</td>\n",
              "      <td>0.307690</td>\n",
              "      <td>0.307690</td>\n",
              "      <td>0.0</td>\n",
              "      <td>1.0</td>\n",
              "      <td>5.0</td>\n",
              "      <td>10.5</td>\n",
              "      <td>86</td>\n",
              "      <td>63</td>\n",
              "      <td>66</td>\n",
              "      <td>73</td>\n",
              "      <td>0.442308</td>\n",
              "    </tr>\n",
              "  </tbody>\n",
              "</table>\n",
              "</div>"
            ],
            "text/plain": [
              "   id  qid1  qid2  ... fuzz_ratio fuzz_partial_ratio  longest_substr_ratio\n",
              "0   0     1     2  ...         93                 98              0.965517\n",
              "1   1     3     4  ...         66                 73              0.442308\n",
              "\n",
              "[2 rows x 32 columns]"
            ]
          },
          "metadata": {
            "tags": []
          },
          "execution_count": 50
        }
      ]
    },
    {
      "cell_type": "markdown",
      "metadata": {
        "id": "aTmpX5hP4W6W",
        "colab_type": "text"
      },
      "source": [
        "### 3.5.1 Analysis of extracted features"
      ]
    },
    {
      "cell_type": "markdown",
      "metadata": {
        "id": "sj3hqxCy4eNr",
        "colab_type": "text"
      },
      "source": [
        "#### 3.5.1.1 Plotting Word clouds\n",
        "\n"
      ]
    }
  ]
}