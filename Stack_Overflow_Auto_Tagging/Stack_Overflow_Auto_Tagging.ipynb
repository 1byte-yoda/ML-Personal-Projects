{
  "nbformat": 4,
  "nbformat_minor": 0,
  "metadata": {
    "colab": {
      "name": "Stack_Overflow_Auto_Tagging.ipynb",
      "provenance": [],
      "collapsed_sections": [],
      "toc_visible": true,
      "include_colab_link": true
    },
    "kernelspec": {
      "name": "python3",
      "display_name": "Python 3"
    },
    "widgets": {
      "application/vnd.jupyter.widget-state+json": {
        "4509ba3f7d234989a1675aa4a54f9dc0": {
          "model_module": "@jupyter-widgets/controls",
          "model_name": "HBoxModel",
          "state": {
            "_view_name": "HBoxView",
            "_dom_classes": [],
            "_model_name": "HBoxModel",
            "_view_module": "@jupyter-widgets/controls",
            "_model_module_version": "1.5.0",
            "_view_count": null,
            "_view_module_version": "1.5.0",
            "box_style": "",
            "layout": "IPY_MODEL_4665b286db98462386a695b9ba9d319d",
            "_model_module": "@jupyter-widgets/controls",
            "children": [
              "IPY_MODEL_2b73c0cfe9964a779dd62f9465d55eeb",
              "IPY_MODEL_c7830fe0401648cf9cb4bcd80a66e170"
            ]
          }
        },
        "4665b286db98462386a695b9ba9d319d": {
          "model_module": "@jupyter-widgets/base",
          "model_name": "LayoutModel",
          "state": {
            "_view_name": "LayoutView",
            "grid_template_rows": null,
            "right": null,
            "justify_content": null,
            "_view_module": "@jupyter-widgets/base",
            "overflow": null,
            "_model_module_version": "1.2.0",
            "_view_count": null,
            "flex_flow": null,
            "width": null,
            "min_width": null,
            "border": null,
            "align_items": null,
            "bottom": null,
            "_model_module": "@jupyter-widgets/base",
            "top": null,
            "grid_column": null,
            "overflow_y": null,
            "overflow_x": null,
            "grid_auto_flow": null,
            "grid_area": null,
            "grid_template_columns": null,
            "flex": null,
            "_model_name": "LayoutModel",
            "justify_items": null,
            "grid_row": null,
            "max_height": null,
            "align_content": null,
            "visibility": null,
            "align_self": null,
            "height": null,
            "min_height": null,
            "padding": null,
            "grid_auto_rows": null,
            "grid_gap": null,
            "max_width": null,
            "order": null,
            "_view_module_version": "1.2.0",
            "grid_template_areas": null,
            "object_position": null,
            "object_fit": null,
            "grid_auto_columns": null,
            "margin": null,
            "display": null,
            "left": null
          }
        },
        "2b73c0cfe9964a779dd62f9465d55eeb": {
          "model_module": "@jupyter-widgets/controls",
          "model_name": "FloatProgressModel",
          "state": {
            "_view_name": "ProgressView",
            "style": "IPY_MODEL_bb93b885f90e4852a303f9418c1a27f3",
            "_dom_classes": [],
            "description": "100%",
            "_model_name": "FloatProgressModel",
            "bar_style": "success",
            "max": 85085,
            "_view_module": "@jupyter-widgets/controls",
            "_model_module_version": "1.5.0",
            "value": 85085,
            "_view_count": null,
            "_view_module_version": "1.5.0",
            "orientation": "horizontal",
            "min": 0,
            "description_tooltip": null,
            "_model_module": "@jupyter-widgets/controls",
            "layout": "IPY_MODEL_1870215b5bd34f058455a21ab4b3ef70"
          }
        },
        "c7830fe0401648cf9cb4bcd80a66e170": {
          "model_module": "@jupyter-widgets/controls",
          "model_name": "HTMLModel",
          "state": {
            "_view_name": "HTMLView",
            "style": "IPY_MODEL_927d1a117a7c4d1ba3d996c2b21ac7e5",
            "_dom_classes": [],
            "description": "",
            "_model_name": "HTMLModel",
            "placeholder": "​",
            "_view_module": "@jupyter-widgets/controls",
            "_model_module_version": "1.5.0",
            "value": " 85085/85085 [11:46&lt;00:00, 120.47it/s]",
            "_view_count": null,
            "_view_module_version": "1.5.0",
            "description_tooltip": null,
            "_model_module": "@jupyter-widgets/controls",
            "layout": "IPY_MODEL_36eb7f09f26548ca81309570fb41f71d"
          }
        },
        "bb93b885f90e4852a303f9418c1a27f3": {
          "model_module": "@jupyter-widgets/controls",
          "model_name": "ProgressStyleModel",
          "state": {
            "_view_name": "StyleView",
            "_model_name": "ProgressStyleModel",
            "description_width": "initial",
            "_view_module": "@jupyter-widgets/base",
            "_model_module_version": "1.5.0",
            "_view_count": null,
            "_view_module_version": "1.2.0",
            "bar_color": null,
            "_model_module": "@jupyter-widgets/controls"
          }
        },
        "1870215b5bd34f058455a21ab4b3ef70": {
          "model_module": "@jupyter-widgets/base",
          "model_name": "LayoutModel",
          "state": {
            "_view_name": "LayoutView",
            "grid_template_rows": null,
            "right": null,
            "justify_content": null,
            "_view_module": "@jupyter-widgets/base",
            "overflow": null,
            "_model_module_version": "1.2.0",
            "_view_count": null,
            "flex_flow": null,
            "width": null,
            "min_width": null,
            "border": null,
            "align_items": null,
            "bottom": null,
            "_model_module": "@jupyter-widgets/base",
            "top": null,
            "grid_column": null,
            "overflow_y": null,
            "overflow_x": null,
            "grid_auto_flow": null,
            "grid_area": null,
            "grid_template_columns": null,
            "flex": null,
            "_model_name": "LayoutModel",
            "justify_items": null,
            "grid_row": null,
            "max_height": null,
            "align_content": null,
            "visibility": null,
            "align_self": null,
            "height": null,
            "min_height": null,
            "padding": null,
            "grid_auto_rows": null,
            "grid_gap": null,
            "max_width": null,
            "order": null,
            "_view_module_version": "1.2.0",
            "grid_template_areas": null,
            "object_position": null,
            "object_fit": null,
            "grid_auto_columns": null,
            "margin": null,
            "display": null,
            "left": null
          }
        },
        "927d1a117a7c4d1ba3d996c2b21ac7e5": {
          "model_module": "@jupyter-widgets/controls",
          "model_name": "DescriptionStyleModel",
          "state": {
            "_view_name": "StyleView",
            "_model_name": "DescriptionStyleModel",
            "description_width": "",
            "_view_module": "@jupyter-widgets/base",
            "_model_module_version": "1.5.0",
            "_view_count": null,
            "_view_module_version": "1.2.0",
            "_model_module": "@jupyter-widgets/controls"
          }
        },
        "36eb7f09f26548ca81309570fb41f71d": {
          "model_module": "@jupyter-widgets/base",
          "model_name": "LayoutModel",
          "state": {
            "_view_name": "LayoutView",
            "grid_template_rows": null,
            "right": null,
            "justify_content": null,
            "_view_module": "@jupyter-widgets/base",
            "overflow": null,
            "_model_module_version": "1.2.0",
            "_view_count": null,
            "flex_flow": null,
            "width": null,
            "min_width": null,
            "border": null,
            "align_items": null,
            "bottom": null,
            "_model_module": "@jupyter-widgets/base",
            "top": null,
            "grid_column": null,
            "overflow_y": null,
            "overflow_x": null,
            "grid_auto_flow": null,
            "grid_area": null,
            "grid_template_columns": null,
            "flex": null,
            "_model_name": "LayoutModel",
            "justify_items": null,
            "grid_row": null,
            "max_height": null,
            "align_content": null,
            "visibility": null,
            "align_self": null,
            "height": null,
            "min_height": null,
            "padding": null,
            "grid_auto_rows": null,
            "grid_gap": null,
            "max_width": null,
            "order": null,
            "_view_module_version": "1.2.0",
            "grid_template_areas": null,
            "object_position": null,
            "object_fit": null,
            "grid_auto_columns": null,
            "margin": null,
            "display": null,
            "left": null
          }
        }
      }
    }
  },
  "cells": [
    {
      "cell_type": "markdown",
      "metadata": {
        "id": "view-in-github",
        "colab_type": "text"
      },
      "source": [
        "<a href=\"https://colab.research.google.com/github/PHMark/ML-Personal-Projects/blob/master/Stack_Overflow_Auto_Tagging/Stack_Overflow_Auto_Tagging.ipynb\" target=\"_parent\"><img src=\"https://colab.research.google.com/assets/colab-badge.svg\" alt=\"Open In Colab\"/></a>"
      ]
    },
    {
      "cell_type": "markdown",
      "metadata": {
        "id": "TksF7WqDjDFb",
        "colab_type": "text"
      },
      "source": [
        "# Stack Overflow: Tag Prediction"
      ]
    },
    {
      "cell_type": "markdown",
      "metadata": {
        "id": "u2VA63BMK4MO",
        "colab_type": "text"
      },
      "source": [
        "# 0. Importing Modules"
      ]
    },
    {
      "cell_type": "code",
      "metadata": {
        "id": "8Fd2oPZdAZRe",
        "colab_type": "code",
        "outputId": "42144f93-440e-4813-c3c4-f489b1db933f",
        "colab": {
          "base_uri": "https://localhost:8080/",
          "height": 71
        }
      },
      "source": [
        "import sqlite3\n",
        "import os\n",
        "import csv\n",
        "import re\n",
        "import time\n",
        "\n",
        "from tqdm.auto import tqdm\n",
        "import pandas as pd\n",
        "import numpy as np\n",
        "import seaborn as sns\n",
        "from matplotlib import pyplot as plt\n",
        "from wordcloud import WordCloud\n",
        "import nltk\n",
        "from nltk.tokenize import word_tokenize\n",
        "from nltk.corpus import stopwords\n",
        "from nltk.stem import SnowballStemmer\n",
        "from sklearn.feature_extraction.text import CountVectorizer, TfidfVectorizer\n",
        "\n",
        "STACK_OVERFLOW_DIR = r'/content/drive/My Drive/ML Projects/Stack Overflow Tag Prediction/'"
      ],
      "execution_count": 0,
      "outputs": [
        {
          "output_type": "stream",
          "text": [
            "/usr/local/lib/python3.6/dist-packages/statsmodels/tools/_testing.py:19: FutureWarning: pandas.util.testing is deprecated. Use the functions in the public API at pandas.testing instead.\n",
            "  import pandas.util.testing as tm\n"
          ],
          "name": "stderr"
        }
      ]
    },
    {
      "cell_type": "markdown",
      "metadata": {
        "id": "yPKl--uLjMPk",
        "colab_type": "text"
      },
      "source": [
        "# 1. Business Problem"
      ]
    },
    {
      "cell_type": "markdown",
      "metadata": {
        "id": "oeVA7pF1jStk",
        "colab_type": "text"
      },
      "source": [
        "## 1.1 Description"
      ]
    },
    {
      "cell_type": "markdown",
      "metadata": {
        "id": "zQYdJWHBjaGg",
        "colab_type": "text"
      },
      "source": [
        "<p style='font-size:18px'><b> Description </b></p>\n",
        "<p>\n",
        "Stack Overflow is the largest, most trusted online community for developers to learn, share their programming knowledge, and build their careers.<br />\n",
        "<br />\n",
        "Stack Overflow is something which every programmer use one way or another. Each month, over 50 million developers come to Stack Overflow to learn, share their knowledge, and build their careers. It features questions and answers on a wide range of topics in computer programming. The website serves as a platform for users to ask and answer questions, and, through membership and active participation, to vote questions and answers up or down and edit questions and answers in a fashion similar to a wiki or Digg. As of April 2014 Stack Overflow has over 4,000,000 registered users, and it exceeded 10,000,000 questions in late August 2015. Based on the type of tags assigned to questions, the top eight most discussed topics on the site are: Java, JavaScript, C#, PHP, Android, jQuery, Python and HTML.<br />\n",
        "<br />\n",
        "</p>"
      ]
    },
    {
      "cell_type": "markdown",
      "metadata": {
        "id": "iDOBRJ_3jc5V",
        "colab_type": "text"
      },
      "source": [
        "<p style='font-size:18px'><b> Problem Statemtent </b></p>\n",
        "Suggest the tags based on the content that was there in the question posted on Stackoverflow."
      ]
    },
    {
      "cell_type": "markdown",
      "metadata": {
        "id": "JUDrrfvljhh0",
        "colab_type": "text"
      },
      "source": [
        "## 1.2 Source"
      ]
    },
    {
      "cell_type": "markdown",
      "metadata": {
        "id": "t-96hrA7jmzu",
        "colab_type": "text"
      },
      "source": [
        "Data Source : https://www.kaggle.com/c/facebook-recruiting-iii-keyword-extraction/data <br>\n",
        "Research paper : https://www.microsoft.com/en-us/research/wp-content/uploads/2016/02/tagging-1.pdf <br>\n",
        "Research paper : https://dl.acm.org/citation.cfm?id=2660970&dl=ACM&coll=DL"
      ]
    },
    {
      "cell_type": "markdown",
      "metadata": {
        "id": "h5FNIfpXjttW",
        "colab_type": "text"
      },
      "source": [
        "## 1.3 Real World / Business Objectives and Constraints"
      ]
    },
    {
      "cell_type": "markdown",
      "metadata": {
        "id": "pLZw1DGLjxwc",
        "colab_type": "text"
      },
      "source": [
        "1. Predict as many tags as possible with high precision and recall.\n",
        "2. Incorrect tags could impact customer experience on StackOverflow.\n",
        "3. No strict latency constraints."
      ]
    },
    {
      "cell_type": "markdown",
      "metadata": {
        "id": "4CwCZEtTj0Bs",
        "colab_type": "text"
      },
      "source": [
        "# 2. Machine Learning problem"
      ]
    },
    {
      "cell_type": "markdown",
      "metadata": {
        "id": "2GO9ax0bj6kE",
        "colab_type": "text"
      },
      "source": [
        "## 2.1 Data"
      ]
    },
    {
      "cell_type": "markdown",
      "metadata": {
        "id": "6Vy77gvQj_m-",
        "colab_type": "text"
      },
      "source": [
        "### 2.1.1 Data Overview\n"
      ]
    },
    {
      "cell_type": "markdown",
      "metadata": {
        "id": "XACjGkbV--P2",
        "colab_type": "text"
      },
      "source": [
        "Refer: https://www.kaggle.com/c/facebook-recruiting-iii-keyword-extraction/data\n",
        "<br>\n",
        "All of the data is in 2 files: Train and Test.<br />\n",
        "<pre>\n",
        "<b>Train.csv</b> contains 4 columns: Id,Title,Body,Tags.<br />\n",
        "<b>Test.csv</b> contains the same columns but without the Tags, which you are to predict.<br />\n",
        "<b>Size of Train.csv</b> - 6.75GB<br />\n",
        "<b>Size of Test.csv</b> - 2GB<br />\n",
        "<b>Number of rows in Train.csv</b> = 6034195<br />\n",
        "</pre>\n",
        "The questions are randomized and contains a mix of verbose text sites as well as sites related to math and programming. The number of questions from each site may vary, and no filtering has been performed on the questions (such as closed questions).<br />\n",
        "<br />\n"
      ]
    },
    {
      "cell_type": "markdown",
      "metadata": {
        "id": "aslsFOOK_N0m",
        "colab_type": "text"
      },
      "source": [
        "<b>Data Field Explaination</b>\n",
        "\n",
        "Dataset contains 6,034,195 rows. The columns in the table are:<br />\n",
        "<pre>\n",
        "<b>Id</b> - Unique identifier for each question<br />\n",
        "<b>Title</b> - The question's title<br />\n",
        "<b>Body</b> - The body of the question<br />\n",
        "<b>Tags</b> - The tags associated with the question in a space-seperated format (all lowercase, should not contain tabs '\\t' or ampersands '&')<br />\n",
        "</pre>\n",
        "\n",
        "<br />"
      ]
    },
    {
      "cell_type": "markdown",
      "metadata": {
        "id": "pMPt46pg_hlk",
        "colab_type": "text"
      },
      "source": [
        "### 2.1.2 Example Data point"
      ]
    },
    {
      "cell_type": "markdown",
      "metadata": {
        "id": "JbBSy-Kk_dPV",
        "colab_type": "text"
      },
      "source": [
        "<pre>\n",
        "<b>Title</b>:  Implementing Boundary Value Analysis of Software Testing in a C++ program?\n",
        "<b>Body </b>: <pre><code>\n",
        "        #include&lt;\n",
        "        iostream&gt;\\n\n",
        "        #include&lt;\n",
        "        stdlib.h&gt;\\n\\n\n",
        "        using namespace std;\\n\\n\n",
        "        int main()\\n\n",
        "        {\\n\n",
        "                 int n,a[n],x,c,u[n],m[n],e[n][4];\\n         \n",
        "                 cout&lt;&lt;\"Enter the number of variables\";\\n         cin&gt;&gt;n;\\n\\n         \n",
        "                 cout&lt;&lt;\"Enter the Lower, and Upper Limits of the variables\";\\n         \n",
        "                 for(int y=1; y&lt;n+1; y++)\\n         \n",
        "                 {\\n                 \n",
        "                    cin&gt;&gt;m[y];\\n                 \n",
        "                    cin&gt;&gt;u[y];\\n         \n",
        "                 }\\n         \n",
        "                 for(x=1; x&lt;n+1; x++)\\n         \n",
        "                 {\\n                 \n",
        "                    a[x] = (m[x] + u[x])/2;\\n         \n",
        "                 }\\n         \n",
        "                 c=(n*4)-4;\\n         \n",
        "                 for(int a1=1; a1&lt;n+1; a1++)\\n         \n",
        "                 {\\n\\n             \n",
        "                    e[a1][0] = m[a1];\\n             \n",
        "                    e[a1][1] = m[a1]+1;\\n             \n",
        "                    e[a1][2] = u[a1]-1;\\n             \n",
        "                    e[a1][3] = u[a1];\\n         \n",
        "                 }\\n         \n",
        "                 for(int i=1; i&lt;n+1; i++)\\n         \n",
        "                 {\\n            \n",
        "                    for(int l=1; l&lt;=i; l++)\\n            \n",
        "                    {\\n                 \n",
        "                        if(l!=1)\\n                 \n",
        "                        {\\n                    \n",
        "                            cout&lt;&lt;a[l]&lt;&lt;\"\\\\t\";\\n                 \n",
        "                        }\\n            \n",
        "                    }\\n            \n",
        "                    for(int j=0; j&lt;4; j++)\\n            \n",
        "                    {\\n                \n",
        "                        cout&lt;&lt;e[i][j];\\n                \n",
        "                        for(int k=0; k&lt;n-(i+1); k++)\\n                \n",
        "                        {\\n                    \n",
        "                            cout&lt;&lt;a[k]&lt;&lt;\"\\\\t\";\\n               \n",
        "                        }\\n                \n",
        "                        cout&lt;&lt;\"\\\\n\";\\n            \n",
        "                    }\\n        \n",
        "                 }    \\n\\n        \n",
        "                 system(\"PAUSE\");\\n        \n",
        "                 return 0;    \\n\n",
        "        }\\n\n",
        "        </code></pre>\\n\\n\n",
        "        <p>The answer should come in the form of a table like</p>\\n\\n\n",
        "        <pre><code>       \n",
        "        1            50              50\\n       \n",
        "        2            50              50\\n       \n",
        "        99           50              50\\n       \n",
        "        100          50              50\\n       \n",
        "        50           1               50\\n       \n",
        "        50           2               50\\n       \n",
        "        50           99              50\\n       \n",
        "        50           100             50\\n       \n",
        "        50           50              1\\n       \n",
        "        50           50              2\\n       \n",
        "        50           50              99\\n       \n",
        "        50           50              100\\n\n",
        "        </code></pre>\\n\\n\n",
        "        <p>if the no of inputs is 3 and their ranges are\\n\n",
        "        1,100\\n\n",
        "        1,100\\n\n",
        "        1,100\\n\n",
        "        (could be varied too)</p>\\n\\n\n",
        "        <p>The output is not coming,can anyone correct the code or tell me what\\'s wrong?</p>\\n'\n",
        "<b>Tags </b>: 'c++ c'\n",
        "</pre>"
      ]
    },
    {
      "cell_type": "markdown",
      "metadata": {
        "id": "BFWEww5zAZg9",
        "colab_type": "text"
      },
      "source": [
        "## 2.2 Mapping the real-world problem to a Machine Learning Problem"
      ]
    },
    {
      "cell_type": "markdown",
      "metadata": {
        "id": "lUw9mfx3Adzs",
        "colab_type": "text"
      },
      "source": [
        "### 2.2.1 Type of Machine Learning Problem"
      ]
    },
    {
      "cell_type": "markdown",
      "metadata": {
        "id": "G1_6hSRMAgx1",
        "colab_type": "text"
      },
      "source": [
        "<p> It is a multi-label classification problem  <br>\n",
        "<b>Multi-label Classification</b>: Multilabel classification assigns to each sample a set of target labels. This can be thought as predicting properties of a data-point that are not mutually exclusive, such as topics that are relevant for a document. A question on Stackoverflow might be about any of C, Pointers, FileIO and/or memory-management at the same time or none of these. <br>\n",
        "<b>Credit</b>: http://scikit-learn.org/stable/modules/multiclass.html\n",
        "</p>"
      ]
    },
    {
      "cell_type": "markdown",
      "metadata": {
        "id": "VHkKFg6XAqn6",
        "colab_type": "text"
      },
      "source": [
        "### 2.2.2 Performance metric"
      ]
    },
    {
      "cell_type": "markdown",
      "metadata": {
        "id": "VVbMQEydAtS1",
        "colab_type": "text"
      },
      "source": [
        "<b>Micro-Averaged F1-Score (Mean F Score) </b>: \n",
        "The F1 score can be interpreted as a weighted average of the precision and recall, where an F1 score reaches its best value at 1 and worst score at 0. The relative contribution of precision and recall to the F1 score are equal. The formula for the F1 score is:\n",
        "\n",
        "<i>F1 = 2 * (precision * recall) / (precision + recall)</i><br>\n",
        "\n",
        "In the multi-class and multi-label case, this is the weighted average of the F1 score of each class. <br>\n",
        "\n",
        "<b>'Micro f1 score': </b><br>\n",
        "Calculate metrics globally by counting the total true positives, false negatives and false positives. This is a better metric when we have class imbalance.\n",
        "<br>\n",
        "\n",
        "<b>'Macro f1 score': </b><br>\n",
        "Calculate metrics for each label, and find their unweighted mean. This does not take label imbalance into account.\n",
        "<br>\n",
        "\n",
        "https://www.kaggle.com/wiki/MeanFScore <br>\n",
        "http://scikit-learn.org/stable/modules/generated/sklearn.metrics.f1_score.html <br>\n",
        "<br>\n",
        "<b> Hamming loss </b>: The Hamming loss is the fraction of labels that are incorrectly predicted. <br>\n",
        "https://www.kaggle.com/wiki/HammingLoss <br>"
      ]
    },
    {
      "cell_type": "markdown",
      "metadata": {
        "id": "yTkGaynzBOsy",
        "colab_type": "text"
      },
      "source": [
        "# 3. Exploratory Data Analysis\n",
        "Because the dataset contains huge amount of data (~7gb). As a workaround to save a space in my google drive, I've already done deduplication into it on my own computer and save the reduced file into database.sqlite file."
      ]
    },
    {
      "cell_type": "markdown",
      "metadata": {
        "id": "IevKO0K0BRtD",
        "colab_type": "text"
      },
      "source": [
        "### 3.1.1 Using Pandas with SQLite to Load the data"
      ]
    },
    {
      "cell_type": "code",
      "metadata": {
        "id": "_480BtvkBkKC",
        "colab_type": "code",
        "colab": {}
      },
      "source": [
        "# Function for pulling data from the database\n",
        "def get_df_from_db(query):\n",
        "  connected = False\n",
        "  while not connected:\n",
        "    try:\n",
        "      con = sqlite3.connect(STACK_OVERFLOW_DIR + 'database.sqlite')\n",
        "      con.text_factory = lambda b: b.decode(errors = 'ignore')\n",
        "      connected = True\n",
        "    except Exception as e:\n",
        "      print('Connection Failed, retrying connection...')\n",
        "      connected = False\n",
        "    \n",
        "  try:\n",
        "    _df = pd.read_sql_query(query, con)\n",
        "  except:\n",
        "    print('An error occured while running the query')\n",
        "    con.close()\n",
        "    return\n",
        "\n",
        "  con.close()\n",
        "  return _df"
      ],
      "execution_count": 0,
      "outputs": []
    },
    {
      "cell_type": "code",
      "metadata": {
        "id": "VxmhWupTCpzd",
        "colab_type": "code",
        "outputId": "94a317ff-ca4b-49e2-c27e-9befd2a3c1ca",
        "colab": {
          "base_uri": "https://localhost:8080/",
          "height": 51
        }
      },
      "source": [
        "df_questions = get_df_from_db('SELECT id, title, body FROM Questions')\n",
        "df_tags = get_df_from_db('SELECT Id, GROUP_CONCAT(LOWER(Tag), \" \") AS Tags FROM Tags GROUP BY Id')\n",
        "df_all = pd.merge(left=df_questions, right=df_tags, how='inner', on='Id')\n",
        "print('Rows: {}\\nColumns: {}'.format(*df_all.shape))"
      ],
      "execution_count": 0,
      "outputs": [
        {
          "output_type": "stream",
          "text": [
            "Rows: 85085\n",
            "Columns: 4\n"
          ],
          "name": "stdout"
        }
      ]
    },
    {
      "cell_type": "code",
      "metadata": {
        "id": "rlBvUqZ25nGq",
        "colab_type": "code",
        "outputId": "a1c5f878-b0ab-4c62-80fe-922d54374f7c",
        "colab": {
          "base_uri": "https://localhost:8080/",
          "height": 204
        }
      },
      "source": [
        "df_all.head()"
      ],
      "execution_count": 0,
      "outputs": [
        {
          "output_type": "execute_result",
          "data": {
            "text/html": [
              "<div>\n",
              "<style scoped>\n",
              "    .dataframe tbody tr th:only-of-type {\n",
              "        vertical-align: middle;\n",
              "    }\n",
              "\n",
              "    .dataframe tbody tr th {\n",
              "        vertical-align: top;\n",
              "    }\n",
              "\n",
              "    .dataframe thead th {\n",
              "        text-align: right;\n",
              "    }\n",
              "</style>\n",
              "<table border=\"1\" class=\"dataframe\">\n",
              "  <thead>\n",
              "    <tr style=\"text-align: right;\">\n",
              "      <th></th>\n",
              "      <th>Id</th>\n",
              "      <th>Title</th>\n",
              "      <th>Body</th>\n",
              "      <th>Tags</th>\n",
              "    </tr>\n",
              "  </thead>\n",
              "  <tbody>\n",
              "    <tr>\n",
              "      <th>0</th>\n",
              "      <td>6</td>\n",
              "      <td>The Two Cultures: statistics vs. machine learn...</td>\n",
              "      <td>&lt;p&gt;Last year, I read a blog post from &lt;a href=...</td>\n",
              "      <td>machine-learning</td>\n",
              "    </tr>\n",
              "    <tr>\n",
              "      <th>1</th>\n",
              "      <td>21</td>\n",
              "      <td>Forecasting demographic census</td>\n",
              "      <td>&lt;p&gt;What are some of the ways to forecast demog...</td>\n",
              "      <td>forecasting population census</td>\n",
              "    </tr>\n",
              "    <tr>\n",
              "      <th>2</th>\n",
              "      <td>22</td>\n",
              "      <td>Bayesian and frequentist reasoning in plain En...</td>\n",
              "      <td>&lt;p&gt;How would you describe in plain English the...</td>\n",
              "      <td>bayesian frequentist</td>\n",
              "    </tr>\n",
              "    <tr>\n",
              "      <th>3</th>\n",
              "      <td>31</td>\n",
              "      <td>What is the meaning of p values and t values i...</td>\n",
              "      <td>&lt;p&gt;After taking a statistics course and then t...</td>\n",
              "      <td>hypothesis-testing t-test p-value interpretati...</td>\n",
              "    </tr>\n",
              "    <tr>\n",
              "      <th>4</th>\n",
              "      <td>36</td>\n",
              "      <td>Examples for teaching: Correlation does not me...</td>\n",
              "      <td>&lt;p&gt;There is an old saying: \"Correlation does n...</td>\n",
              "      <td>correlation teaching</td>\n",
              "    </tr>\n",
              "  </tbody>\n",
              "</table>\n",
              "</div>"
            ],
            "text/plain": [
              "   Id  ...                                               Tags\n",
              "0   6  ...                                   machine-learning\n",
              "1  21  ...                      forecasting population census\n",
              "2  22  ...                               bayesian frequentist\n",
              "3  31  ...  hypothesis-testing t-test p-value interpretati...\n",
              "4  36  ...                               correlation teaching\n",
              "\n",
              "[5 rows x 4 columns]"
            ]
          },
          "metadata": {
            "tags": []
          },
          "execution_count": 11
        }
      ]
    },
    {
      "cell_type": "code",
      "metadata": {
        "id": "XfC_sK7GNtsi",
        "colab_type": "code",
        "outputId": "cc8a6ed6-4b64-47ea-ed88-d2cca363a617",
        "colab": {
          "base_uri": "https://localhost:8080/",
          "height": 102
        }
      },
      "source": [
        "df_all.isna().sum(axis=0)"
      ],
      "execution_count": 0,
      "outputs": [
        {
          "output_type": "execute_result",
          "data": {
            "text/plain": [
              "Id       0\n",
              "Title    0\n",
              "Body     0\n",
              "Tags     0\n",
              "dtype: int64"
            ]
          },
          "metadata": {
            "tags": []
          },
          "execution_count": 28
        }
      ]
    },
    {
      "cell_type": "markdown",
      "metadata": {
        "id": "EEVkRnDXEs4N",
        "colab_type": "text"
      },
      "source": [
        "## 3.2 Analysis of Tags "
      ]
    },
    {
      "cell_type": "markdown",
      "metadata": {
        "id": "1EB-1k4wExAJ",
        "colab_type": "text"
      },
      "source": [
        "### 3.2.1 Total number of unique tags"
      ]
    },
    {
      "cell_type": "code",
      "metadata": {
        "id": "GaEegwd3DL_p",
        "colab_type": "code",
        "outputId": "4417f09b-5752-4a06-8dbe-16f280379e14",
        "colab": {
          "base_uri": "https://localhost:8080/",
          "height": 204
        }
      },
      "source": [
        "# Get all tags \n",
        "tags = df_all[['Tags']]\n",
        "tags.head()"
      ],
      "execution_count": 0,
      "outputs": [
        {
          "output_type": "execute_result",
          "data": {
            "text/html": [
              "<div>\n",
              "<style scoped>\n",
              "    .dataframe tbody tr th:only-of-type {\n",
              "        vertical-align: middle;\n",
              "    }\n",
              "\n",
              "    .dataframe tbody tr th {\n",
              "        vertical-align: top;\n",
              "    }\n",
              "\n",
              "    .dataframe thead th {\n",
              "        text-align: right;\n",
              "    }\n",
              "</style>\n",
              "<table border=\"1\" class=\"dataframe\">\n",
              "  <thead>\n",
              "    <tr style=\"text-align: right;\">\n",
              "      <th></th>\n",
              "      <th>Tags</th>\n",
              "    </tr>\n",
              "  </thead>\n",
              "  <tbody>\n",
              "    <tr>\n",
              "      <th>0</th>\n",
              "      <td>machine-learning</td>\n",
              "    </tr>\n",
              "    <tr>\n",
              "      <th>1</th>\n",
              "      <td>forecasting population census</td>\n",
              "    </tr>\n",
              "    <tr>\n",
              "      <th>2</th>\n",
              "      <td>bayesian frequentist</td>\n",
              "    </tr>\n",
              "    <tr>\n",
              "      <th>3</th>\n",
              "      <td>hypothesis-testing t-test p-value interpretati...</td>\n",
              "    </tr>\n",
              "    <tr>\n",
              "      <th>4</th>\n",
              "      <td>correlation teaching</td>\n",
              "    </tr>\n",
              "  </tbody>\n",
              "</table>\n",
              "</div>"
            ],
            "text/plain": [
              "                                                Tags\n",
              "0                                   machine-learning\n",
              "1                      forecasting population census\n",
              "2                               bayesian frequentist\n",
              "3  hypothesis-testing t-test p-value interpretati...\n",
              "4                               correlation teaching"
            ]
          },
          "metadata": {
            "tags": []
          },
          "execution_count": 30
        }
      ]
    },
    {
      "cell_type": "code",
      "metadata": {
        "id": "j8MGzKBIFe5x",
        "colab_type": "code",
        "colab": {}
      },
      "source": [
        "vectorizer = CountVectorizer(tokenizer=lambda x: x.split())\n",
        "vectorized_tags = vectorizer.fit_transform(tags['Tags'])"
      ],
      "execution_count": 0,
      "outputs": []
    },
    {
      "cell_type": "code",
      "metadata": {
        "id": "-qOmI1eKF1Rm",
        "colab_type": "code",
        "outputId": "f6f58d02-879e-404b-82d7-0d099ea6597b",
        "colab": {
          "base_uri": "https://localhost:8080/",
          "height": 34
        }
      },
      "source": [
        "print('Total Number of Unique Tags: ', vectorized_tags.shape[1])"
      ],
      "execution_count": 0,
      "outputs": [
        {
          "output_type": "stream",
          "text": [
            "Total Number of Unique Tags:  1315\n"
          ],
          "name": "stdout"
        }
      ]
    },
    {
      "cell_type": "code",
      "metadata": {
        "id": "KDVAUkaqF8b3",
        "colab_type": "code",
        "outputId": "a3e95c93-b276-455d-9e05-d0271cfd3c85",
        "colab": {
          "base_uri": "https://localhost:8080/",
          "height": 71
        }
      },
      "source": [
        "tag_names = vectorizer.get_feature_names()\n",
        "print('Sample Tags (First 10): ', tag_names[:10])\n",
        "print('Sample Tags (Last 10): ', tag_names[-10:-1])"
      ],
      "execution_count": 0,
      "outputs": [
        {
          "output_type": "stream",
          "text": [
            "Sample Tags (First 10):  ['2d', '2sls', 'ab-test', 'abbreviation', 'abc', 'absolute-deviation', 'absolute-risk', 'academia', 'accuracy', 'active-learning']\n",
            "Sample Tags (Last 10):  ['word2vec', 'xgboost', 'xorshift', 'yates-correction', 'z-score', 'z-statistic', 'z-test', 'zero-inflated', 'zero-inflation']\n"
          ],
          "name": "stdout"
        }
      ]
    },
    {
      "cell_type": "markdown",
      "metadata": {
        "id": "Dvp4CHWaGgmB",
        "colab_type": "text"
      },
      "source": [
        "### 3.2.3 Number of times a tag appeared"
      ]
    },
    {
      "cell_type": "code",
      "metadata": {
        "id": "m9YtKsdkGPbo",
        "colab_type": "code",
        "colab": {}
      },
      "source": [
        "# Accessing sparse matrix's property\n",
        "freqs = vectorized_tags.sum(axis=0).A1\n",
        "result = dict(zip(tag_names, freqs))"
      ],
      "execution_count": 0,
      "outputs": []
    },
    {
      "cell_type": "code",
      "metadata": {
        "id": "THDt7MzVGh43",
        "colab_type": "code",
        "outputId": "e6f4676a-5a37-4243-f2d3-8110790de406",
        "colab": {
          "base_uri": "https://localhost:8080/",
          "height": 204
        }
      },
      "source": [
        "#Saving the result into a csv file to avoid memory error.\n",
        "if not os.path.isfile(STACK_OVERFLOW_DIR + 'tag_counts_dict_dtm.csv'):\n",
        "  with open(STACK_OVERFLOW_DIR + 'tag_counts_dict_dtm.csv', 'w') as csv_file:\n",
        "      writer = csv.writer(csv_file)\n",
        "      for key, value in result.items():\n",
        "          writer.writerow([key, value])\n",
        "tag_df = pd.read_csv(STACK_OVERFLOW_DIR + 'tag_counts_dict_dtm.csv', names=['Tags', 'Counts'])\n",
        "tag_df.head()"
      ],
      "execution_count": 0,
      "outputs": [
        {
          "output_type": "execute_result",
          "data": {
            "text/html": [
              "<div>\n",
              "<style scoped>\n",
              "    .dataframe tbody tr th:only-of-type {\n",
              "        vertical-align: middle;\n",
              "    }\n",
              "\n",
              "    .dataframe tbody tr th {\n",
              "        vertical-align: top;\n",
              "    }\n",
              "\n",
              "    .dataframe thead th {\n",
              "        text-align: right;\n",
              "    }\n",
              "</style>\n",
              "<table border=\"1\" class=\"dataframe\">\n",
              "  <thead>\n",
              "    <tr style=\"text-align: right;\">\n",
              "      <th></th>\n",
              "      <th>Tags</th>\n",
              "      <th>Counts</th>\n",
              "    </tr>\n",
              "  </thead>\n",
              "  <tbody>\n",
              "    <tr>\n",
              "      <th>0</th>\n",
              "      <td>2d</td>\n",
              "      <td>1</td>\n",
              "    </tr>\n",
              "    <tr>\n",
              "      <th>1</th>\n",
              "      <td>2sls</td>\n",
              "      <td>66</td>\n",
              "    </tr>\n",
              "    <tr>\n",
              "      <th>2</th>\n",
              "      <td>ab-test</td>\n",
              "      <td>107</td>\n",
              "    </tr>\n",
              "    <tr>\n",
              "      <th>3</th>\n",
              "      <td>abbreviation</td>\n",
              "      <td>4</td>\n",
              "    </tr>\n",
              "    <tr>\n",
              "      <th>4</th>\n",
              "      <td>abc</td>\n",
              "      <td>19</td>\n",
              "    </tr>\n",
              "  </tbody>\n",
              "</table>\n",
              "</div>"
            ],
            "text/plain": [
              "           Tags  Counts\n",
              "0            2d       1\n",
              "1          2sls      66\n",
              "2       ab-test     107\n",
              "3  abbreviation       4\n",
              "4           abc      19"
            ]
          },
          "metadata": {
            "tags": []
          },
          "execution_count": 35
        }
      ]
    },
    {
      "cell_type": "code",
      "metadata": {
        "id": "btHCf_WNHUHo",
        "colab_type": "code",
        "outputId": "e5294246-d927-4c92-8fdb-5cd7eaf824f8",
        "colab": {
          "base_uri": "https://localhost:8080/",
          "height": 204
        }
      },
      "source": [
        "tag_df_sorted = tag_df.sort_values(by='Counts', ascending=False)\n",
        "tag_counts = tag_df_sorted['Counts'].values\n",
        "tag_df_sorted.head(5)"
      ],
      "execution_count": 0,
      "outputs": [
        {
          "output_type": "execute_result",
          "data": {
            "text/html": [
              "<div>\n",
              "<style scoped>\n",
              "    .dataframe tbody tr th:only-of-type {\n",
              "        vertical-align: middle;\n",
              "    }\n",
              "\n",
              "    .dataframe tbody tr th {\n",
              "        vertical-align: top;\n",
              "    }\n",
              "\n",
              "    .dataframe thead th {\n",
              "        text-align: right;\n",
              "    }\n",
              "</style>\n",
              "<table border=\"1\" class=\"dataframe\">\n",
              "  <thead>\n",
              "    <tr style=\"text-align: right;\">\n",
              "      <th></th>\n",
              "      <th>Tags</th>\n",
              "      <th>Counts</th>\n",
              "    </tr>\n",
              "  </thead>\n",
              "  <tbody>\n",
              "    <tr>\n",
              "      <th>986</th>\n",
              "      <td>r</td>\n",
              "      <td>13236</td>\n",
              "    </tr>\n",
              "    <tr>\n",
              "      <th>1020</th>\n",
              "      <td>regression</td>\n",
              "      <td>10959</td>\n",
              "    </tr>\n",
              "    <tr>\n",
              "      <th>669</th>\n",
              "      <td>machine-learning</td>\n",
              "      <td>6089</td>\n",
              "    </tr>\n",
              "    <tr>\n",
              "      <th>1220</th>\n",
              "      <td>time-series</td>\n",
              "      <td>5559</td>\n",
              "    </tr>\n",
              "    <tr>\n",
              "      <th>946</th>\n",
              "      <td>probability</td>\n",
              "      <td>4217</td>\n",
              "    </tr>\n",
              "  </tbody>\n",
              "</table>\n",
              "</div>"
            ],
            "text/plain": [
              "                  Tags  Counts\n",
              "986                  r   13236\n",
              "1020        regression   10959\n",
              "669   machine-learning    6089\n",
              "1220       time-series    5559\n",
              "946        probability    4217"
            ]
          },
          "metadata": {
            "tags": []
          },
          "execution_count": 36
        }
      ]
    },
    {
      "cell_type": "markdown",
      "metadata": {
        "id": "WhJLuGOkz3Ir",
        "colab_type": "text"
      },
      "source": [
        "Let's plot these tags to see their distribution."
      ]
    },
    {
      "cell_type": "code",
      "metadata": {
        "id": "OIKmSepQujN6",
        "colab_type": "code",
        "colab": {}
      },
      "source": [
        "# Plotting the distribution of tag counts\n",
        "def plot_distribution(counts, title, log_scale=False):\n",
        "  plt.figure(figsize=(9, 4))\n",
        "  plt.title(title)\n",
        "  if log_scale:\n",
        "    plt.yscale('log')\n",
        "  plt.grid(True)\n",
        "  plt.plot(counts)\n",
        "  plt.show()\n"
      ],
      "execution_count": 0,
      "outputs": []
    },
    {
      "cell_type": "code",
      "metadata": {
        "id": "ndJoAXxrx-RP",
        "colab_type": "code",
        "outputId": "2ab225ef-fda4-4b2a-cbd2-a3f6775737dd",
        "colab": {
          "base_uri": "https://localhost:8080/",
          "height": 366
        }
      },
      "source": [
        "plot_distribution(tag_counts, 'Distribution of number of times a tag appeared on questions')\n",
        "print('Values: ', tag_counts[:10000:25])"
      ],
      "execution_count": 0,
      "outputs": [
        {
          "output_type": "display_data",
          "data": {
            "image/png": "[encoded data removed]",
            "text/plain": [
              "<Figure size 648x288 with 1 Axes>"
            ]
          },
          "metadata": {
            "tags": [],
            "needs_background": "light"
          }
        },
        {
          "output_type": "stream",
          "text": [
            "Values:  [13236  1533   937   654   496   375   317   277   253   228   198   174\n",
            "   154   137   124   114   102    91    84    75    70    62    57    50\n",
            "    45    41    37    33    30    28    25    23    21    20    18    16\n",
            "    14    13    12    10    10     9     8     7     6     5     4     4\n",
            "     3     2     2     1     1]\n"
          ],
          "name": "stdout"
        }
      ]
    },
    {
      "cell_type": "code",
      "metadata": {
        "id": "J_oPuK0jwurF",
        "colab_type": "code",
        "outputId": "d901cc3c-8790-48d9-aa68-cb16defa9d95",
        "colab": {
          "base_uri": "https://localhost:8080/",
          "height": 570
        }
      },
      "source": [
        "# Zooming in, plotting the Top 1000 tags\n",
        "plot_distribution(tag_counts[:1000], '[First 1k tags] Distribution of number of times a tag appeared on questions')\n",
        "print('Values: ', tag_counts[:1000:5])"
      ],
      "execution_count": 0,
      "outputs": [
        {
          "output_type": "display_data",
          "data": {
            "image/png": "[encoded data removed]",
            "text/plain": [
              "<Figure size 648x288 with 1 Axes>"
            ]
          },
          "metadata": {
            "tags": [],
            "needs_background": "light"
          }
        },
        {
          "output_type": "stream",
          "text": [
            "Values:  [13236  3869  2871  2054  1776  1533  1344  1209  1057   966   937   898\n",
            "   860   837   745   654   635   617   569   514   496   480   450   431\n",
            "   407   375   370   358   340   332   317   310   302   295   288   277\n",
            "   270   266   260   256   253   245   240   236   232   228   226   217\n",
            "   206   200   198   191   185   180   177   174   172   165   162   156\n",
            "   154   151   148   144   139   137   134   131   128   127   124   122\n",
            "   120   118   116   114   111   109   108   106   102    98    97    94\n",
            "    92    91    90    88    87    85    84    81    79    77    76    75\n",
            "    74    73    72    71    70    68    67    65    63    62    61    60\n",
            "    60    58    57    56    55    53    51    50    49    48    47    46\n",
            "    45    44    44    43    42    41    40    40    39    38    37    37\n",
            "    35    34    33    33    32    31    31    31    30    30    29    29\n",
            "    28    28    28    27    26    26    25    25    24    24    24    23\n",
            "    23    23    22    22    21    21    21    20    20    20    19    19\n",
            "    19    19    18    18    17    17    17    16    16    15    15    15\n",
            "    14    14    14    14    13    13    13    12    12    12    12    11\n",
            "    11    11    11    10    10    10    10    10]\n"
          ],
          "name": "stdout"
        }
      ]
    },
    {
      "cell_type": "code",
      "metadata": {
        "id": "_Fn33kwxya6f",
        "colab_type": "code",
        "outputId": "bf66260f-aac4-446f-c6a9-a6eccba2a520",
        "colab": {
          "base_uri": "https://localhost:8080/",
          "height": 434
        }
      },
      "source": [
        "# Zooming in, plotting the First 500 tags\n",
        "plot_distribution(tag_counts[:500], '[First 500 tags] Distribution of number of times a tag appeared on questions')\n",
        "print('Values: ', tag_counts[:500:5])"
      ],
      "execution_count": 0,
      "outputs": [
        {
          "output_type": "display_data",
          "data": {
            "image/png": "[encoded data removed]",
            "text/plain": [
              "<Figure size 648x288 with 1 Axes>"
            ]
          },
          "metadata": {
            "tags": [],
            "needs_background": "light"
          }
        },
        {
          "output_type": "stream",
          "text": [
            "Values:  [13236  3869  2871  2054  1776  1533  1344  1209  1057   966   937   898\n",
            "   860   837   745   654   635   617   569   514   496   480   450   431\n",
            "   407   375   370   358   340   332   317   310   302   295   288   277\n",
            "   270   266   260   256   253   245   240   236   232   228   226   217\n",
            "   206   200   198   191   185   180   177   174   172   165   162   156\n",
            "   154   151   148   144   139   137   134   131   128   127   124   122\n",
            "   120   118   116   114   111   109   108   106   102    98    97    94\n",
            "    92    91    90    88    87    85    84    81    79    77    76    75\n",
            "    74    73    72    71]\n"
          ],
          "name": "stdout"
        }
      ]
    },
    {
      "cell_type": "code",
      "metadata": {
        "id": "8UxqXlkQzXky",
        "colab_type": "code",
        "outputId": "db590c54-42d9-409a-e781-d101d6b6a703",
        "colab": {
          "base_uri": "https://localhost:8080/",
          "height": 281
        }
      },
      "source": [
        "plt.figure(figsize=(9, 4))\n",
        "plt.title('[First 100 tags] Distribution of number of times a tag appeared on questions')\n",
        "plt.grid(True)\n",
        "plt.plot(tag_counts[:100], color='darkblue')\n",
        "plt.scatter(x=list(range(0, 100, 5)), y=tag_counts[:100:5], color='orange', label='quantiles with 0.05 intervals')\n",
        "plt.scatter(x=list(range(0, 100, 25)), y=tag_counts[:100:25], color='magenta', label='quantiles with 0.25 intervals')\n",
        "for x,y in zip(list(range(0,100,25)), tag_counts[0:100:25]):\n",
        "    plt.annotate(s=\"({} , {})\".format(x,y), xy=(x,y), xytext=(x-0.05, y+500))\n",
        "plt.legend()\n",
        "plt.show()"
      ],
      "execution_count": 0,
      "outputs": [
        {
          "output_type": "display_data",
          "data": {
            "image/png": "[encoded data removed]",
            "text/plain": [
              "<Figure size 648x288 with 1 Axes>"
            ]
          },
          "metadata": {
            "tags": [],
            "needs_background": "light"
          }
        }
      ]
    },
    {
      "cell_type": "code",
      "metadata": {
        "id": "SRHRj-1m3SMH",
        "colab_type": "code",
        "outputId": "e98e1af8-ea60-45c3-d5a2-5cca30c1a49a",
        "colab": {
          "base_uri": "https://localhost:8080/",
          "height": 51
        }
      },
      "source": [
        "list_tags_gt_10k = tag_df.loc[(tag_df['Counts'] > 1000), 'Tags']\n",
        "list_tags_gt_1k = tag_df.loc[(tag_df['Counts'] > 500), 'Tags']\n",
        "\n",
        "print('Tags that are used in more than 10k questions', len(list_tags_gt_10k))\n",
        "print('Tags that are used in more than 1k questions', len(list_tags_gt_1k))"
      ],
      "execution_count": 0,
      "outputs": [
        {
          "output_type": "stream",
          "text": [
            "Tags that are used in more than 10k questions 43\n",
            "Tags that are used in more than 1k questions 99\n"
          ],
          "name": "stdout"
        }
      ]
    },
    {
      "cell_type": "markdown",
      "metadata": {
        "id": "STAI46VO5nfj",
        "colab_type": "text"
      },
      "source": [
        "<b>Observation(s):</b>\n",
        "\n",
        "1.) There are 43 tags which are used in more than 10k questions.\n",
        "\n",
        "2.) There are 99 tags which are used in more than 1k questions.\n",
        "\n",
        "3.) The distribution of number of times a tag appeared on questions was highly skewed to the left.\n",
        "\n",
        "4.) r was the most used tag (13,236 times) across all of the questions.\n",
        "\n",
        "5.) Since some tags occur more than the others, Micro F1 Score is an appropriate metric to use to gauge the model's precision and recall effectively."
      ]
    },
    {
      "cell_type": "markdown",
      "metadata": {
        "id": "g9BL4ClaEjSL",
        "colab_type": "text"
      },
      "source": [
        "### 3.2.4 Tags per Question"
      ]
    },
    {
      "cell_type": "code",
      "metadata": {
        "id": "2axxI9cNEnPl",
        "colab_type": "code",
        "colab": {}
      },
      "source": [
        "tag_quest_count = list(vectorized_tags.sum(axis=1).A.reshape(-1))"
      ],
      "execution_count": 0,
      "outputs": []
    },
    {
      "cell_type": "code",
      "metadata": {
        "id": "zqPTK_lrE0ct",
        "colab_type": "code",
        "outputId": "4798d897-74c5-409d-dc94-d70a97ad8acb",
        "colab": {
          "base_uri": "https://localhost:8080/",
          "height": 34
        }
      },
      "source": [
        "print(tag_quest_count[:5])"
      ],
      "execution_count": 0,
      "outputs": [
        {
          "output_type": "stream",
          "text": [
            "[1, 3, 2, 5, 2]\n"
          ],
          "name": "stdout"
        }
      ]
    },
    {
      "cell_type": "code",
      "metadata": {
        "id": "wPQ4zjUtGSw-",
        "colab_type": "code",
        "colab": {}
      },
      "source": [
        "tag_quest_count_freq = np.unique(tag_quest_count, return_counts=True)"
      ],
      "execution_count": 0,
      "outputs": []
    },
    {
      "cell_type": "code",
      "metadata": {
        "id": "x6Y1xdo6MVeY",
        "colab_type": "code",
        "outputId": "3168b680-6140-4387-e70d-ab954632bb6f",
        "colab": {
          "base_uri": "https://localhost:8080/",
          "height": 68
        }
      },
      "source": [
        "print('Minimum Number of Tags per Question: ', tag_quest_count_freq[0].min())\n",
        "print('Maximum Number of Tags per Question: ', tag_quest_count_freq[0].max())\n",
        "print('Average Number of Tags per Question: ', tag_quest_count_freq[0].mean())"
      ],
      "execution_count": 0,
      "outputs": [
        {
          "output_type": "stream",
          "text": [
            "Minimum Number of Tags per Question:  1\n",
            "Maximum Number of Tags per Question:  5\n",
            "Average Number of Tags per Question:  3.0\n"
          ],
          "name": "stdout"
        }
      ]
    },
    {
      "cell_type": "code",
      "metadata": {
        "id": "kxkTmvTgHJqH",
        "colab_type": "code",
        "outputId": "abf2854f-f820-4bec-d296-46d76f41f002",
        "colab": {
          "base_uri": "https://localhost:8080/",
          "height": 329
        }
      },
      "source": [
        "sns.FacetGrid('whitegrid', height=4.5, aspect=1.7)\n",
        "bar = sns.barplot(x=tag_quest_count_freq[0], y=tag_quest_count_freq[1], color='slateblue')\n",
        "plt.title('')\n",
        "plt.show()"
      ],
      "execution_count": 0,
      "outputs": [
        {
          "output_type": "display_data",
          "data": {
            "image/png": "[encoded data removed]",
            "text/plain": [
              "<Figure size 550.8x324 with 1 Axes>"
            ]
          },
          "metadata": {
            "tags": [],
            "needs_background": "light"
          }
        }
      ]
    },
    {
      "cell_type": "markdown",
      "metadata": {
        "id": "qQ0pyB5yM-SB",
        "colab_type": "text"
      },
      "source": [
        "<b>Observation(s):</b>\n",
        "\n",
        "1.) The minimum number of tags per question is 1.\n",
        "\n",
        "2.) The maximum number of tags per question is 5.\n",
        "\n",
        "3.) The mean number of tags per question is 3.\n",
        "\n",
        "4.) Most of the questions has 2 or 3 number of tags associated with them."
      ]
    },
    {
      "cell_type": "markdown",
      "metadata": {
        "id": "Ednep3taTjFW",
        "colab_type": "text"
      },
      "source": [
        "### 3.2.5 Most Frequent Tags"
      ]
    },
    {
      "cell_type": "code",
      "metadata": {
        "id": "IPcshPZiOPlV",
        "colab_type": "code",
        "outputId": "e5e2ab11-a22c-4672-817e-3c1cf885e32c",
        "colab": {
          "base_uri": "https://localhost:8080/",
          "height": 470
        }
      },
      "source": [
        "wordcloud = WordCloud(background_color='black', width=1280,\n",
        "                      height=720).generate_from_frequencies(result)\n",
        "plt.figure(figsize=(30, 10))\n",
        "plt.imshow(wordcloud)\n",
        "plt.axis(False)\n",
        "plt.show()"
      ],
      "execution_count": 0,
      "outputs": [
        {
          "output_type": "display_data",
          "data": {
            "image/png": "[encoded data removed]",
            "text/plain": [
              "<Figure size 2160x720 with 1 Axes>"
            ]
          },
          "metadata": {
            "tags": [],
            "needs_background": "light"
          }
        }
      ]
    },
    {
      "cell_type": "markdown",
      "metadata": {
        "id": "mFoL_2EGUJQe",
        "colab_type": "text"
      },
      "source": [
        "<b>Observation(s):</b>\n",
        "The most dominant tags (in terms of font-size) that we can observe are  r, regression, probability, & time-series."
      ]
    },
    {
      "cell_type": "markdown",
      "metadata": {
        "id": "lSJRG0YxAVdq",
        "colab_type": "text"
      },
      "source": [
        "### 3.2.5.1 Shared Word Ratio of Tag to Body/Title"
      ]
    },
    {
      "cell_type": "code",
      "metadata": {
        "id": "WNH_AvazA2ez",
        "colab_type": "code",
        "colab": {}
      },
      "source": [
        "def f1_get_total_common_words(row):\n",
        "  '''Get the intersection between tag and title'''\n",
        "  w1 = set(map(lambda s: s.lower().strip(), row['Title'].split()))\n",
        "  w2 = set(map(lambda s: s.lower().strip(), row['Tags'].split()))\n",
        "  return 1.0 * len(w1&w2)\n",
        "\n",
        "def f1_get_total_words(row):\n",
        "  '''Get the union of tag and title'''\n",
        "  w1 = set(map(lambda s: s.lower().strip(), row['Title'].split()))\n",
        "  w2 = set(map(lambda s: s.lower().strip(), row['Tags'].split()))\n",
        "  return 1.0 * len(w1)+len(w2)\n",
        "\n",
        "def f2_get_total_common_words(row):\n",
        "  '''Get the intersection between tag and body'''\n",
        "  w1 = set(map(lambda s: s.lower().strip(), row['Body'].split()))\n",
        "  w2 = set(map(lambda s: s.lower().strip(), row['Tags'].split()))\n",
        "  return 1.0 * len(w1&w2)\n",
        "\n",
        "def f2_get_total_words(row):\n",
        "  '''Get the union of tag and body'''\n",
        "  w1 = set(map(lambda s: s.lower().strip(), row['Body'].split()))\n",
        "  w2 = set(map(lambda s: s.lower().strip(), row['Tags'].split()))\n",
        "  return 1.0 * len(w1)+len(w2)"
      ],
      "execution_count": 0,
      "outputs": []
    },
    {
      "cell_type": "code",
      "metadata": {
        "id": "eUJcwngkBKzx",
        "colab_type": "code",
        "colab": {}
      },
      "source": [
        "df_all['f1_word_common'] = df_all.apply(f1_get_total_common_words, axis=1)\n",
        "df_all['f1_word_total'] = df_all.apply(f1_get_total_words, axis=1)\n",
        "df_all['f1_word_share'] = df_all['f1_word_common']/df_all['f1_word_total']"
      ],
      "execution_count": 0,
      "outputs": []
    },
    {
      "cell_type": "code",
      "metadata": {
        "id": "E9NFi7kIB1Ls",
        "colab_type": "code",
        "colab": {}
      },
      "source": [
        "df_all['f2_word_common'] = df_all.apply(f2_get_total_common_words, axis=1)\n",
        "df_all['f2_word_total'] = df_all.apply(f2_get_total_words, axis=1)\n",
        "df_all['f2_word_share'] = df_all['f2_word_common']/df_all['f2_word_total']"
      ],
      "execution_count": 0,
      "outputs": []
    },
    {
      "cell_type": "code",
      "metadata": {
        "id": "H9MxM0QnChRT",
        "colab_type": "code",
        "outputId": "6ec78d2a-6f1b-4b1f-8788-71b87aa0355c",
        "colab": {
          "base_uri": "https://localhost:8080/",
          "height": 370
        }
      },
      "source": [
        "plt.figure(figsize=(12, 5))\n",
        "plt.suptitle('Wordshare Distribution')\n",
        "plt.subplot(1,2,1)\n",
        "sns.distplot(a=df_all['f1_word_share'], )\n",
        "plt.xlabel('Title and Tag')\n",
        "\n",
        "plt.subplot(1,2,2)\n",
        "sns.distplot(a=df_all['f2_word_share'], color='darkorange')\n",
        "plt.xlabel('Body and Tag')\n",
        "plt.show()"
      ],
      "execution_count": 0,
      "outputs": [
        {
          "output_type": "display_data",
          "data": {
            "image/png": "[encoded data removed]",
            "text/plain": [
              "<Figure size 864x360 with 2 Axes>"
            ]
          },
          "metadata": {
            "tags": [],
            "needs_background": "light"
          }
        }
      ]
    },
    {
      "cell_type": "code",
      "metadata": {
        "id": "53I5QgENPspj",
        "colab_type": "code",
        "outputId": "0a380308-0af0-4a83-b038-89128694d992",
        "colab": {
          "base_uri": "https://localhost:8080/",
          "height": 340
        }
      },
      "source": [
        "print(df_all['f1_word_share'].describe())\n",
        "print()\n",
        "print(df_all['f2_word_share'].describe())"
      ],
      "execution_count": 0,
      "outputs": [
        {
          "output_type": "stream",
          "text": [
            "count    85085.000000\n",
            "mean         0.051366\n",
            "std          0.070719\n",
            "min          0.000000\n",
            "25%          0.000000\n",
            "50%          0.000000\n",
            "75%          0.090909\n",
            "max          0.500000\n",
            "Name: f1_word_share, dtype: float64\n",
            "\n",
            "count    85085.000000\n",
            "mean         0.009174\n",
            "std          0.012351\n",
            "min          0.000000\n",
            "25%          0.000000\n",
            "50%          0.005988\n",
            "75%          0.014085\n",
            "max          0.181818\n",
            "Name: f2_word_share, dtype: float64\n"
          ],
          "name": "stdout"
        }
      ]
    },
    {
      "cell_type": "code",
      "metadata": {
        "id": "XtNy8hup9CLb",
        "colab_type": "code",
        "outputId": "254454b4-35d6-42ab-e181-35d3309dabcd",
        "colab": {
          "base_uri": "https://localhost:8080/",
          "height": 340
        }
      },
      "source": [
        "print(df_all['f1_word_common'].describe())\n",
        "print()\n",
        "print(df_all['f2_word_common'].describe())"
      ],
      "execution_count": 0,
      "outputs": [
        {
          "output_type": "stream",
          "text": [
            "count    85085.000000\n",
            "mean         0.536193\n",
            "std          0.695407\n",
            "min          0.000000\n",
            "25%          0.000000\n",
            "50%          0.000000\n",
            "75%          1.000000\n",
            "max          5.000000\n",
            "Name: f1_word_common, dtype: float64\n",
            "\n",
            "count    85085.000000\n",
            "mean         0.782112\n",
            "std          0.847607\n",
            "min          0.000000\n",
            "25%          0.000000\n",
            "50%          1.000000\n",
            "75%          1.000000\n",
            "max          5.000000\n",
            "Name: f2_word_common, dtype: float64\n"
          ],
          "name": "stdout"
        }
      ]
    },
    {
      "cell_type": "markdown",
      "metadata": {
        "id": "kyLIc_YHOfXI",
        "colab_type": "text"
      },
      "source": [
        "<b>Observation(s): </b>\n",
        "\n",
        "1.) The word share values for tag & title ranges between 0 and 0.50\n",
        "\n",
        "2.) The word share values for tag & body ranges between 0 and 0.18\n",
        "\n",
        "3.) We can see that there are many words in common between Tag and Title. Logically, as the number of words in a question increases, the number of chances that the Tag is present on that question is higher.\n",
        "\n",
        "4.) The word_share for Title and Tags is higher than Tags and Body. With this findings, we can try to add weights on the Title column. \n"
      ]
    },
    {
      "cell_type": "markdown",
      "metadata": {
        "id": "OWnFHWTLQnXQ",
        "colab_type": "text"
      },
      "source": [
        "### 3.2.6 The Top 20 Tags"
      ]
    },
    {
      "cell_type": "code",
      "metadata": {
        "id": "rCP_ZTrYOv93",
        "colab_type": "code",
        "outputId": "b273beb2-917e-49e6-b23e-ea70241d9390",
        "colab": {
          "base_uri": "https://localhost:8080/",
          "height": 392
        }
      },
      "source": [
        "x = np.arange(20)\n",
        "plt.figure(figsize=(10, 4))\n",
        "plt.title('Frequency of Top 20 Tags')\n",
        "plt.bar(tag_df_sorted['Tags'].iloc[:20], \n",
        "        height=tag_df_sorted['Counts'].iloc[:20],\n",
        "        align='edge', width=0.4, color='slateblue')\n",
        "plt.xticks(rotation=60)\n",
        "plt.xlabel('Tags')\n",
        "plt.ylabel('Frequency')\n",
        "plt.show()"
      ],
      "execution_count": 0,
      "outputs": [
        {
          "output_type": "display_data",
          "data": {
            "image/png": "[encoded data removed]",
            "text/plain": [
              "<Figure size 720x288 with 1 Axes>"
            ]
          },
          "metadata": {
            "tags": [],
            "needs_background": "light"
          }
        }
      ]
    },
    {
      "cell_type": "markdown",
      "metadata": {
        "id": "JUiVzg1BUpOq",
        "colab_type": "text"
      },
      "source": [
        "<b>Observation(s):</b>\n",
        "\n",
        "1.) r is the most frequent tag across all of the questions.\n",
        "\n",
        "3.) Interestingly, there is a tag related to self-study.\n"
      ]
    },
    {
      "cell_type": "markdown",
      "metadata": {
        "id": "Y4q9acElVmZj",
        "colab_type": "text"
      },
      "source": [
        "## 3.3 Cleaning and preprocessing of Questions"
      ]
    },
    {
      "cell_type": "markdown",
      "metadata": {
        "id": "SHoj_4qSVr0p",
        "colab_type": "text"
      },
      "source": [
        "### 3.3.1 Preprocessing"
      ]
    },
    {
      "cell_type": "markdown",
      "metadata": {
        "id": "I1kRrnW9V9lo",
        "colab_type": "text"
      },
      "source": [
        "\n",
        "1.) Separate out code-snippets from Body\n",
        "\n",
        "2.) Remove Special characters from Question title and description (not in code)\n",
        "\n",
        "3.) Remove stop words (Except 'C')\n",
        "\n",
        "4.) Remove HTML Tags\n",
        "\n",
        "5.) Convert all the characters into small letters\n",
        "\n",
        "6.) Use SnowballStemmer to stem the words\n",
        "\n",
        "We will also put 3x more weight to the title of the question"
      ]
    },
    {
      "cell_type": "code",
      "metadata": {
        "id": "_SqwJZeFJpLf",
        "colab_type": "code",
        "outputId": "3ab911cb-579c-4796-8735-4ae23081a3d4",
        "colab": {
          "base_uri": "https://localhost:8080/",
          "height": 85
        }
      },
      "source": [
        "nltk.download('stopwords')\n",
        "nltk.download('punkt')\n",
        "stopwords = set(stopwords.words('english'))\n",
        "stemmer = SnowballStemmer('english')"
      ],
      "execution_count": 0,
      "outputs": [
        {
          "output_type": "stream",
          "text": [
            "[nltk_data] Downloading package stopwords to /root/nltk_data...\n",
            "[nltk_data]   Unzipping corpora/stopwords.zip.\n",
            "[nltk_data] Downloading package punkt to /root/nltk_data...\n",
            "[nltk_data]   Unzipping tokenizers/punkt.zip.\n"
          ],
          "name": "stdout"
        }
      ]
    },
    {
      "cell_type": "code",
      "metadata": {
        "id": "qzY8W8odVqv_",
        "colab_type": "code",
        "colab": {}
      },
      "source": [
        "code_pattern = r'<code>(.*?)</code>'\n",
        "b_code_pattern = rb'<code>(.*?)</code>'\n",
        "\n",
        "def remove_html_tags(string):\n",
        "  return re.sub('<.*?>', ' ', string).strip()\n",
        "\n",
        "def remove_special_characters(string):\n",
        "  string = re.sub(r'[^a-zA-Z]+', ' ', string)\n",
        "  return string\n",
        "\n",
        "def remove_code_tags(string):\n",
        "  code = re.findall(r'<code>(.*?)</code>', string, flags=re.DOTALL)\n",
        "  if len(code):\n",
        "    return code[0]\n",
        "  else:\n",
        "    return 'no code'\n",
        "\n",
        "def parse_question(string):\n",
        "  question = re.sub(code_pattern, ' ', string, flags=re.DOTALL|re.MULTILINE)\n",
        "  question = remove_html_tags(question)\n",
        "  return question\n",
        "\n",
        "def to_lower(string):\n",
        "  return string.lower()\n",
        "\n",
        "def tokenize(string):\n",
        "  return word_tokenize(string)\n",
        "\n",
        "def remove_stopwords(string):\n",
        "  string_prime = []\n",
        "  for word in tokenize(string):\n",
        "    is_c = (len(word)!=1 or word=='c')\n",
        "    if word not in stopwords and is_c:\n",
        "      string_prime.append(stemmer.stem(word))\n",
        "  return ' '.join(string_prime)\n",
        "\n",
        "def preprocess(df):\n",
        "  df['words_pre'] = len(df['Body']) + len(df['Title'])\n",
        "  df['Body'] = to_lower(df['Body'])\n",
        "  df['is_code'] = 'code' in df['Body']\n",
        "  df['code'] = remove_code_tags(df['Body'])\n",
        "  df['question'] = parse_question(df['Body'])\n",
        "  # Putting 3x more weight on the title of the question\n",
        "  df['question'] = (df['Title'] + ' ')*3 + df['question']\n",
        "  df['question'] = remove_special_characters(df['question'])\n",
        "  df['question'] = remove_stopwords(df['question'])\n",
        "  df['words_post'] = len(df['question'])\n",
        "  \n",
        "  return df.loc[['Title', 'question', 'code', 'is_code', 'words_pre', 'words_post', 'Tags']]"
      ],
      "execution_count": 0,
      "outputs": []
    },
    {
      "cell_type": "code",
      "metadata": {
        "id": "hMfP0hYoM4mj",
        "colab_type": "code",
        "colab": {}
      },
      "source": [
        "# # Since 4 million datapoints is too large, we will randomly sample 200k datapoints for our experimentation.\n",
        "# start = time.time()\n",
        "# df_no_dup = get_df_from_db('SELECT title, body, tags FROM no_dup_train')\n",
        "# end = time.time()\n",
        "# print('Time consumed to execute the query: ', round(end-start, 3))"
      ],
      "execution_count": 0,
      "outputs": []
    },
    {
      "cell_type": "code",
      "metadata": {
        "id": "VE0m2YyOmtgv",
        "colab_type": "code",
        "colab": {}
      },
      "source": [
        "# df_no_dup = df_no_dup.sample(n=200000, random_state=42)"
      ],
      "execution_count": 0,
      "outputs": []
    },
    {
      "cell_type": "code",
      "metadata": {
        "id": "6SmOviJzY1jo",
        "colab_type": "code",
        "outputId": "582a7624-ad2b-445d-96c3-348dfa7bbf87",
        "colab": {
          "base_uri": "https://localhost:8080/",
          "height": 66,
          "referenced_widgets": [
            "4509ba3f7d234989a1675aa4a54f9dc0",
            "4665b286db98462386a695b9ba9d319d",
            "2b73c0cfe9964a779dd62f9465d55eeb",
            "c7830fe0401648cf9cb4bcd80a66e170",
            "bb93b885f90e4852a303f9418c1a27f3",
            "1870215b5bd34f058455a21ab4b3ef70",
            "927d1a117a7c4d1ba3d996c2b21ac7e5",
            "36eb7f09f26548ca81309570fb41f71d"
          ]
        }
      },
      "source": [
        "tqdm.pandas()\n",
        "df_all = df_all.progress_apply(preprocess, axis=1)"
      ],
      "execution_count": 0,
      "outputs": [
        {
          "output_type": "display_data",
          "data": {
            "application/vnd.jupyter.widget-view+json": {
              "model_id": "4509ba3f7d234989a1675aa4a54f9dc0",
              "version_minor": 0,
              "version_major": 2
            },
            "text/plain": [
              "HBox(children=(FloatProgress(value=0.0, max=85085.0), HTML(value='')))"
            ]
          },
          "metadata": {
            "tags": []
          }
        },
        {
          "output_type": "stream",
          "text": [
            "\n"
          ],
          "name": "stdout"
        }
      ]
    },
    {
      "cell_type": "code",
      "metadata": {
        "id": "CC0N1u3ulwEP",
        "colab_type": "code",
        "colab": {}
      },
      "source": [
        "conn = sqlite3.connect(STACK_OVERFLOW_DIR + 'Preprocessed.db')\n",
        "df_all.to_sql(index=False, name='preprocessed_questions', \n",
        "                 con=conn, if_exists='replace')\n",
        "conn.commit()\n",
        "conn.close()"
      ],
      "execution_count": 0,
      "outputs": []
    },
    {
      "cell_type": "code",
      "metadata": {
        "id": "xJuZnYI3SO2w",
        "colab_type": "code",
        "outputId": "9f598956-e648-49db-9df7-8973dbaf369b",
        "colab": {
          "base_uri": "https://localhost:8080/",
          "height": 34
        }
      },
      "source": [
        "conn = sqlite3.connect(STACK_OVERFLOW_DIR + 'Preprocessed.db')\n",
        "print(pd.read_sql('SELECT * FROM preprocessed_questions', conn).shape)\n",
        "conn.close()"
      ],
      "execution_count": 0,
      "outputs": [
        {
          "output_type": "stream",
          "text": [
            "(85085, 7)\n"
          ],
          "name": "stdout"
        }
      ]
    },
    {
      "cell_type": "code",
      "metadata": {
        "id": "TJYCpoDMjuvt",
        "colab_type": "code",
        "colab": {}
      },
      "source": [
        "import os\n",
        "if os.path.isfile(STACK_OVERFLOW_DIR + 'Preprocessed.db'):\n",
        "  conn = sqlite3.connect(STACK_OVERFLOW_DIR + 'Preprocessed.db')\n",
        "  df_all = pd.read_sql('SELECT * FROM preprocessed_questions', con=conn)\n",
        "else: \n",
        "  print('Please download the Preprocessed.db file!')"
      ],
      "execution_count": 0,
      "outputs": []
    },
    {
      "cell_type": "markdown",
      "metadata": {
        "id": "L5ho5TTVSi99",
        "colab_type": "text"
      },
      "source": [
        "# 4. Machine Learning Modeling"
      ]
    },
    {
      "cell_type": "markdown",
      "metadata": {
        "id": "91oykPqhStE_",
        "colab_type": "text"
      },
      "source": [
        "## 4.1 Converting Tags for Multi-Labels Problem"
      ]
    },
    {
      "cell_type": "code",
      "metadata": {
        "id": "RJspij1ITL9J",
        "colab_type": "code",
        "colab": {}
      },
      "source": [
        "label_vectorizer = CountVectorizer(tokenizer=lambda x: x.split(), binary=True)\n",
        "multilabel_y = label_vectorizer.fit_transform(df_all['Tags'])"
      ],
      "execution_count": 0,
      "outputs": []
    },
    {
      "cell_type": "code",
      "metadata": {
        "id": "cacf9ceRTeTo",
        "colab_type": "code",
        "colab": {}
      },
      "source": [
        "def tags_to_choose(n):\n",
        "    t = multilabel_y.sum(axis=0).tolist()[0]\n",
        "    sorted_tags_i = sorted(range(len(t)), key=lambda i: t[i], reverse=True)\n",
        "    multilabel_yn=multilabel_y[:,sorted_tags_i[:n]]\n",
        "    return multilabel_yn\n",
        "\n",
        "def questions_explained_fn(n):\n",
        "    multilabel_yn = tags_to_choose(n)\n",
        "    x= multilabel_yn.sum(axis=1)\n",
        "    return (np.count_nonzero(x==0))"
      ],
      "execution_count": 0,
      "outputs": []
    },
    {
      "cell_type": "code",
      "metadata": {
        "id": "RJEz_KgXT1ve",
        "colab_type": "code",
        "colab": {}
      },
      "source": [
        "questions_explained = []\n",
        "total_tags=multilabel_y.shape[1]\n",
        "total_qs=df_all.shape[0]\n",
        "for i in range(500, total_tags, 100):\n",
        "    questions_explained.append(np.round(((total_qs-questions_explained_fn(i))/total_qs)*100,3))"
      ],
      "execution_count": 0,
      "outputs": []
    },
    {
      "cell_type": "code",
      "metadata": {
        "id": "iDXxF1BcT6jO",
        "colab_type": "code",
        "outputId": "627d14f3-af9e-4e4c-eb9b-fd8649ea6bd9",
        "colab": {
          "base_uri": "https://localhost:8080/",
          "height": 296
        }
      },
      "source": [
        "fig, ax = plt.subplots()\n",
        "ax.plot(questions_explained)\n",
        "xlabel = list(500+np.array(range(-50,450,50))*50)\n",
        "ax.set_xticklabels(xlabel)\n",
        "plt.xlabel('Number of tags')\n",
        "plt.ylabel('Number Questions coverd partially')\n",
        "plt.grid()\n",
        "plt.show()\n",
        "# you can choose any number of tags based on your computing power\n",
        "print('with ', 500, 'tags we are covering ', questions_explained[0], '% of questions')"
      ],
      "execution_count": 0,
      "outputs": [
        {
          "output_type": "display_data",
          "data": {
            "image/png": "[encoded data removed]",
            "text/plain": [
              "<Figure size 432x288 with 1 Axes>"
            ]
          },
          "metadata": {
            "tags": [],
            "needs_background": "light"
          }
        },
        {
          "output_type": "stream",
          "text": [
            "with  500 tags we are covering  99.077 % of questions\n"
          ],
          "name": "stdout"
        }
      ]
    },
    {
      "cell_type": "code",
      "metadata": {
        "id": "PxFgzkYTUEK2",
        "colab_type": "code",
        "colab": {}
      },
      "source": [
        "multilabel_yx = tags_to_choose(500)"
      ],
      "execution_count": 0,
      "outputs": []
    },
    {
      "cell_type": "markdown",
      "metadata": {
        "id": "x1Pz6RnzbEUb",
        "colab_type": "text"
      },
      "source": [
        "## 4.2 Split the data into test and train (80:20)"
      ]
    },
    {
      "cell_type": "code",
      "metadata": {
        "id": "Sm368gaZau_C",
        "colab_type": "code",
        "colab": {}
      },
      "source": [
        "total_size = df_all.shape[0]\n",
        "train_size = int(0.80*total_size)\n",
        "\n",
        "x_train = df_all.head(train_size)\n",
        "x_test = df_all.tail(total_size - train_size)\n",
        "\n",
        "y_train = multilabel_yx[0:train_size,:]\n",
        "y_test = multilabel_yx[train_size:total_size,:]"
      ],
      "execution_count": 0,
      "outputs": []
    },
    {
      "cell_type": "code",
      "metadata": {
        "id": "rz69y_yADeHl",
        "colab_type": "code",
        "outputId": "f6c76b57-94b7-47fd-c0cc-4414ddeece5d",
        "colab": {
          "base_uri": "https://localhost:8080/",
          "height": 102
        }
      },
      "source": [
        "print('Dimensions of Training and Test set')\n",
        "print('X Train: ', x_train.shape, '\\nY Train: ', y_train.shape)\n",
        "print('X Test: ',x_test.shape, '\\nY Test: ', y_test.shape)"
      ],
      "execution_count": 0,
      "outputs": [
        {
          "output_type": "stream",
          "text": [
            "Dimensions of Training and Test set\n",
            "X Train:  (68068, 7) \n",
            "Y Train:  (68068, 500)\n",
            "X Test:  (17017, 7) \n",
            "Y Test:  (17017, 500)\n"
          ],
          "name": "stdout"
        }
      ]
    },
    {
      "cell_type": "markdown",
      "metadata": {
        "id": "IoEXm9KfbYDV",
        "colab_type": "text"
      },
      "source": [
        "## 4.3 Featurizing data"
      ]
    },
    {
      "cell_type": "code",
      "metadata": {
        "id": "LCxl76xtJmj-",
        "colab_type": "code",
        "colab": {}
      },
      "source": [
        "from sklearn.multiclass import OneVsRestClassifier\n",
        "from sklearn.linear_model import SGDClassifier\n",
        "from sklearn.naive_bayes import MultinomialNB\n",
        "from sklearn.svm import LinearSVC\n",
        "from sklearn import metrics\n",
        "from sklearn.model_selection import GridSearchCV\n",
        "import joblib"
      ],
      "execution_count": 0,
      "outputs": []
    },
    {
      "cell_type": "code",
      "metadata": {
        "id": "c20n5ZmnbFWh",
        "colab_type": "code",
        "outputId": "c9b17c86-10f1-4e5a-8ce1-44c62ff4d65d",
        "colab": {
          "base_uri": "https://localhost:8080/",
          "height": 34
        }
      },
      "source": [
        "start = time.time()\n",
        "vectorizer = TfidfVectorizer(min_df=0.00009, max_features=200000, smooth_idf=True, norm=\"l2\", \\\n",
        "                             tokenizer=lambda x: x.split(), sublinear_tf=False, ngram_range=(1,4))\n",
        "# if os.path.\n",
        "x_train_multilabel = vectorizer.fit_transform(x_train['question'])\n",
        "x_test_multilabel = vectorizer.transform(x_test['question'])\n",
        "print(\"Time taken to run this cell :\", time.time() - start)"
      ],
      "execution_count": 0,
      "outputs": [
        {
          "output_type": "stream",
          "text": [
            "Time taken to run this cell : 85.9029324054718\n"
          ],
          "name": "stdout"
        }
      ]
    },
    {
      "cell_type": "code",
      "metadata": {
        "id": "ltxcFUnXQ7WL",
        "colab_type": "code",
        "outputId": "6243b81a-2703-41ad-9c56-f94c7cfde4ce",
        "colab": {
          "base_uri": "https://localhost:8080/",
          "height": 34
        }
      },
      "source": [
        "joblib.dump(x_train_multilabel, STACK_OVERFLOW_DIR + 'x_train_multilabel.pkl')\n",
        "joblib.dump(y_train, STACK_OVERFLOW_DIR + 'y_train.pkl')\n",
        "joblib.dump(x_test_multilabel, STACK_OVERFLOW_DIR + 'x_test_multilabel.pkl')\n",
        "joblib.dump(y_test, STACK_OVERFLOW_DIR + 'y_test.pkl')"
      ],
      "execution_count": 0,
      "outputs": [
        {
          "output_type": "execute_result",
          "data": {
            "text/plain": [
              "['/content/drive/My Drive/ML Projects/Stack Overflow Tag Prediction/y_test.pkl']"
            ]
          },
          "metadata": {
            "tags": []
          },
          "execution_count": 27
        }
      ]
    },
    {
      "cell_type": "code",
      "metadata": {
        "id": "l-CwH2oGPnrx",
        "colab_type": "code",
        "colab": {}
      },
      "source": [
        "vectorizer.get_feature_names()[500:520]"
      ],
      "execution_count": 0,
      "outputs": []
    },
    {
      "cell_type": "code",
      "metadata": {
        "id": "dvk1_GvnbpbL",
        "colab_type": "code",
        "outputId": "d8f2a25d-6aba-465c-b2cb-f9b149a6f8a9",
        "colab": {
          "base_uri": "https://localhost:8080/",
          "height": 34
        }
      },
      "source": [
        "x_train_multilabel.shape"
      ],
      "execution_count": 0,
      "outputs": [
        {
          "output_type": "execute_result",
          "data": {
            "text/plain": [
              "(68068, 146633)"
            ]
          },
          "metadata": {
            "tags": []
          },
          "execution_count": 29
        }
      ]
    },
    {
      "cell_type": "code",
      "metadata": {
        "id": "PeS0YuJIImfC",
        "colab_type": "code",
        "outputId": "98646afc-94b8-4aeb-8378-5a04aa1e6e7d",
        "colab": {
          "base_uri": "https://localhost:8080/",
          "height": 34
        }
      },
      "source": [
        "# # Save the features as pickle file\n",
        "# joblib.dump(x_train_multilabel, STACK_OVERFLOW_DIR + 'x_train_multilabel.pkl')\n",
        "# joblib.dump(x_test_multilabel, STACK_OVERFLOW_DIR + 'x_test_multilabel.pkl')"
      ],
      "execution_count": 0,
      "outputs": [
        {
          "output_type": "execute_result",
          "data": {
            "text/plain": [
              "['/content/drive/My Drive/ML Projects/Stack Overflow Tag Prediction/x_test_multilabel.pkl']"
            ]
          },
          "metadata": {
            "tags": []
          },
          "execution_count": 112
        }
      ]
    },
    {
      "cell_type": "code",
      "metadata": {
        "id": "COC_RnFDAgaZ",
        "colab_type": "code",
        "colab": {}
      },
      "source": [
        "x_train_multilabel = joblib.load(STACK_OVERFLOW_DIR + 'x_train_multilabel.pkl')\n",
        "x_test_multilabel = joblib.load(STACK_OVERFLOW_DIR + 'x_test_multilabel.pkl')"
      ],
      "execution_count": 0,
      "outputs": []
    },
    {
      "cell_type": "code",
      "metadata": {
        "id": "MX1SMLLwCWEp",
        "colab_type": "code",
        "colab": {}
      },
      "source": [
        "def show_scores(y_true, y_pred):\n",
        "  print(\"accuracy :\",metrics.accuracy_score(y_true,y_pred))\n",
        "  print(\"macro f1 score :\",metrics.f1_score(y_true, y_pred, average = 'macro', zero_division=1))\n",
        "  print(\"micro f1 scoore :\",metrics.f1_score(y_true, y_pred, average = 'micro', zero_division=1))\n",
        "  print(\"hamming loss :\",metrics.hamming_loss(y_true,y_pred))\n",
        "  print(\"Precision recall report :\\n\",metrics.classification_report(y_true, y_pred, zero_division=1))"
      ],
      "execution_count": 0,
      "outputs": []
    },
    {
      "cell_type": "markdown",
      "metadata": {
        "id": "_a4fv1p3CsEt",
        "colab_type": "text"
      },
      "source": [
        "## 4.4 Logistic Regression with Hyperparameter Tuning"
      ]
    },
    {
      "cell_type": "code",
      "metadata": {
        "id": "NpUJHuhiJGiB",
        "colab_type": "code",
        "outputId": "c8f959f6-9705-427d-b0a1-c859264ca757",
        "colab": {
          "base_uri": "https://localhost:8080/",
          "height": 1000
        }
      },
      "source": [
        "start = time.time()\n",
        "alphas = [1/(10**i) for i in range(4, 10)]\n",
        "lr_params = {'estimator__alpha': alphas}\n",
        "\n",
        "lr_clf = OneVsRestClassifier(SGDClassifier(loss='log', penalty='l1'), n_jobs=3)\n",
        "gridcv_lr = GridSearchCV(estimator=lr_clf, param_grid=lr_params, \n",
        "                         scoring='f1_micro', cv=5, verbose=10,\n",
        "                         return_train_score=True)\n",
        "gridcv_lr.fit(x_train_multilabel, y_train)\n",
        "end = time.time()\n",
        "print('Total runtime of 5 fold GridSearchCV: ', round(end-start, 3), ' (seconds)')\n",
        "\n",
        "start = time.time()\n",
        "gridcv_pred = gridcv_lr.predict(x_test_multilabel)\n",
        "end = time.time()\n",
        "print('Total runtime of Testing/Evaluation: ', round(end-start, 3), ' (seconds)')\n",
        "show_scores(y_test, gridcv_pred)"
      ],
      "execution_count": 0,
      "outputs": [
        {
          "output_type": "stream",
          "text": [
            "Fitting 5 folds for each of 6 candidates, totalling 30 fits\n",
            "[CV] estimator__alpha=0.0001 .........................................\n"
          ],
          "name": "stdout"
        },
        {
          "output_type": "stream",
          "text": [
            "[Parallel(n_jobs=1)]: Using backend SequentialBackend with 1 concurrent workers.\n"
          ],
          "name": "stderr"
        },
        {
          "output_type": "stream",
          "text": [
            "[CV]  estimator__alpha=0.0001, score=(train=0.336, test=0.339), total= 4.2min\n",
            "[CV] estimator__alpha=0.0001 .........................................\n"
          ],
          "name": "stdout"
        },
        {
          "output_type": "stream",
          "text": [
            "[Parallel(n_jobs=1)]: Done   1 out of   1 | elapsed:  4.3min remaining:    0.0s\n"
          ],
          "name": "stderr"
        },
        {
          "output_type": "stream",
          "text": [
            "[CV]  estimator__alpha=0.0001, score=(train=0.335, test=0.331), total= 4.1min\n",
            "[CV] estimator__alpha=0.0001 .........................................\n"
          ],
          "name": "stdout"
        },
        {
          "output_type": "stream",
          "text": [
            "[Parallel(n_jobs=1)]: Done   2 out of   2 | elapsed:  8.6min remaining:    0.0s\n"
          ],
          "name": "stderr"
        },
        {
          "output_type": "stream",
          "text": [
            "[CV]  estimator__alpha=0.0001, score=(train=0.338, test=0.326), total= 4.1min\n",
            "[CV] estimator__alpha=0.0001 .........................................\n"
          ],
          "name": "stdout"
        },
        {
          "output_type": "stream",
          "text": [
            "[Parallel(n_jobs=1)]: Done   3 out of   3 | elapsed: 12.8min remaining:    0.0s\n"
          ],
          "name": "stderr"
        },
        {
          "output_type": "stream",
          "text": [
            "[CV]  estimator__alpha=0.0001, score=(train=0.336, test=0.335), total= 4.2min\n",
            "[CV] estimator__alpha=0.0001 .........................................\n"
          ],
          "name": "stdout"
        },
        {
          "output_type": "stream",
          "text": [
            "[Parallel(n_jobs=1)]: Done   4 out of   4 | elapsed: 17.2min remaining:    0.0s\n"
          ],
          "name": "stderr"
        },
        {
          "output_type": "stream",
          "text": [
            "[CV]  estimator__alpha=0.0001, score=(train=0.335, test=0.334), total= 4.1min\n",
            "[CV] estimator__alpha=1e-05 ..........................................\n"
          ],
          "name": "stdout"
        },
        {
          "output_type": "stream",
          "text": [
            "[Parallel(n_jobs=1)]: Done   5 out of   5 | elapsed: 21.4min remaining:    0.0s\n"
          ],
          "name": "stderr"
        },
        {
          "output_type": "stream",
          "text": [
            "[CV]  estimator__alpha=1e-05, score=(train=0.504, test=0.468), total= 4.3min\n",
            "[CV] estimator__alpha=1e-05 ..........................................\n"
          ],
          "name": "stdout"
        },
        {
          "output_type": "stream",
          "text": [
            "[Parallel(n_jobs=1)]: Done   6 out of   6 | elapsed: 25.9min remaining:    0.0s\n"
          ],
          "name": "stderr"
        },
        {
          "output_type": "stream",
          "text": [
            "[CV]  estimator__alpha=1e-05, score=(train=0.504, test=0.460), total= 4.3min\n",
            "[CV] estimator__alpha=1e-05 ..........................................\n"
          ],
          "name": "stdout"
        },
        {
          "output_type": "stream",
          "text": [
            "[Parallel(n_jobs=1)]: Done   7 out of   7 | elapsed: 30.4min remaining:    0.0s\n"
          ],
          "name": "stderr"
        },
        {
          "output_type": "stream",
          "text": [
            "[CV]  estimator__alpha=1e-05, score=(train=0.503, test=0.459), total= 4.3min\n",
            "[CV] estimator__alpha=1e-05 ..........................................\n"
          ],
          "name": "stdout"
        },
        {
          "output_type": "stream",
          "text": [
            "[Parallel(n_jobs=1)]: Done   8 out of   8 | elapsed: 34.9min remaining:    0.0s\n"
          ],
          "name": "stderr"
        },
        {
          "output_type": "stream",
          "text": [
            "[CV]  estimator__alpha=1e-05, score=(train=0.505, test=0.462), total= 4.3min\n",
            "[CV] estimator__alpha=1e-05 ..........................................\n"
          ],
          "name": "stdout"
        },
        {
          "output_type": "stream",
          "text": [
            "[Parallel(n_jobs=1)]: Done   9 out of   9 | elapsed: 39.3min remaining:    0.0s\n"
          ],
          "name": "stderr"
        },
        {
          "output_type": "stream",
          "text": [
            "[CV]  estimator__alpha=1e-05, score=(train=0.503, test=0.464), total= 4.3min\n",
            "[CV] estimator__alpha=1e-06 ..........................................\n",
            "[CV]  estimator__alpha=1e-06, score=(train=0.998, test=0.482), total= 4.8min\n",
            "[CV] estimator__alpha=1e-06 ..........................................\n",
            "[CV]  estimator__alpha=1e-06, score=(train=0.998, test=0.475), total= 4.7min\n",
            "[CV] estimator__alpha=1e-06 ..........................................\n",
            "[CV]  estimator__alpha=1e-06, score=(train=0.998, test=0.475), total= 4.7min\n",
            "[CV] estimator__alpha=1e-06 ..........................................\n",
            "[CV]  estimator__alpha=1e-06, score=(train=0.998, test=0.474), total= 4.7min\n",
            "[CV] estimator__alpha=1e-06 ..........................................\n",
            "[CV]  estimator__alpha=1e-06, score=(train=0.998, test=0.478), total= 4.7min\n",
            "[CV] estimator__alpha=1e-07 ..........................................\n",
            "[CV]  estimator__alpha=1e-07, score=(train=1.000, test=0.470), total= 5.1min\n",
            "[CV] estimator__alpha=1e-07 ..........................................\n",
            "[CV]  estimator__alpha=1e-07, score=(train=0.999, test=0.463), total= 5.1min\n",
            "[CV] estimator__alpha=1e-07 ..........................................\n",
            "[CV]  estimator__alpha=1e-07, score=(train=1.000, test=0.466), total= 5.0min\n",
            "[CV] estimator__alpha=1e-07 ..........................................\n",
            "[CV]  estimator__alpha=1e-07, score=(train=1.000, test=0.464), total= 5.3min\n",
            "[CV] estimator__alpha=1e-07 ..........................................\n",
            "[CV]  estimator__alpha=1e-07, score=(train=1.000, test=0.470), total= 5.2min\n",
            "[CV] estimator__alpha=1e-08 ..........................................\n",
            "[CV]  estimator__alpha=1e-08, score=(train=1.000, test=0.465), total= 5.9min\n",
            "[CV] estimator__alpha=1e-08 ..........................................\n",
            "[CV]  estimator__alpha=1e-08, score=(train=0.999, test=0.457), total= 5.8min\n",
            "[CV] estimator__alpha=1e-08 ..........................................\n",
            "[CV]  estimator__alpha=1e-08, score=(train=0.999, test=0.461), total= 5.7min\n",
            "[CV] estimator__alpha=1e-08 ..........................................\n",
            "[CV]  estimator__alpha=1e-08, score=(train=1.000, test=0.457), total= 5.7min\n",
            "[CV] estimator__alpha=1e-08 ..........................................\n",
            "[CV]  estimator__alpha=1e-08, score=(train=1.000, test=0.464), total= 5.7min\n",
            "[CV] estimator__alpha=1e-09 ..........................................\n",
            "[CV]  estimator__alpha=1e-09, score=(train=1.000, test=0.466), total= 6.6min\n",
            "[CV] estimator__alpha=1e-09 ..........................................\n",
            "[CV]  estimator__alpha=1e-09, score=(train=1.000, test=0.458), total= 6.7min\n",
            "[CV] estimator__alpha=1e-09 ..........................................\n",
            "[CV]  estimator__alpha=1e-09, score=(train=1.000, test=0.456), total= 6.4min\n",
            "[CV] estimator__alpha=1e-09 ..........................................\n",
            "[CV]  estimator__alpha=1e-09, score=(train=1.000, test=0.459), total= 6.7min\n",
            "[CV] estimator__alpha=1e-09 ..........................................\n",
            "[CV]  estimator__alpha=1e-09, score=(train=1.000, test=0.465), total= 6.7min\n"
          ],
          "name": "stdout"
        },
        {
          "output_type": "stream",
          "text": [
            "[Parallel(n_jobs=1)]: Done  30 out of  30 | elapsed: 158.1min finished\n"
          ],
          "name": "stderr"
        },
        {
          "output_type": "stream",
          "text": [
            "Total runtime of 3 fold GridSearchCV:  9844.551  (seconds)\n",
            "Total runtime of Testing/Evaluation:  2.383  (seconds)\n",
            "accuracy : 0.09278956337779867\n",
            "macro f1 score : 0.4110979300597982\n",
            "micro f1 scoore : 0.4791012585656174\n",
            "hamming loss : 0.004484926837868015\n",
            "Precision recall report :\n",
            "               precision    recall  f1-score   support\n",
            "\n",
            "           0       0.58      0.45      0.51      2675\n",
            "           1       0.59      0.47      0.52      2189\n",
            "           2       0.49      0.34      0.41      1296\n",
            "           3       0.72      0.54      0.62      1167\n",
            "           4       0.51      0.38      0.44       813\n",
            "           5       0.50      0.33      0.40       772\n",
            "           6       0.45      0.22      0.30       748\n",
            "           7       0.43      0.27      0.33       671\n",
            "           8       0.79      0.62      0.69       657\n",
            "           9       0.58      0.39      0.47       619\n",
            "          10       0.71      0.52      0.60       582\n",
            "          11       0.46      0.22      0.30       526\n",
            "          12       0.73      0.59      0.65       524\n",
            "          13       0.78      0.58      0.67       499\n",
            "          14       0.56      0.37      0.45       435\n",
            "          15       0.51      0.25      0.34       414\n",
            "          16       0.72      0.60      0.65       403\n",
            "          17       0.82      0.64      0.72       380\n",
            "          18       0.86      0.71      0.78       410\n",
            "          19       0.25      0.06      0.09       362\n",
            "          20       0.75      0.57      0.64       348\n",
            "          21       0.54      0.32      0.40       320\n",
            "          22       0.71      0.38      0.50       303\n",
            "          23       0.57      0.35      0.44       337\n",
            "          24       0.73      0.51      0.60       327\n",
            "          25       0.35      0.17      0.23       305\n",
            "          26       0.67      0.49      0.56       304\n",
            "          27       0.56      0.29      0.38       308\n",
            "          28       0.89      0.77      0.82       230\n",
            "          29       0.52      0.29      0.38       275\n",
            "          30       0.81      0.62      0.70       273\n",
            "          31       0.68      0.46      0.55       261\n",
            "          32       0.75      0.47      0.58       234\n",
            "          33       0.89      0.67      0.77       254\n",
            "          34       0.82      0.58      0.68       255\n",
            "          35       0.77      0.60      0.67       226\n",
            "          36       0.35      0.12      0.18       278\n",
            "          37       0.42      0.19      0.26       230\n",
            "          38       0.86      0.61      0.72       205\n",
            "          39       0.66      0.30      0.41       237\n",
            "          40       0.65      0.29      0.40       222\n",
            "          41       0.28      0.05      0.09       201\n",
            "          42       0.52      0.30      0.38       191\n",
            "          43       0.63      0.39      0.48       223\n",
            "          44       0.36      0.17      0.23       177\n",
            "          45       0.74      0.47      0.58       215\n",
            "          46       0.57      0.30      0.39       161\n",
            "          47       0.39      0.13      0.20       181\n",
            "          48       0.65      0.53      0.58       190\n",
            "          49       0.75      0.44      0.55       196\n",
            "          50       0.42      0.10      0.16       198\n",
            "          51       0.66      0.44      0.53       177\n",
            "          52       0.93      0.73      0.82       210\n",
            "          53       0.66      0.38      0.48       168\n",
            "          54       0.74      0.72      0.73       162\n",
            "          55       0.52      0.32      0.39       176\n",
            "          56       0.66      0.35      0.46       173\n",
            "          57       0.50      0.20      0.29       176\n",
            "          58       0.68      0.52      0.59       163\n",
            "          59       0.72      0.51      0.60       179\n",
            "          60       0.36      0.11      0.17       205\n",
            "          61       0.56      0.37      0.44       161\n",
            "          62       0.41      0.17      0.24       163\n",
            "          63       0.75      0.52      0.61       167\n",
            "          64       0.28      0.06      0.10       191\n",
            "          65       0.55      0.32      0.40       163\n",
            "          66       0.23      0.12      0.15       138\n",
            "          67       0.61      0.28      0.38       167\n",
            "          68       0.95      0.73      0.82       148\n",
            "          69       0.51      0.30      0.38       144\n",
            "          70       0.45      0.21      0.29       135\n",
            "          71       0.68      0.48      0.56       134\n",
            "          72       0.60      0.39      0.47       137\n",
            "          73       0.60      0.30      0.40       136\n",
            "          74       0.75      0.45      0.56       144\n",
            "          75       0.59      0.27      0.37       132\n",
            "          76       0.63      0.47      0.54       126\n",
            "          77       0.64      0.33      0.44       130\n",
            "          78       0.35      0.16      0.22       135\n",
            "          79       0.76      0.57      0.65       107\n",
            "          80       0.69      0.50      0.58       107\n",
            "          81       0.87      0.66      0.75       128\n",
            "          82       0.49      0.39      0.44       102\n",
            "          83       0.44      0.06      0.10       118\n",
            "          84       0.68      0.54      0.60       128\n",
            "          85       0.65      0.40      0.49       129\n",
            "          86       0.59      0.45      0.51       128\n",
            "          87       0.78      0.55      0.64       142\n",
            "          88       0.55      0.41      0.47       116\n",
            "          89       0.42      0.17      0.24       109\n",
            "          90       0.57      0.42      0.48       103\n",
            "          91       0.65      0.30      0.41       119\n",
            "          92       0.11      0.01      0.02        93\n",
            "          93       0.50      0.12      0.19       112\n",
            "          94       0.55      0.23      0.32       106\n",
            "          95       0.58      0.18      0.27       107\n",
            "          96       0.75      0.65      0.69        82\n",
            "          97       0.67      0.42      0.52        92\n",
            "          98       0.54      0.37      0.44        97\n",
            "          99       0.36      0.10      0.15       102\n",
            "         100       0.80      0.57      0.66       113\n",
            "         101       0.82      0.65      0.73        98\n",
            "         102       0.58      0.33      0.42        98\n",
            "         103       0.65      0.41      0.50       102\n",
            "         104       0.28      0.10      0.15       101\n",
            "         105       0.58      0.30      0.39       114\n",
            "         106       0.89      0.71      0.79        72\n",
            "         107       0.65      0.44      0.53       102\n",
            "         108       0.77      0.53      0.63        90\n",
            "         109       0.67      0.33      0.44        88\n",
            "         110       0.27      0.08      0.13        86\n",
            "         111       0.77      0.51      0.61        95\n",
            "         112       0.70      0.37      0.49        70\n",
            "         113       0.80      0.50      0.62        90\n",
            "         114       0.59      0.36      0.45        98\n",
            "         115       0.77      0.70      0.73        79\n",
            "         116       0.33      0.04      0.07        81\n",
            "         117       0.84      0.38      0.52       101\n",
            "         118       0.45      0.28      0.35        68\n",
            "         119       0.36      0.13      0.19        78\n",
            "         120       0.62      0.36      0.46        83\n",
            "         121       0.47      0.24      0.32        75\n",
            "         122       0.91      0.66      0.76        91\n",
            "         123       0.64      0.33      0.43        85\n",
            "         124       0.62      0.49      0.54        76\n",
            "         125       0.81      0.51      0.63        74\n",
            "         126       0.55      0.30      0.39        79\n",
            "         127       0.54      0.20      0.30        64\n",
            "         128       0.38      0.16      0.23        61\n",
            "         129       0.52      0.23      0.32        64\n",
            "         130       0.67      0.47      0.56        78\n",
            "         131       0.77      0.73      0.75        73\n",
            "         132       0.61      0.41      0.49        66\n",
            "         133       0.74      0.38      0.50        68\n",
            "         134       0.64      0.47      0.54        64\n",
            "         135       0.76      0.54      0.63        69\n",
            "         136       0.25      0.06      0.09        69\n",
            "         137       0.50      0.01      0.03        69\n",
            "         138       0.54      0.32      0.40        65\n",
            "         139       0.53      0.28      0.37        75\n",
            "         140       0.46      0.33      0.39        69\n",
            "         141       0.67      0.39      0.49        83\n",
            "         142       0.14      0.02      0.03        57\n",
            "         143       0.62      0.43      0.51        67\n",
            "         144       0.57      0.36      0.44        66\n",
            "         145       0.29      0.16      0.21        61\n",
            "         146       0.62      0.46      0.53        56\n",
            "         147       0.71      0.54      0.61        65\n",
            "         148       0.65      0.40      0.49        55\n",
            "         149       0.86      0.59      0.70        71\n",
            "         150       0.30      0.11      0.17        61\n",
            "         151       0.71      0.44      0.55        45\n",
            "         152       0.92      0.73      0.81        75\n",
            "         153       0.71      0.54      0.61        67\n",
            "         154       0.37      0.10      0.15        72\n",
            "         155       0.85      0.61      0.71        66\n",
            "         156       0.00      0.00      0.00        50\n",
            "         157       0.48      0.34      0.40        67\n",
            "         158       0.50      0.05      0.09        58\n",
            "         159       0.48      0.22      0.31        67\n",
            "         160       0.94      0.81      0.87        62\n",
            "         161       0.94      0.59      0.73        54\n",
            "         162       0.68      0.30      0.42        50\n",
            "         163       0.56      0.40      0.46        58\n",
            "         164       0.46      0.20      0.28        56\n",
            "         165       0.59      0.34      0.43        59\n",
            "         166       0.32      0.12      0.18        57\n",
            "         167       0.77      0.45      0.57        67\n",
            "         168       0.49      0.29      0.36        63\n",
            "         169       0.88      0.56      0.69        66\n",
            "         170       0.43      0.15      0.23        59\n",
            "         171       0.69      0.55      0.61        49\n",
            "         172       0.69      0.44      0.54        54\n",
            "         173       0.56      0.31      0.39        49\n",
            "         174       0.38      0.20      0.27        54\n",
            "         175       0.74      0.41      0.53        56\n",
            "         176       0.71      0.56      0.62        43\n",
            "         177       0.71      0.54      0.61        65\n",
            "         178       0.27      0.07      0.11        55\n",
            "         179       0.64      0.57      0.60        37\n",
            "         180       0.87      0.54      0.67        50\n",
            "         181       0.65      0.43      0.51        47\n",
            "         182       0.83      0.80      0.81        54\n",
            "         183       0.75      0.36      0.48        59\n",
            "         184       0.25      0.09      0.13        56\n",
            "         185       0.81      0.44      0.57        48\n",
            "         186       0.33      0.11      0.16        56\n",
            "         187       0.70      0.57      0.63        46\n",
            "         188       0.67      0.37      0.48        54\n",
            "         189       0.56      0.48      0.51        42\n",
            "         190       0.94      0.55      0.69        60\n",
            "         191       0.89      0.56      0.69        57\n",
            "         192       0.33      0.13      0.19        52\n",
            "         193       0.61      0.34      0.44        50\n",
            "         194       0.70      0.30      0.42        46\n",
            "         195       0.20      0.02      0.03        64\n",
            "         196       0.40      0.27      0.32        45\n",
            "         197       0.83      0.36      0.50        56\n",
            "         198       0.68      0.36      0.47        47\n",
            "         199       0.59      0.24      0.34        55\n",
            "         200       0.45      0.17      0.25        58\n",
            "         201       0.96      0.54      0.69        46\n",
            "         202       0.48      0.28      0.35        43\n",
            "         203       0.35      0.17      0.23        46\n",
            "         204       0.53      0.20      0.30        44\n",
            "         205       0.76      0.31      0.44        62\n",
            "         206       0.48      0.27      0.35        48\n",
            "         207       0.59      0.32      0.42        50\n",
            "         208       0.62      0.28      0.38        47\n",
            "         209       0.72      0.57      0.64        49\n",
            "         210       0.84      0.56      0.67        57\n",
            "         211       0.43      0.34      0.38        47\n",
            "         212       0.76      0.50      0.60        52\n",
            "         213       0.59      0.30      0.40        43\n",
            "         214       0.41      0.25      0.31        44\n",
            "         215       0.73      0.51      0.60        43\n",
            "         216       0.94      0.48      0.63        61\n",
            "         217       0.70      0.65      0.67        46\n",
            "         218       0.85      0.67      0.75        52\n",
            "         219       0.27      0.17      0.21        41\n",
            "         220       0.22      0.11      0.15        37\n",
            "         221       0.31      0.11      0.16        37\n",
            "         222       0.26      0.11      0.16        44\n",
            "         223       0.59      0.30      0.40        43\n",
            "         224       0.83      0.62      0.71        48\n",
            "         225       0.54      0.17      0.25        42\n",
            "         226       0.78      0.61      0.68        41\n",
            "         227       0.56      0.30      0.39        50\n",
            "         228       0.85      0.55      0.67        42\n",
            "         229       0.00      0.00      0.00        43\n",
            "         230       0.77      0.68      0.72        50\n",
            "         231       0.54      0.28      0.37        47\n",
            "         232       0.68      0.36      0.47        47\n",
            "         233       0.30      0.17      0.21        36\n",
            "         234       0.33      0.09      0.14        46\n",
            "         235       0.45      0.23      0.30        40\n",
            "         236       0.76      0.49      0.59        45\n",
            "         237       0.17      0.03      0.05        32\n",
            "         238       0.56      0.21      0.30        48\n",
            "         239       0.56      0.17      0.26        52\n",
            "         240       0.91      0.68      0.78        47\n",
            "         241       0.60      0.34      0.43        44\n",
            "         242       0.50      0.05      0.09        41\n",
            "         243       0.81      0.63      0.71        35\n",
            "         244       1.00      0.64      0.78        39\n",
            "         245       0.15      0.07      0.10        29\n",
            "         246       0.92      0.56      0.70        39\n",
            "         247       0.82      0.39      0.53        36\n",
            "         248       0.56      0.21      0.31        47\n",
            "         249       0.78      0.32      0.45        57\n",
            "         250       0.17      0.08      0.11        25\n",
            "         251       0.61      0.27      0.37        41\n",
            "         252       0.71      0.15      0.24        34\n",
            "         253       0.14      0.03      0.05        33\n",
            "         254       0.92      0.59      0.72        39\n",
            "         255       0.38      0.12      0.19        41\n",
            "         256       0.46      0.30      0.36        37\n",
            "         257       0.14      0.03      0.04        38\n",
            "         258       0.64      0.19      0.30        36\n",
            "         259       0.80      0.54      0.65        37\n",
            "         260       0.72      0.50      0.59        36\n",
            "         261       0.75      0.21      0.33        43\n",
            "         262       0.43      0.30      0.35        30\n",
            "         263       0.77      0.47      0.59        36\n",
            "         264       0.84      0.69      0.76        45\n",
            "         265       0.89      0.44      0.59        36\n",
            "         266       0.70      0.41      0.52        34\n",
            "         267       1.00      0.60      0.75        40\n",
            "         268       0.91      0.53      0.67        40\n",
            "         269       0.33      0.18      0.24        22\n",
            "         270       0.75      0.58      0.65        26\n",
            "         271       0.75      0.09      0.15        35\n",
            "         272       0.65      0.42      0.52        40\n",
            "         273       0.71      0.33      0.45        30\n",
            "         274       0.33      0.25      0.29        24\n",
            "         275       0.76      0.42      0.54        31\n",
            "         276       0.84      0.75      0.79        28\n",
            "         277       0.68      0.41      0.51        37\n",
            "         278       0.75      0.41      0.53        37\n",
            "         279       0.17      0.07      0.10        30\n",
            "         280       1.00      0.21      0.34        34\n",
            "         281       0.74      0.60      0.66        42\n",
            "         282       0.62      0.35      0.45        37\n",
            "         283       0.84      0.50      0.63        32\n",
            "         284       0.80      0.12      0.22        32\n",
            "         285       0.80      0.52      0.63        31\n",
            "         286       0.63      0.42      0.51        40\n",
            "         287       0.29      0.06      0.10        34\n",
            "         288       0.43      0.36      0.39        25\n",
            "         289       0.90      0.84      0.87        31\n",
            "         290       0.00      0.00      0.00        36\n",
            "         291       0.81      0.61      0.70        36\n",
            "         292       0.79      0.39      0.53        38\n",
            "         293       0.79      0.45      0.58        33\n",
            "         294       0.73      0.50      0.59        32\n",
            "         295       0.00      0.00      0.00        27\n",
            "         296       0.36      0.17      0.24        23\n",
            "         297       0.30      0.10      0.15        29\n",
            "         298       0.86      0.73      0.79        33\n",
            "         299       0.20      0.09      0.13        33\n",
            "         300       0.67      0.37      0.48        27\n",
            "         301       0.27      0.15      0.20        26\n",
            "         302       0.35      0.22      0.27        27\n",
            "         303       0.20      0.04      0.06        28\n",
            "         304       0.50      0.15      0.23        33\n",
            "         305       0.62      0.13      0.21        39\n",
            "         306       0.85      0.82      0.84        34\n",
            "         307       0.71      0.19      0.30        26\n",
            "         308       0.78      0.54      0.64        26\n",
            "         309       0.76      0.33      0.46        40\n",
            "         310       0.86      0.64      0.73        28\n",
            "         311       0.36      0.14      0.20        29\n",
            "         312       0.60      0.21      0.31        29\n",
            "         313       0.70      0.57      0.63        28\n",
            "         314       0.85      0.55      0.67        31\n",
            "         315       0.28      0.18      0.22        28\n",
            "         316       0.00      0.00      0.00        23\n",
            "         317       0.47      0.24      0.32        29\n",
            "         318       1.00      0.75      0.86        24\n",
            "         319       0.71      0.54      0.61        28\n",
            "         320       0.84      0.55      0.67        29\n",
            "         321       0.45      0.19      0.26        27\n",
            "         322       0.00      0.00      0.00        45\n",
            "         323       0.61      0.48      0.54        23\n",
            "         324       0.81      0.52      0.63        25\n",
            "         325       0.69      0.41      0.51        27\n",
            "         326       0.00      0.00      0.00        33\n",
            "         327       0.60      0.26      0.36        23\n",
            "         328       0.81      0.52      0.63        25\n",
            "         329       0.78      0.55      0.64        33\n",
            "         330       0.50      0.12      0.20        24\n",
            "         331       0.73      0.61      0.67        31\n",
            "         332       0.25      0.07      0.11        28\n",
            "         333       0.50      0.14      0.22        29\n",
            "         334       0.72      0.43      0.54        30\n",
            "         335       0.20      0.03      0.06        29\n",
            "         336       0.80      0.28      0.41        29\n",
            "         337       0.83      0.66      0.73        29\n",
            "         338       0.88      0.33      0.48        21\n",
            "         339       0.95      0.61      0.75        31\n",
            "         340       0.36      0.15      0.22        26\n",
            "         341       0.57      0.14      0.23        28\n",
            "         342       0.36      0.19      0.25        21\n",
            "         343       0.55      0.19      0.28        32\n",
            "         344       0.68      0.54      0.60        24\n",
            "         345       0.23      0.12      0.16        24\n",
            "         346       0.67      0.42      0.51        24\n",
            "         347       0.00      0.00      0.00        20\n",
            "         348       0.11      0.04      0.06        23\n",
            "         349       0.76      0.48      0.59        27\n",
            "         350       0.87      0.87      0.87        15\n",
            "         351       0.44      0.17      0.25        23\n",
            "         352       0.38      0.13      0.19        23\n",
            "         353       0.88      0.27      0.41        26\n",
            "         354       0.88      0.52      0.65        27\n",
            "         355       0.50      0.29      0.37        24\n",
            "         356       0.60      0.25      0.35        24\n",
            "         357       0.80      0.44      0.57        18\n",
            "         358       0.73      0.34      0.47        32\n",
            "         359       0.71      0.60      0.65        25\n",
            "         360       0.60      0.24      0.34        25\n",
            "         361       0.78      0.28      0.41        25\n",
            "         362       0.61      0.44      0.51        25\n",
            "         363       0.60      0.18      0.27        34\n",
            "         364       0.67      0.23      0.34        26\n",
            "         365       0.25      0.05      0.08        20\n",
            "         366       1.00      0.05      0.10        20\n",
            "         367       0.62      0.29      0.40        17\n",
            "         368       0.83      0.36      0.50        28\n",
            "         369       0.62      0.22      0.32        23\n",
            "         370       0.00      0.00      0.00        19\n",
            "         371       0.17      0.04      0.06        27\n",
            "         372       0.80      0.55      0.65        22\n",
            "         373       0.73      0.28      0.40        29\n",
            "         374       0.62      0.23      0.33        22\n",
            "         375       0.67      0.08      0.14        26\n",
            "         376       0.55      0.30      0.39        20\n",
            "         377       0.40      0.13      0.20        15\n",
            "         378       0.50      0.32      0.39        19\n",
            "         379       0.60      0.40      0.48        15\n",
            "         380       0.00      0.00      0.00        11\n",
            "         381       0.89      0.68      0.77        25\n",
            "         382       0.67      0.32      0.43        19\n",
            "         383       0.80      0.38      0.52        21\n",
            "         384       0.85      0.52      0.65        21\n",
            "         385       0.57      0.15      0.24        26\n",
            "         386       0.50      0.38      0.43        21\n",
            "         387       0.70      0.58      0.64        24\n",
            "         388       0.83      0.58      0.68        26\n",
            "         389       0.67      0.26      0.38        23\n",
            "         390       0.00      0.00      0.00        22\n",
            "         391       0.83      0.20      0.32        25\n",
            "         392       0.71      0.28      0.40        18\n",
            "         393       0.75      0.55      0.63        22\n",
            "         394       0.88      0.32      0.47        22\n",
            "         395       0.50      0.44      0.47        16\n",
            "         396       0.39      0.50      0.44        14\n",
            "         397       0.80      0.44      0.57        18\n",
            "         398       0.20      0.10      0.13        21\n",
            "         399       0.67      0.15      0.25        13\n",
            "         400       0.68      0.46      0.55        28\n",
            "         401       0.20      0.05      0.07        22\n",
            "         402       0.67      0.32      0.43        19\n",
            "         403       0.20      0.05      0.08        19\n",
            "         404       1.00      0.05      0.09        22\n",
            "         405       0.36      0.27      0.31        15\n",
            "         406       1.00      0.59      0.74        17\n",
            "         407       0.00      0.00      0.00        17\n",
            "         408       0.75      0.50      0.60        18\n",
            "         409       0.50      0.12      0.19        25\n",
            "         410       0.64      0.47      0.54        15\n",
            "         411       0.00      0.00      0.00        13\n",
            "         412       0.71      0.48      0.57        25\n",
            "         413       0.83      0.68      0.75        22\n",
            "         414       0.88      0.71      0.79        21\n",
            "         415       0.00      0.00      0.00        15\n",
            "         416       0.38      0.16      0.22        19\n",
            "         417       0.33      0.05      0.09        20\n",
            "         418       0.83      0.62      0.71        16\n",
            "         419       0.29      0.11      0.15        19\n",
            "         420       0.67      0.53      0.59        15\n",
            "         421       0.71      0.48      0.57        21\n",
            "         422       0.33      0.27      0.30        15\n",
            "         423       0.56      0.23      0.32        22\n",
            "         424       0.58      0.27      0.37        26\n",
            "         425       0.00      0.00      0.00         7\n",
            "         426       0.00      0.00      0.00        16\n",
            "         427       0.78      0.61      0.68        23\n",
            "         428       0.17      0.07      0.10        14\n",
            "         429       0.73      0.55      0.63        20\n",
            "         430       0.60      0.15      0.24        20\n",
            "         431       0.60      0.29      0.39        21\n",
            "         432       0.86      0.63      0.73        19\n",
            "         433       0.00      0.00      0.00        24\n",
            "         434       0.62      0.45      0.53        11\n",
            "         435       0.30      0.16      0.21        19\n",
            "         436       0.00      0.00      0.00        24\n",
            "         437       0.79      0.52      0.63        21\n",
            "         438       0.33      0.07      0.12        14\n",
            "         439       0.00      0.00      0.00        20\n",
            "         440       0.29      0.11      0.16        18\n",
            "         441       0.67      0.57      0.62        14\n",
            "         442       0.58      0.29      0.39        24\n",
            "         443       0.00      0.00      0.00        25\n",
            "         444       0.44      0.25      0.32        16\n",
            "         445       0.50      0.40      0.44        15\n",
            "         446       0.25      0.12      0.16        17\n",
            "         447       0.75      0.38      0.50        16\n",
            "         448       0.00      0.00      0.00        15\n",
            "         449       0.73      0.40      0.52        20\n",
            "         450       1.00      0.11      0.19        19\n",
            "         451       0.93      0.67      0.78        21\n",
            "         452       0.85      0.69      0.76        16\n",
            "         453       0.00      0.00      0.00        15\n",
            "         454       0.80      0.24      0.36        17\n",
            "         455       0.25      0.21      0.23        14\n",
            "         456       0.00      0.00      0.00        12\n",
            "         457       0.40      0.20      0.27        20\n",
            "         458       0.17      0.10      0.12        10\n",
            "         459       0.00      0.00      0.00        20\n",
            "         460       0.56      0.45      0.50        11\n",
            "         461       0.43      0.16      0.23        19\n",
            "         462       0.00      0.00      0.00        17\n",
            "         463       0.75      0.47      0.58        19\n",
            "         464       0.86      0.60      0.71        10\n",
            "         465       0.42      0.38      0.40        13\n",
            "         466       0.38      0.17      0.23        18\n",
            "         467       0.72      0.65      0.68        20\n",
            "         468       0.80      0.19      0.31        21\n",
            "         469       0.50      0.06      0.11        17\n",
            "         470       0.43      0.21      0.29        14\n",
            "         471       0.69      0.47      0.56        19\n",
            "         472       0.57      0.29      0.38        14\n",
            "         473       0.40      0.11      0.17        18\n",
            "         474       0.00      0.00      0.00        16\n",
            "         475       0.75      0.18      0.29        17\n",
            "         476       0.50      0.04      0.08        23\n",
            "         477       0.25      0.06      0.10        16\n",
            "         478       0.33      0.08      0.12        13\n",
            "         479       1.00      0.06      0.12        16\n",
            "         480       0.50      0.31      0.38        13\n",
            "         481       0.45      0.45      0.45        11\n",
            "         482       0.88      0.47      0.61        15\n",
            "         483       0.25      0.10      0.14        10\n",
            "         484       0.44      0.33      0.38        12\n",
            "         485       0.75      0.33      0.46         9\n",
            "         486       1.00      0.11      0.20        18\n",
            "         487       0.60      0.43      0.50        14\n",
            "         488       0.78      0.37      0.50        19\n",
            "         489       0.00      0.00      0.00        18\n",
            "         490       0.60      0.43      0.50        14\n",
            "         491       0.80      0.36      0.50        11\n",
            "         492       0.50      0.19      0.28        21\n",
            "         493       0.75      0.53      0.62        17\n",
            "         494       0.67      0.40      0.50        10\n",
            "         495       0.55      0.75      0.63         8\n",
            "         496       0.75      0.30      0.43        10\n",
            "         497       0.33      0.05      0.08        21\n",
            "         498       0.50      0.33      0.40        15\n",
            "         499       0.82      0.53      0.64        17\n",
            "\n",
            "   micro avg       0.63      0.39      0.48     45465\n",
            "   macro avg       0.58      0.34      0.41     45465\n",
            "weighted avg       0.60      0.39      0.46     45465\n",
            " samples avg       0.56      0.41      0.44     45465\n",
            "\n"
          ],
          "name": "stdout"
        },
        {
          "output_type": "stream",
          "text": [
            "/usr/local/lib/python3.6/dist-packages/sklearn/metrics/_classification.py:1272: UndefinedMetricWarning: Precision and F-score are ill-defined and being set to 0.0 in labels with no predicted samples. Use `zero_division` parameter to control this behavior.\n",
            "  _warn_prf(average, modifier, msg_start, len(result))\n",
            "/usr/local/lib/python3.6/dist-packages/sklearn/metrics/_classification.py:1272: UndefinedMetricWarning: Precision and F-score are ill-defined and being set to 0.0 in samples with no predicted labels. Use `zero_division` parameter to control this behavior.\n",
            "  _warn_prf(average, modifier, msg_start, len(result))\n",
            "/usr/local/lib/python3.6/dist-packages/sklearn/metrics/_classification.py:1272: UndefinedMetricWarning: Recall and F-score are ill-defined and being set to 0.0 in samples with no true labels. Use `zero_division` parameter to control this behavior.\n",
            "  _warn_prf(average, modifier, msg_start, len(result))\n"
          ],
          "name": "stderr"
        }
      ]
    },
    {
      "cell_type": "code",
      "metadata": {
        "id": "X8F6DweOBny6",
        "colab_type": "code",
        "outputId": "2534dd0e-5c3c-4a11-b8f6-d0f19458b935",
        "colab": {
          "base_uri": "https://localhost:8080/",
          "height": 34
        }
      },
      "source": [
        "# Save the best estimator\n",
        "joblib.dump(gridcv_lr.best_estimator_, STACK_OVERFLOW_DIR + 'LR_BestEstimator.pkl')"
      ],
      "execution_count": 0,
      "outputs": [
        {
          "output_type": "execute_result",
          "data": {
            "text/plain": [
              "['/content/drive/My Drive/ML Projects/Stack Overflow Tag Prediction/LR_BestEstimator.pkl']"
            ]
          },
          "metadata": {
            "tags": []
          },
          "execution_count": 20
        }
      ]
    },
    {
      "cell_type": "code",
      "metadata": {
        "id": "jEtwXrjYJuCY",
        "colab_type": "code",
        "outputId": "f4808d10-4059-4303-82e9-d8629559a340",
        "colab": {
          "base_uri": "https://localhost:8080/",
          "height": 1000
        }
      },
      "source": [
        "show_scores(y_test, gridcv_pred)"
      ],
      "execution_count": 0,
      "outputs": [
        {
          "output_type": "stream",
          "text": [
            "accuracy : 0.09278956337779867\n",
            "macro f1 score : 0.4110979300597982\n",
            "micro f1 scoore : 0.4791012585656174\n",
            "hamming loss : 0.004484926837868015\n",
            "Precision recall report :\n",
            "               precision    recall  f1-score   support\n",
            "\n",
            "           0       0.58      0.45      0.51      2675\n",
            "           1       0.59      0.47      0.52      2189\n",
            "           2       0.49      0.34      0.41      1296\n",
            "           3       0.72      0.54      0.62      1167\n",
            "           4       0.51      0.38      0.44       813\n",
            "           5       0.50      0.33      0.40       772\n",
            "           6       0.45      0.22      0.30       748\n",
            "           7       0.43      0.27      0.33       671\n",
            "           8       0.79      0.62      0.69       657\n",
            "           9       0.58      0.39      0.47       619\n",
            "          10       0.71      0.52      0.60       582\n",
            "          11       0.46      0.22      0.30       526\n",
            "          12       0.73      0.59      0.65       524\n",
            "          13       0.78      0.58      0.67       499\n",
            "          14       0.56      0.37      0.45       435\n",
            "          15       0.51      0.25      0.34       414\n",
            "          16       0.72      0.60      0.65       403\n",
            "          17       0.82      0.64      0.72       380\n",
            "          18       0.86      0.71      0.78       410\n",
            "          19       0.25      0.06      0.09       362\n",
            "          20       0.75      0.57      0.64       348\n",
            "          21       0.54      0.32      0.40       320\n",
            "          22       0.71      0.38      0.50       303\n",
            "          23       0.57      0.35      0.44       337\n",
            "          24       0.73      0.51      0.60       327\n",
            "          25       0.35      0.17      0.23       305\n",
            "          26       0.67      0.49      0.56       304\n",
            "          27       0.56      0.29      0.38       308\n",
            "          28       0.89      0.77      0.82       230\n",
            "          29       0.52      0.29      0.38       275\n",
            "          30       0.81      0.62      0.70       273\n",
            "          31       0.68      0.46      0.55       261\n",
            "          32       0.75      0.47      0.58       234\n",
            "          33       0.89      0.67      0.77       254\n",
            "          34       0.82      0.58      0.68       255\n",
            "          35       0.77      0.60      0.67       226\n",
            "          36       0.35      0.12      0.18       278\n",
            "          37       0.42      0.19      0.26       230\n",
            "          38       0.86      0.61      0.72       205\n",
            "          39       0.66      0.30      0.41       237\n",
            "          40       0.65      0.29      0.40       222\n",
            "          41       0.28      0.05      0.09       201\n",
            "          42       0.52      0.30      0.38       191\n",
            "          43       0.63      0.39      0.48       223\n",
            "          44       0.36      0.17      0.23       177\n",
            "          45       0.74      0.47      0.58       215\n",
            "          46       0.57      0.30      0.39       161\n",
            "          47       0.39      0.13      0.20       181\n",
            "          48       0.65      0.53      0.58       190\n",
            "          49       0.75      0.44      0.55       196\n",
            "          50       0.42      0.10      0.16       198\n",
            "          51       0.66      0.44      0.53       177\n",
            "          52       0.93      0.73      0.82       210\n",
            "          53       0.66      0.38      0.48       168\n",
            "          54       0.74      0.72      0.73       162\n",
            "          55       0.52      0.32      0.39       176\n",
            "          56       0.66      0.35      0.46       173\n",
            "          57       0.50      0.20      0.29       176\n",
            "          58       0.68      0.52      0.59       163\n",
            "          59       0.72      0.51      0.60       179\n",
            "          60       0.36      0.11      0.17       205\n",
            "          61       0.56      0.37      0.44       161\n",
            "          62       0.41      0.17      0.24       163\n",
            "          63       0.75      0.52      0.61       167\n",
            "          64       0.28      0.06      0.10       191\n",
            "          65       0.55      0.32      0.40       163\n",
            "          66       0.23      0.12      0.15       138\n",
            "          67       0.61      0.28      0.38       167\n",
            "          68       0.95      0.73      0.82       148\n",
            "          69       0.51      0.30      0.38       144\n",
            "          70       0.45      0.21      0.29       135\n",
            "          71       0.68      0.48      0.56       134\n",
            "          72       0.60      0.39      0.47       137\n",
            "          73       0.60      0.30      0.40       136\n",
            "          74       0.75      0.45      0.56       144\n",
            "          75       0.59      0.27      0.37       132\n",
            "          76       0.63      0.47      0.54       126\n",
            "          77       0.64      0.33      0.44       130\n",
            "          78       0.35      0.16      0.22       135\n",
            "          79       0.76      0.57      0.65       107\n",
            "          80       0.69      0.50      0.58       107\n",
            "          81       0.87      0.66      0.75       128\n",
            "          82       0.49      0.39      0.44       102\n",
            "          83       0.44      0.06      0.10       118\n",
            "          84       0.68      0.54      0.60       128\n",
            "          85       0.65      0.40      0.49       129\n",
            "          86       0.59      0.45      0.51       128\n",
            "          87       0.78      0.55      0.64       142\n",
            "          88       0.55      0.41      0.47       116\n",
            "          89       0.42      0.17      0.24       109\n",
            "          90       0.57      0.42      0.48       103\n",
            "          91       0.65      0.30      0.41       119\n",
            "          92       0.11      0.01      0.02        93\n",
            "          93       0.50      0.12      0.19       112\n",
            "          94       0.55      0.23      0.32       106\n",
            "          95       0.58      0.18      0.27       107\n",
            "          96       0.75      0.65      0.69        82\n",
            "          97       0.67      0.42      0.52        92\n",
            "          98       0.54      0.37      0.44        97\n",
            "          99       0.36      0.10      0.15       102\n",
            "         100       0.80      0.57      0.66       113\n",
            "         101       0.82      0.65      0.73        98\n",
            "         102       0.58      0.33      0.42        98\n",
            "         103       0.65      0.41      0.50       102\n",
            "         104       0.28      0.10      0.15       101\n",
            "         105       0.58      0.30      0.39       114\n",
            "         106       0.89      0.71      0.79        72\n",
            "         107       0.65      0.44      0.53       102\n",
            "         108       0.77      0.53      0.63        90\n",
            "         109       0.67      0.33      0.44        88\n",
            "         110       0.27      0.08      0.13        86\n",
            "         111       0.77      0.51      0.61        95\n",
            "         112       0.70      0.37      0.49        70\n",
            "         113       0.80      0.50      0.62        90\n",
            "         114       0.59      0.36      0.45        98\n",
            "         115       0.77      0.70      0.73        79\n",
            "         116       0.33      0.04      0.07        81\n",
            "         117       0.84      0.38      0.52       101\n",
            "         118       0.45      0.28      0.35        68\n",
            "         119       0.36      0.13      0.19        78\n",
            "         120       0.62      0.36      0.46        83\n",
            "         121       0.47      0.24      0.32        75\n",
            "         122       0.91      0.66      0.76        91\n",
            "         123       0.64      0.33      0.43        85\n",
            "         124       0.62      0.49      0.54        76\n",
            "         125       0.81      0.51      0.63        74\n",
            "         126       0.55      0.30      0.39        79\n",
            "         127       0.54      0.20      0.30        64\n",
            "         128       0.38      0.16      0.23        61\n",
            "         129       0.52      0.23      0.32        64\n",
            "         130       0.67      0.47      0.56        78\n",
            "         131       0.77      0.73      0.75        73\n",
            "         132       0.61      0.41      0.49        66\n",
            "         133       0.74      0.38      0.50        68\n",
            "         134       0.64      0.47      0.54        64\n",
            "         135       0.76      0.54      0.63        69\n",
            "         136       0.25      0.06      0.09        69\n",
            "         137       0.50      0.01      0.03        69\n",
            "         138       0.54      0.32      0.40        65\n",
            "         139       0.53      0.28      0.37        75\n",
            "         140       0.46      0.33      0.39        69\n",
            "         141       0.67      0.39      0.49        83\n",
            "         142       0.14      0.02      0.03        57\n",
            "         143       0.62      0.43      0.51        67\n",
            "         144       0.57      0.36      0.44        66\n",
            "         145       0.29      0.16      0.21        61\n",
            "         146       0.62      0.46      0.53        56\n",
            "         147       0.71      0.54      0.61        65\n",
            "         148       0.65      0.40      0.49        55\n",
            "         149       0.86      0.59      0.70        71\n",
            "         150       0.30      0.11      0.17        61\n",
            "         151       0.71      0.44      0.55        45\n",
            "         152       0.92      0.73      0.81        75\n",
            "         153       0.71      0.54      0.61        67\n",
            "         154       0.37      0.10      0.15        72\n",
            "         155       0.85      0.61      0.71        66\n",
            "         156       0.00      0.00      0.00        50\n",
            "         157       0.48      0.34      0.40        67\n",
            "         158       0.50      0.05      0.09        58\n",
            "         159       0.48      0.22      0.31        67\n",
            "         160       0.94      0.81      0.87        62\n",
            "         161       0.94      0.59      0.73        54\n",
            "         162       0.68      0.30      0.42        50\n",
            "         163       0.56      0.40      0.46        58\n",
            "         164       0.46      0.20      0.28        56\n",
            "         165       0.59      0.34      0.43        59\n",
            "         166       0.32      0.12      0.18        57\n",
            "         167       0.77      0.45      0.57        67\n",
            "         168       0.49      0.29      0.36        63\n",
            "         169       0.88      0.56      0.69        66\n",
            "         170       0.43      0.15      0.23        59\n",
            "         171       0.69      0.55      0.61        49\n",
            "         172       0.69      0.44      0.54        54\n",
            "         173       0.56      0.31      0.39        49\n",
            "         174       0.38      0.20      0.27        54\n",
            "         175       0.74      0.41      0.53        56\n",
            "         176       0.71      0.56      0.62        43\n",
            "         177       0.71      0.54      0.61        65\n",
            "         178       0.27      0.07      0.11        55\n",
            "         179       0.64      0.57      0.60        37\n",
            "         180       0.87      0.54      0.67        50\n",
            "         181       0.65      0.43      0.51        47\n",
            "         182       0.83      0.80      0.81        54\n",
            "         183       0.75      0.36      0.48        59\n",
            "         184       0.25      0.09      0.13        56\n",
            "         185       0.81      0.44      0.57        48\n",
            "         186       0.33      0.11      0.16        56\n",
            "         187       0.70      0.57      0.63        46\n",
            "         188       0.67      0.37      0.48        54\n",
            "         189       0.56      0.48      0.51        42\n",
            "         190       0.94      0.55      0.69        60\n",
            "         191       0.89      0.56      0.69        57\n",
            "         192       0.33      0.13      0.19        52\n",
            "         193       0.61      0.34      0.44        50\n",
            "         194       0.70      0.30      0.42        46\n",
            "         195       0.20      0.02      0.03        64\n",
            "         196       0.40      0.27      0.32        45\n",
            "         197       0.83      0.36      0.50        56\n",
            "         198       0.68      0.36      0.47        47\n",
            "         199       0.59      0.24      0.34        55\n",
            "         200       0.45      0.17      0.25        58\n",
            "         201       0.96      0.54      0.69        46\n",
            "         202       0.48      0.28      0.35        43\n",
            "         203       0.35      0.17      0.23        46\n",
            "         204       0.53      0.20      0.30        44\n",
            "         205       0.76      0.31      0.44        62\n",
            "         206       0.48      0.27      0.35        48\n",
            "         207       0.59      0.32      0.42        50\n",
            "         208       0.62      0.28      0.38        47\n",
            "         209       0.72      0.57      0.64        49\n",
            "         210       0.84      0.56      0.67        57\n",
            "         211       0.43      0.34      0.38        47\n",
            "         212       0.76      0.50      0.60        52\n",
            "         213       0.59      0.30      0.40        43\n",
            "         214       0.41      0.25      0.31        44\n",
            "         215       0.73      0.51      0.60        43\n",
            "         216       0.94      0.48      0.63        61\n",
            "         217       0.70      0.65      0.67        46\n",
            "         218       0.85      0.67      0.75        52\n",
            "         219       0.27      0.17      0.21        41\n",
            "         220       0.22      0.11      0.15        37\n",
            "         221       0.31      0.11      0.16        37\n",
            "         222       0.26      0.11      0.16        44\n",
            "         223       0.59      0.30      0.40        43\n",
            "         224       0.83      0.62      0.71        48\n",
            "         225       0.54      0.17      0.25        42\n",
            "         226       0.78      0.61      0.68        41\n",
            "         227       0.56      0.30      0.39        50\n",
            "         228       0.85      0.55      0.67        42\n",
            "         229       0.00      0.00      0.00        43\n",
            "         230       0.77      0.68      0.72        50\n",
            "         231       0.54      0.28      0.37        47\n",
            "         232       0.68      0.36      0.47        47\n",
            "         233       0.30      0.17      0.21        36\n",
            "         234       0.33      0.09      0.14        46\n",
            "         235       0.45      0.23      0.30        40\n",
            "         236       0.76      0.49      0.59        45\n",
            "         237       0.17      0.03      0.05        32\n",
            "         238       0.56      0.21      0.30        48\n",
            "         239       0.56      0.17      0.26        52\n",
            "         240       0.91      0.68      0.78        47\n",
            "         241       0.60      0.34      0.43        44\n",
            "         242       0.50      0.05      0.09        41\n",
            "         243       0.81      0.63      0.71        35\n",
            "         244       1.00      0.64      0.78        39\n",
            "         245       0.15      0.07      0.10        29\n",
            "         246       0.92      0.56      0.70        39\n",
            "         247       0.82      0.39      0.53        36\n",
            "         248       0.56      0.21      0.31        47\n",
            "         249       0.78      0.32      0.45        57\n",
            "         250       0.17      0.08      0.11        25\n",
            "         251       0.61      0.27      0.37        41\n",
            "         252       0.71      0.15      0.24        34\n",
            "         253       0.14      0.03      0.05        33\n",
            "         254       0.92      0.59      0.72        39\n",
            "         255       0.38      0.12      0.19        41\n",
            "         256       0.46      0.30      0.36        37\n",
            "         257       0.14      0.03      0.04        38\n",
            "         258       0.64      0.19      0.30        36\n",
            "         259       0.80      0.54      0.65        37\n",
            "         260       0.72      0.50      0.59        36\n",
            "         261       0.75      0.21      0.33        43\n",
            "         262       0.43      0.30      0.35        30\n",
            "         263       0.77      0.47      0.59        36\n",
            "         264       0.84      0.69      0.76        45\n",
            "         265       0.89      0.44      0.59        36\n",
            "         266       0.70      0.41      0.52        34\n",
            "         267       1.00      0.60      0.75        40\n",
            "         268       0.91      0.53      0.67        40\n",
            "         269       0.33      0.18      0.24        22\n",
            "         270       0.75      0.58      0.65        26\n",
            "         271       0.75      0.09      0.15        35\n",
            "         272       0.65      0.42      0.52        40\n",
            "         273       0.71      0.33      0.45        30\n",
            "         274       0.33      0.25      0.29        24\n",
            "         275       0.76      0.42      0.54        31\n",
            "         276       0.84      0.75      0.79        28\n",
            "         277       0.68      0.41      0.51        37\n",
            "         278       0.75      0.41      0.53        37\n",
            "         279       0.17      0.07      0.10        30\n",
            "         280       1.00      0.21      0.34        34\n",
            "         281       0.74      0.60      0.66        42\n",
            "         282       0.62      0.35      0.45        37\n",
            "         283       0.84      0.50      0.63        32\n",
            "         284       0.80      0.12      0.22        32\n",
            "         285       0.80      0.52      0.63        31\n",
            "         286       0.63      0.42      0.51        40\n",
            "         287       0.29      0.06      0.10        34\n",
            "         288       0.43      0.36      0.39        25\n",
            "         289       0.90      0.84      0.87        31\n",
            "         290       0.00      0.00      0.00        36\n",
            "         291       0.81      0.61      0.70        36\n",
            "         292       0.79      0.39      0.53        38\n",
            "         293       0.79      0.45      0.58        33\n",
            "         294       0.73      0.50      0.59        32\n",
            "         295       0.00      0.00      0.00        27\n",
            "         296       0.36      0.17      0.24        23\n",
            "         297       0.30      0.10      0.15        29\n",
            "         298       0.86      0.73      0.79        33\n",
            "         299       0.20      0.09      0.13        33\n",
            "         300       0.67      0.37      0.48        27\n",
            "         301       0.27      0.15      0.20        26\n",
            "         302       0.35      0.22      0.27        27\n",
            "         303       0.20      0.04      0.06        28\n",
            "         304       0.50      0.15      0.23        33\n",
            "         305       0.62      0.13      0.21        39\n",
            "         306       0.85      0.82      0.84        34\n",
            "         307       0.71      0.19      0.30        26\n",
            "         308       0.78      0.54      0.64        26\n",
            "         309       0.76      0.33      0.46        40\n",
            "         310       0.86      0.64      0.73        28\n",
            "         311       0.36      0.14      0.20        29\n",
            "         312       0.60      0.21      0.31        29\n",
            "         313       0.70      0.57      0.63        28\n",
            "         314       0.85      0.55      0.67        31\n",
            "         315       0.28      0.18      0.22        28\n",
            "         316       1.00      0.00      0.00        23\n",
            "         317       0.47      0.24      0.32        29\n",
            "         318       1.00      0.75      0.86        24\n",
            "         319       0.71      0.54      0.61        28\n",
            "         320       0.84      0.55      0.67        29\n",
            "         321       0.45      0.19      0.26        27\n",
            "         322       0.00      0.00      0.00        45\n",
            "         323       0.61      0.48      0.54        23\n",
            "         324       0.81      0.52      0.63        25\n",
            "         325       0.69      0.41      0.51        27\n",
            "         326       0.00      0.00      0.00        33\n",
            "         327       0.60      0.26      0.36        23\n",
            "         328       0.81      0.52      0.63        25\n",
            "         329       0.78      0.55      0.64        33\n",
            "         330       0.50      0.12      0.20        24\n",
            "         331       0.73      0.61      0.67        31\n",
            "         332       0.25      0.07      0.11        28\n",
            "         333       0.50      0.14      0.22        29\n",
            "         334       0.72      0.43      0.54        30\n",
            "         335       0.20      0.03      0.06        29\n",
            "         336       0.80      0.28      0.41        29\n",
            "         337       0.83      0.66      0.73        29\n",
            "         338       0.88      0.33      0.48        21\n",
            "         339       0.95      0.61      0.75        31\n",
            "         340       0.36      0.15      0.22        26\n",
            "         341       0.57      0.14      0.23        28\n",
            "         342       0.36      0.19      0.25        21\n",
            "         343       0.55      0.19      0.28        32\n",
            "         344       0.68      0.54      0.60        24\n",
            "         345       0.23      0.12      0.16        24\n",
            "         346       0.67      0.42      0.51        24\n",
            "         347       0.00      0.00      0.00        20\n",
            "         348       0.11      0.04      0.06        23\n",
            "         349       0.76      0.48      0.59        27\n",
            "         350       0.87      0.87      0.87        15\n",
            "         351       0.44      0.17      0.25        23\n",
            "         352       0.38      0.13      0.19        23\n",
            "         353       0.88      0.27      0.41        26\n",
            "         354       0.88      0.52      0.65        27\n",
            "         355       0.50      0.29      0.37        24\n",
            "         356       0.60      0.25      0.35        24\n",
            "         357       0.80      0.44      0.57        18\n",
            "         358       0.73      0.34      0.47        32\n",
            "         359       0.71      0.60      0.65        25\n",
            "         360       0.60      0.24      0.34        25\n",
            "         361       0.78      0.28      0.41        25\n",
            "         362       0.61      0.44      0.51        25\n",
            "         363       0.60      0.18      0.27        34\n",
            "         364       0.67      0.23      0.34        26\n",
            "         365       0.25      0.05      0.08        20\n",
            "         366       1.00      0.05      0.10        20\n",
            "         367       0.62      0.29      0.40        17\n",
            "         368       0.83      0.36      0.50        28\n",
            "         369       0.62      0.22      0.32        23\n",
            "         370       0.00      0.00      0.00        19\n",
            "         371       0.17      0.04      0.06        27\n",
            "         372       0.80      0.55      0.65        22\n",
            "         373       0.73      0.28      0.40        29\n",
            "         374       0.62      0.23      0.33        22\n",
            "         375       0.67      0.08      0.14        26\n",
            "         376       0.55      0.30      0.39        20\n",
            "         377       0.40      0.13      0.20        15\n",
            "         378       0.50      0.32      0.39        19\n",
            "         379       0.60      0.40      0.48        15\n",
            "         380       0.00      0.00      0.00        11\n",
            "         381       0.89      0.68      0.77        25\n",
            "         382       0.67      0.32      0.43        19\n",
            "         383       0.80      0.38      0.52        21\n",
            "         384       0.85      0.52      0.65        21\n",
            "         385       0.57      0.15      0.24        26\n",
            "         386       0.50      0.38      0.43        21\n",
            "         387       0.70      0.58      0.64        24\n",
            "         388       0.83      0.58      0.68        26\n",
            "         389       0.67      0.26      0.38        23\n",
            "         390       1.00      0.00      0.00        22\n",
            "         391       0.83      0.20      0.32        25\n",
            "         392       0.71      0.28      0.40        18\n",
            "         393       0.75      0.55      0.63        22\n",
            "         394       0.88      0.32      0.47        22\n",
            "         395       0.50      0.44      0.47        16\n",
            "         396       0.39      0.50      0.44        14\n",
            "         397       0.80      0.44      0.57        18\n",
            "         398       0.20      0.10      0.13        21\n",
            "         399       0.67      0.15      0.25        13\n",
            "         400       0.68      0.46      0.55        28\n",
            "         401       0.20      0.05      0.07        22\n",
            "         402       0.67      0.32      0.43        19\n",
            "         403       0.20      0.05      0.08        19\n",
            "         404       1.00      0.05      0.09        22\n",
            "         405       0.36      0.27      0.31        15\n",
            "         406       1.00      0.59      0.74        17\n",
            "         407       0.00      0.00      0.00        17\n",
            "         408       0.75      0.50      0.60        18\n",
            "         409       0.50      0.12      0.19        25\n",
            "         410       0.64      0.47      0.54        15\n",
            "         411       0.00      0.00      0.00        13\n",
            "         412       0.71      0.48      0.57        25\n",
            "         413       0.83      0.68      0.75        22\n",
            "         414       0.88      0.71      0.79        21\n",
            "         415       0.00      0.00      0.00        15\n",
            "         416       0.38      0.16      0.22        19\n",
            "         417       0.33      0.05      0.09        20\n",
            "         418       0.83      0.62      0.71        16\n",
            "         419       0.29      0.11      0.15        19\n",
            "         420       0.67      0.53      0.59        15\n",
            "         421       0.71      0.48      0.57        21\n",
            "         422       0.33      0.27      0.30        15\n",
            "         423       0.56      0.23      0.32        22\n",
            "         424       0.58      0.27      0.37        26\n",
            "         425       0.00      0.00      0.00         7\n",
            "         426       1.00      0.00      0.00        16\n",
            "         427       0.78      0.61      0.68        23\n",
            "         428       0.17      0.07      0.10        14\n",
            "         429       0.73      0.55      0.63        20\n",
            "         430       0.60      0.15      0.24        20\n",
            "         431       0.60      0.29      0.39        21\n",
            "         432       0.86      0.63      0.73        19\n",
            "         433       0.00      0.00      0.00        24\n",
            "         434       0.62      0.45      0.53        11\n",
            "         435       0.30      0.16      0.21        19\n",
            "         436       0.00      0.00      0.00        24\n",
            "         437       0.79      0.52      0.63        21\n",
            "         438       0.33      0.07      0.12        14\n",
            "         439       0.00      0.00      0.00        20\n",
            "         440       0.29      0.11      0.16        18\n",
            "         441       0.67      0.57      0.62        14\n",
            "         442       0.58      0.29      0.39        24\n",
            "         443       0.00      0.00      0.00        25\n",
            "         444       0.44      0.25      0.32        16\n",
            "         445       0.50      0.40      0.44        15\n",
            "         446       0.25      0.12      0.16        17\n",
            "         447       0.75      0.38      0.50        16\n",
            "         448       1.00      0.00      0.00        15\n",
            "         449       0.73      0.40      0.52        20\n",
            "         450       1.00      0.11      0.19        19\n",
            "         451       0.93      0.67      0.78        21\n",
            "         452       0.85      0.69      0.76        16\n",
            "         453       0.00      0.00      0.00        15\n",
            "         454       0.80      0.24      0.36        17\n",
            "         455       0.25      0.21      0.23        14\n",
            "         456       0.00      0.00      0.00        12\n",
            "         457       0.40      0.20      0.27        20\n",
            "         458       0.17      0.10      0.12        10\n",
            "         459       0.00      0.00      0.00        20\n",
            "         460       0.56      0.45      0.50        11\n",
            "         461       0.43      0.16      0.23        19\n",
            "         462       0.00      0.00      0.00        17\n",
            "         463       0.75      0.47      0.58        19\n",
            "         464       0.86      0.60      0.71        10\n",
            "         465       0.42      0.38      0.40        13\n",
            "         466       0.38      0.17      0.23        18\n",
            "         467       0.72      0.65      0.68        20\n",
            "         468       0.80      0.19      0.31        21\n",
            "         469       0.50      0.06      0.11        17\n",
            "         470       0.43      0.21      0.29        14\n",
            "         471       0.69      0.47      0.56        19\n",
            "         472       0.57      0.29      0.38        14\n",
            "         473       0.40      0.11      0.17        18\n",
            "         474       0.00      0.00      0.00        16\n",
            "         475       0.75      0.18      0.29        17\n",
            "         476       0.50      0.04      0.08        23\n",
            "         477       0.25      0.06      0.10        16\n",
            "         478       0.33      0.08      0.12        13\n",
            "         479       1.00      0.06      0.12        16\n",
            "         480       0.50      0.31      0.38        13\n",
            "         481       0.45      0.45      0.45        11\n",
            "         482       0.88      0.47      0.61        15\n",
            "         483       0.25      0.10      0.14        10\n",
            "         484       0.44      0.33      0.38        12\n",
            "         485       0.75      0.33      0.46         9\n",
            "         486       1.00      0.11      0.20        18\n",
            "         487       0.60      0.43      0.50        14\n",
            "         488       0.78      0.37      0.50        19\n",
            "         489       0.00      0.00      0.00        18\n",
            "         490       0.60      0.43      0.50        14\n",
            "         491       0.80      0.36      0.50        11\n",
            "         492       0.50      0.19      0.28        21\n",
            "         493       0.75      0.53      0.62        17\n",
            "         494       0.67      0.40      0.50        10\n",
            "         495       0.55      0.75      0.63         8\n",
            "         496       0.75      0.30      0.43        10\n",
            "         497       0.33      0.05      0.08        21\n",
            "         498       0.50      0.33      0.40        15\n",
            "         499       0.82      0.53      0.64        17\n",
            "\n",
            "   micro avg       0.63      0.39      0.48     45465\n",
            "   macro avg       0.59      0.34      0.41     45465\n",
            "weighted avg       0.60      0.39      0.46     45465\n",
            " samples avg       0.71      0.42      0.45     45465\n",
            "\n"
          ],
          "name": "stdout"
        }
      ]
    },
    {
      "cell_type": "markdown",
      "metadata": {
        "id": "0dEC200qC2cx",
        "colab_type": "text"
      },
      "source": [
        "## 4.5 Naive Bayes with Hyperparameter Tuning"
      ]
    },
    {
      "cell_type": "code",
      "metadata": {
        "id": "3553u1wMYtCG",
        "colab_type": "code",
        "outputId": "f6ebd8a1-5acf-4617-ce9f-9e01eb79f87a",
        "colab": {
          "base_uri": "https://localhost:8080/",
          "height": 1000
        }
      },
      "source": [
        "nb_clf = OneVsRestClassifier(MultinomialNB(alpha=0.0001), n_jobs=3)\n",
        "nb_clf.fit(x_train_multilabel, y_train)\n",
        "nb_predictions = nb_clf.predict(x_test_multilabel)\n",
        "print(\"accuracy :\",metrics.accuracy_score(y_test,nb_predictions))\n",
        "print(\"macro f1 score :\",metrics.f1_score(y_test, nb_predictions, average = 'macro'))\n",
        "print(\"micro f1 scoore :\",metrics.f1_score(y_test, nb_predictions, average = 'micro'))\n",
        "print(\"hamming loss :\",metrics.hamming_loss(y_test,nb_predictions))\n",
        "print(\"Precision recall report :\\n\",metrics.classification_report(y_test, nb_predictions))"
      ],
      "execution_count": 0,
      "outputs": [
        {
          "output_type": "stream",
          "text": [
            "accuracy : 0.04266321913380737\n",
            "macro f1 score : 0.129075858649671\n",
            "micro f1 scoore : 0.2519065530211533\n",
            "hamming loss : 0.005095845331139449\n",
            "Precision recall report :\n",
            "               precision    recall  f1-score   support\n",
            "\n",
            "           0       0.63      0.28      0.39      2675\n",
            "           1       0.59      0.34      0.43      2189\n",
            "           2       0.45      0.35      0.39      1296\n",
            "           3       0.73      0.46      0.57      1167\n",
            "           4       0.52      0.30      0.38       813\n",
            "           5       0.46      0.17      0.25       772\n",
            "           6       0.44      0.25      0.32       748\n",
            "           7       0.34      0.13      0.19       671\n",
            "           8       0.82      0.26      0.39       657\n",
            "           9       0.42      0.20      0.27       619\n",
            "          10       0.84      0.16      0.27       582\n",
            "          11       0.35      0.04      0.07       526\n",
            "          12       0.66      0.29      0.40       524\n",
            "          13       0.67      0.33      0.44       499\n",
            "          14       0.55      0.24      0.33       435\n",
            "          15       0.50      0.08      0.14       414\n",
            "          16       0.65      0.32      0.43       403\n",
            "          17       0.85      0.29      0.43       380\n",
            "          18       0.80      0.55      0.65       410\n",
            "          19       0.19      0.05      0.08       362\n",
            "          20       0.73      0.21      0.33       348\n",
            "          21       0.63      0.10      0.17       320\n",
            "          22       0.74      0.11      0.18       303\n",
            "          23       0.67      0.09      0.16       337\n",
            "          24       0.81      0.08      0.14       327\n",
            "          25       0.24      0.04      0.06       305\n",
            "          26       0.67      0.31      0.42       304\n",
            "          27       0.39      0.09      0.14       308\n",
            "          28       0.81      0.38      0.52       230\n",
            "          29       0.68      0.06      0.11       275\n",
            "          30       0.77      0.40      0.53       273\n",
            "          31       0.61      0.29      0.39       261\n",
            "          32       0.44      0.06      0.11       234\n",
            "          33       0.79      0.27      0.40       254\n",
            "          34       0.84      0.19      0.31       255\n",
            "          35       0.60      0.28      0.38       226\n",
            "          36       0.00      0.00      0.00       278\n",
            "          37       0.50      0.01      0.02       230\n",
            "          38       0.88      0.27      0.42       205\n",
            "          39       0.79      0.09      0.17       237\n",
            "          40       0.74      0.08      0.14       222\n",
            "          41       0.00      0.00      0.00       201\n",
            "          42       0.27      0.02      0.03       191\n",
            "          43       0.82      0.14      0.24       223\n",
            "          44       0.21      0.03      0.06       177\n",
            "          45       0.70      0.18      0.28       215\n",
            "          46       0.67      0.01      0.02       161\n",
            "          47       0.55      0.03      0.06       181\n",
            "          48       0.61      0.18      0.28       190\n",
            "          49       0.71      0.03      0.05       196\n",
            "          50       0.33      0.01      0.02       198\n",
            "          51       0.33      0.04      0.07       177\n",
            "          52       0.91      0.30      0.46       210\n",
            "          53       0.43      0.05      0.10       168\n",
            "          54       0.58      0.43      0.49       162\n",
            "          55       0.44      0.06      0.11       176\n",
            "          56       0.58      0.06      0.11       173\n",
            "          57       0.46      0.03      0.06       176\n",
            "          58       0.78      0.17      0.28       163\n",
            "          59       0.64      0.12      0.20       179\n",
            "          60       0.14      0.01      0.02       205\n",
            "          61       0.61      0.09      0.15       161\n",
            "          62       0.11      0.01      0.01       163\n",
            "          63       0.35      0.04      0.07       167\n",
            "          64       0.00      0.00      0.00       191\n",
            "          65       0.43      0.10      0.16       163\n",
            "          66       0.00      0.00      0.00       138\n",
            "          67       0.46      0.08      0.13       167\n",
            "          68       0.93      0.19      0.31       148\n",
            "          69       0.69      0.06      0.11       144\n",
            "          70       0.38      0.21      0.27       135\n",
            "          71       0.65      0.13      0.21       134\n",
            "          72       0.60      0.02      0.04       137\n",
            "          73       0.55      0.08      0.14       136\n",
            "          74       0.67      0.06      0.10       144\n",
            "          75       0.44      0.11      0.18       132\n",
            "          76       0.80      0.10      0.17       126\n",
            "          77       0.55      0.14      0.22       130\n",
            "          78       0.50      0.02      0.04       135\n",
            "          79       0.74      0.33      0.45       107\n",
            "          80       0.65      0.12      0.20       107\n",
            "          81       0.83      0.08      0.14       128\n",
            "          82       0.65      0.11      0.18       102\n",
            "          83       0.33      0.03      0.05       118\n",
            "          84       0.47      0.07      0.12       128\n",
            "          85       0.38      0.04      0.07       129\n",
            "          86       0.41      0.32      0.36       128\n",
            "          87       0.71      0.15      0.25       142\n",
            "          88       0.50      0.08      0.13       116\n",
            "          89       0.00      0.00      0.00       109\n",
            "          90       0.47      0.15      0.22       103\n",
            "          91       0.50      0.03      0.06       119\n",
            "          92       0.00      0.00      0.00        93\n",
            "          93       0.00      0.00      0.00       112\n",
            "          94       0.42      0.08      0.13       106\n",
            "          95       0.75      0.03      0.05       107\n",
            "          96       0.68      0.21      0.32        82\n",
            "          97       0.71      0.11      0.19        92\n",
            "          98       0.71      0.05      0.10        97\n",
            "          99       0.00      0.00      0.00       102\n",
            "         100       0.83      0.04      0.08       113\n",
            "         101       0.69      0.11      0.19        98\n",
            "         102       1.00      0.04      0.08        98\n",
            "         103       0.53      0.08      0.14       102\n",
            "         104       0.00      0.00      0.00       101\n",
            "         105       0.44      0.04      0.07       114\n",
            "         106       0.92      0.32      0.47        72\n",
            "         107       1.00      0.04      0.08       102\n",
            "         108       0.80      0.13      0.23        90\n",
            "         109       0.47      0.08      0.14        88\n",
            "         110       0.00      0.00      0.00        86\n",
            "         111       0.48      0.15      0.23        95\n",
            "         112       0.67      0.06      0.11        70\n",
            "         113       0.50      0.02      0.04        90\n",
            "         114       0.50      0.14      0.22        98\n",
            "         115       0.73      0.10      0.18        79\n",
            "         116       0.00      0.00      0.00        81\n",
            "         117       1.00      0.04      0.08       101\n",
            "         118       0.29      0.03      0.05        68\n",
            "         119       0.28      0.06      0.10        78\n",
            "         120       0.57      0.10      0.16        83\n",
            "         121       0.22      0.03      0.05        75\n",
            "         122       0.95      0.20      0.33        91\n",
            "         123       1.00      0.01      0.02        85\n",
            "         124       0.52      0.21      0.30        76\n",
            "         125       0.88      0.20      0.33        74\n",
            "         126       0.40      0.03      0.05        79\n",
            "         127       0.67      0.03      0.06        64\n",
            "         128       0.14      0.02      0.03        61\n",
            "         129       0.67      0.12      0.21        64\n",
            "         130       0.71      0.22      0.33        78\n",
            "         131       0.72      0.32      0.44        73\n",
            "         132       0.43      0.05      0.08        66\n",
            "         133       0.50      0.03      0.06        68\n",
            "         134       0.45      0.08      0.13        64\n",
            "         135       0.55      0.17      0.26        69\n",
            "         136       0.00      0.00      0.00        69\n",
            "         137       0.00      0.00      0.00        69\n",
            "         138       0.20      0.02      0.03        65\n",
            "         139       0.86      0.08      0.15        75\n",
            "         140       0.32      0.09      0.14        69\n",
            "         141       0.00      0.00      0.00        83\n",
            "         142       0.00      0.00      0.00        57\n",
            "         143       0.54      0.30      0.38        67\n",
            "         144       0.56      0.15      0.24        66\n",
            "         145       0.35      0.11      0.17        61\n",
            "         146       0.50      0.02      0.03        56\n",
            "         147       0.70      0.29      0.41        65\n",
            "         148       0.64      0.16      0.26        55\n",
            "         149       0.50      0.04      0.08        71\n",
            "         150       0.00      0.00      0.00        61\n",
            "         151       0.29      0.04      0.08        45\n",
            "         152       0.97      0.39      0.55        75\n",
            "         153       0.63      0.18      0.28        67\n",
            "         154       0.25      0.01      0.03        72\n",
            "         155       0.78      0.21      0.33        66\n",
            "         156       0.00      0.00      0.00        50\n",
            "         157       0.10      0.01      0.03        67\n",
            "         158       0.00      0.00      0.00        58\n",
            "         159       0.33      0.04      0.08        67\n",
            "         160       0.94      0.24      0.38        62\n",
            "         161       0.62      0.09      0.16        54\n",
            "         162       1.00      0.02      0.04        50\n",
            "         163       0.00      0.00      0.00        58\n",
            "         164       0.60      0.05      0.10        56\n",
            "         165       0.50      0.03      0.06        59\n",
            "         166       0.00      0.00      0.00        57\n",
            "         167       1.00      0.01      0.03        67\n",
            "         168       0.42      0.08      0.13        63\n",
            "         169       0.67      0.18      0.29        66\n",
            "         170       0.50      0.02      0.03        59\n",
            "         171       0.88      0.14      0.25        49\n",
            "         172       0.61      0.26      0.36        54\n",
            "         173       1.00      0.06      0.12        49\n",
            "         174       0.00      0.00      0.00        54\n",
            "         175       0.52      0.25      0.34        56\n",
            "         176       0.40      0.05      0.08        43\n",
            "         177       0.75      0.14      0.23        65\n",
            "         178       0.00      0.00      0.00        55\n",
            "         179       0.67      0.05      0.10        37\n",
            "         180       0.50      0.08      0.14        50\n",
            "         181       0.44      0.17      0.25        47\n",
            "         182       0.55      0.43      0.48        54\n",
            "         183       0.62      0.08      0.15        59\n",
            "         184       0.00      0.00      0.00        56\n",
            "         185       0.73      0.23      0.35        48\n",
            "         186       0.00      0.00      0.00        56\n",
            "         187       0.80      0.35      0.48        46\n",
            "         188       0.56      0.43      0.48        54\n",
            "         189       0.75      0.07      0.13        42\n",
            "         190       1.00      0.03      0.06        60\n",
            "         191       1.00      0.12      0.22        57\n",
            "         192       0.00      0.00      0.00        52\n",
            "         193       0.00      0.00      0.00        50\n",
            "         194       0.00      0.00      0.00        46\n",
            "         195       0.00      0.00      0.00        64\n",
            "         196       0.33      0.02      0.04        45\n",
            "         197       0.43      0.11      0.17        56\n",
            "         198       0.55      0.13      0.21        47\n",
            "         199       0.14      0.02      0.03        55\n",
            "         200       0.00      0.00      0.00        58\n",
            "         201       1.00      0.07      0.12        46\n",
            "         202       1.00      0.07      0.13        43\n",
            "         203       0.38      0.07      0.11        46\n",
            "         204       0.00      0.00      0.00        44\n",
            "         205       0.21      0.05      0.08        62\n",
            "         206       0.24      0.08      0.12        48\n",
            "         207       0.00      0.00      0.00        50\n",
            "         208       0.00      0.00      0.00        47\n",
            "         209       0.68      0.27      0.38        49\n",
            "         210       0.64      0.12      0.21        57\n",
            "         211       0.67      0.09      0.15        47\n",
            "         212       0.58      0.13      0.22        52\n",
            "         213       0.75      0.07      0.13        43\n",
            "         214       0.36      0.09      0.15        44\n",
            "         215       0.64      0.16      0.26        43\n",
            "         216       0.83      0.08      0.15        61\n",
            "         217       0.82      0.20      0.32        46\n",
            "         218       0.33      0.04      0.07        52\n",
            "         219       0.00      0.00      0.00        41\n",
            "         220       0.00      0.00      0.00        37\n",
            "         221       0.00      0.00      0.00        37\n",
            "         222       0.20      0.02      0.04        44\n",
            "         223       0.43      0.07      0.12        43\n",
            "         224       0.00      0.00      0.00        48\n",
            "         225       0.50      0.05      0.09        42\n",
            "         226       0.67      0.05      0.09        41\n",
            "         227       0.40      0.04      0.07        50\n",
            "         228       0.91      0.24      0.38        42\n",
            "         229       0.00      0.00      0.00        43\n",
            "         230       0.67      0.08      0.14        50\n",
            "         231       0.25      0.02      0.04        47\n",
            "         232       0.67      0.09      0.15        47\n",
            "         233       0.29      0.06      0.09        36\n",
            "         234       0.50      0.02      0.04        46\n",
            "         235       0.00      0.00      0.00        40\n",
            "         236       0.88      0.16      0.26        45\n",
            "         237       0.00      0.00      0.00        32\n",
            "         238       0.50      0.08      0.14        48\n",
            "         239       0.00      0.00      0.00        52\n",
            "         240       1.00      0.19      0.32        47\n",
            "         241       0.80      0.09      0.16        44\n",
            "         242       0.00      0.00      0.00        41\n",
            "         243       0.50      0.03      0.05        35\n",
            "         244       0.75      0.08      0.14        39\n",
            "         245       0.00      0.00      0.00        29\n",
            "         246       1.00      0.05      0.10        39\n",
            "         247       0.33      0.03      0.05        36\n",
            "         248       0.75      0.06      0.12        47\n",
            "         249       1.00      0.11      0.19        57\n",
            "         250       0.00      0.00      0.00        25\n",
            "         251       0.00      0.00      0.00        41\n",
            "         252       0.09      0.03      0.04        34\n",
            "         253       0.00      0.00      0.00        33\n",
            "         254       0.83      0.13      0.22        39\n",
            "         255       0.00      0.00      0.00        41\n",
            "         256       0.00      0.00      0.00        37\n",
            "         257       0.00      0.00      0.00        38\n",
            "         258       1.00      0.03      0.05        36\n",
            "         259       0.00      0.00      0.00        37\n",
            "         260       1.00      0.08      0.15        36\n",
            "         261       1.00      0.02      0.05        43\n",
            "         262       0.00      0.00      0.00        30\n",
            "         263       0.75      0.17      0.27        36\n",
            "         264       0.75      0.13      0.23        45\n",
            "         265       0.71      0.14      0.23        36\n",
            "         266       1.00      0.06      0.11        34\n",
            "         267       0.54      0.17      0.26        40\n",
            "         268       0.67      0.10      0.17        40\n",
            "         269       0.00      0.00      0.00        22\n",
            "         270       0.50      0.12      0.19        26\n",
            "         271       0.00      0.00      0.00        35\n",
            "         272       0.00      0.00      0.00        40\n",
            "         273       0.00      0.00      0.00        30\n",
            "         274       0.00      0.00      0.00        24\n",
            "         275       0.60      0.19      0.29        31\n",
            "         276       0.86      0.21      0.34        28\n",
            "         277       0.20      0.03      0.05        37\n",
            "         278       0.00      0.00      0.00        37\n",
            "         279       0.00      0.00      0.00        30\n",
            "         280       0.67      0.06      0.11        34\n",
            "         281       0.66      0.55      0.60        42\n",
            "         282       0.00      0.00      0.00        37\n",
            "         283       0.73      0.25      0.37        32\n",
            "         284       0.00      0.00      0.00        32\n",
            "         285       0.80      0.13      0.22        31\n",
            "         286       0.00      0.00      0.00        40\n",
            "         287       0.33      0.03      0.05        34\n",
            "         288       0.25      0.04      0.07        25\n",
            "         289       0.90      0.29      0.44        31\n",
            "         290       0.00      0.00      0.00        36\n",
            "         291       0.00      0.00      0.00        36\n",
            "         292       1.00      0.03      0.05        38\n",
            "         293       0.67      0.06      0.11        33\n",
            "         294       0.50      0.09      0.16        32\n",
            "         295       0.00      0.00      0.00        27\n",
            "         296       0.00      0.00      0.00        23\n",
            "         297       0.00      0.00      0.00        29\n",
            "         298       0.83      0.15      0.26        33\n",
            "         299       1.00      0.03      0.06        33\n",
            "         300       0.00      0.00      0.00        27\n",
            "         301       0.00      0.00      0.00        26\n",
            "         302       0.00      0.00      0.00        27\n",
            "         303       0.00      0.00      0.00        28\n",
            "         304       0.00      0.00      0.00        33\n",
            "         305       0.00      0.00      0.00        39\n",
            "         306       0.75      0.09      0.16        34\n",
            "         307       0.00      0.00      0.00        26\n",
            "         308       0.17      0.04      0.06        26\n",
            "         309       0.83      0.12      0.22        40\n",
            "         310       0.89      0.29      0.43        28\n",
            "         311       0.50      0.07      0.12        29\n",
            "         312       0.50      0.03      0.06        29\n",
            "         313       0.80      0.29      0.42        28\n",
            "         314       1.00      0.10      0.18        31\n",
            "         315       0.15      0.11      0.12        28\n",
            "         316       0.00      0.00      0.00        23\n",
            "         317       1.00      0.03      0.07        29\n",
            "         318       0.50      0.04      0.08        24\n",
            "         319       0.60      0.21      0.32        28\n",
            "         320       0.67      0.07      0.12        29\n",
            "         321       0.33      0.04      0.07        27\n",
            "         322       0.00      0.00      0.00        45\n",
            "         323       0.33      0.04      0.08        23\n",
            "         324       0.67      0.24      0.35        25\n",
            "         325       0.70      0.26      0.38        27\n",
            "         326       0.00      0.00      0.00        33\n",
            "         327       0.00      0.00      0.00        23\n",
            "         328       0.57      0.16      0.25        25\n",
            "         329       0.88      0.42      0.57        33\n",
            "         330       0.00      0.00      0.00        24\n",
            "         331       0.75      0.10      0.17        31\n",
            "         332       0.00      0.00      0.00        28\n",
            "         333       1.00      0.03      0.07        29\n",
            "         334       0.50      0.03      0.06        30\n",
            "         335       0.00      0.00      0.00        29\n",
            "         336       0.00      0.00      0.00        29\n",
            "         337       0.00      0.00      0.00        29\n",
            "         338       1.00      0.10      0.17        21\n",
            "         339       1.00      0.06      0.12        31\n",
            "         340       0.00      0.00      0.00        26\n",
            "         341       0.00      0.00      0.00        28\n",
            "         342       0.00      0.00      0.00        21\n",
            "         343       0.00      0.00      0.00        32\n",
            "         344       0.75      0.12      0.21        24\n",
            "         345       0.33      0.08      0.13        24\n",
            "         346       0.83      0.21      0.33        24\n",
            "         347       0.00      0.00      0.00        20\n",
            "         348       0.00      0.00      0.00        23\n",
            "         349       1.00      0.04      0.07        27\n",
            "         350       1.00      0.40      0.57        15\n",
            "         351       0.00      0.00      0.00        23\n",
            "         352       0.60      0.13      0.21        23\n",
            "         353       0.00      0.00      0.00        26\n",
            "         354       0.54      0.26      0.35        27\n",
            "         355       0.50      0.04      0.08        24\n",
            "         356       0.00      0.00      0.00        24\n",
            "         357       0.50      0.11      0.18        18\n",
            "         358       0.25      0.09      0.14        32\n",
            "         359       0.75      0.12      0.21        25\n",
            "         360       0.00      0.00      0.00        25\n",
            "         361       0.00      0.00      0.00        25\n",
            "         362       0.55      0.24      0.33        25\n",
            "         363       1.00      0.06      0.11        34\n",
            "         364       0.33      0.04      0.07        26\n",
            "         365       0.00      0.00      0.00        20\n",
            "         366       0.00      0.00      0.00        20\n",
            "         367       0.50      0.06      0.11        17\n",
            "         368       0.75      0.11      0.19        28\n",
            "         369       0.00      0.00      0.00        23\n",
            "         370       0.00      0.00      0.00        19\n",
            "         371       0.00      0.00      0.00        27\n",
            "         372       0.67      0.36      0.47        22\n",
            "         373       0.00      0.00      0.00        29\n",
            "         374       0.44      0.18      0.26        22\n",
            "         375       0.00      0.00      0.00        26\n",
            "         376       0.50      0.10      0.17        20\n",
            "         377       0.00      0.00      0.00        15\n",
            "         378       0.00      0.00      0.00        19\n",
            "         379       1.00      0.20      0.33        15\n",
            "         380       0.40      0.18      0.25        11\n",
            "         381       0.50      0.08      0.14        25\n",
            "         382       0.00      0.00      0.00        19\n",
            "         383       0.00      0.00      0.00        21\n",
            "         384       1.00      0.05      0.09        21\n",
            "         385       0.00      0.00      0.00        26\n",
            "         386       0.33      0.05      0.08        21\n",
            "         387       1.00      0.04      0.08        24\n",
            "         388       0.00      0.00      0.00        26\n",
            "         389       1.00      0.04      0.08        23\n",
            "         390       0.00      0.00      0.00        22\n",
            "         391       0.00      0.00      0.00        25\n",
            "         392       0.00      0.00      0.00        18\n",
            "         393       1.00      0.05      0.09        22\n",
            "         394       0.40      0.09      0.15        22\n",
            "         395       1.00      0.06      0.12        16\n",
            "         396       0.19      0.21      0.20        14\n",
            "         397       0.00      0.00      0.00        18\n",
            "         398       0.00      0.00      0.00        21\n",
            "         399       0.00      0.00      0.00        13\n",
            "         400       0.00      0.00      0.00        28\n",
            "         401       0.00      0.00      0.00        22\n",
            "         402       1.00      0.05      0.10        19\n",
            "         403       0.00      0.00      0.00        19\n",
            "         404       0.00      0.00      0.00        22\n",
            "         405       0.20      0.13      0.16        15\n",
            "         406       1.00      0.24      0.38        17\n",
            "         407       0.00      0.00      0.00        17\n",
            "         408       0.67      0.11      0.19        18\n",
            "         409       0.00      0.00      0.00        25\n",
            "         410       0.43      0.20      0.27        15\n",
            "         411       0.00      0.00      0.00        13\n",
            "         412       0.39      0.28      0.33        25\n",
            "         413       0.57      0.18      0.28        22\n",
            "         414       0.60      0.14      0.23        21\n",
            "         415       0.00      0.00      0.00        15\n",
            "         416       1.00      0.05      0.10        19\n",
            "         417       0.00      0.00      0.00        20\n",
            "         418       0.50      0.06      0.11        16\n",
            "         419       1.00      0.11      0.19        19\n",
            "         420       1.00      0.13      0.24        15\n",
            "         421       0.00      0.00      0.00        21\n",
            "         422       0.33      0.07      0.11        15\n",
            "         423       0.67      0.09      0.16        22\n",
            "         424       0.29      0.15      0.20        26\n",
            "         425       0.00      0.00      0.00         7\n",
            "         426       0.00      0.00      0.00        16\n",
            "         427       0.00      0.00      0.00        23\n",
            "         428       0.00      0.00      0.00        14\n",
            "         429       1.00      0.10      0.18        20\n",
            "         430       0.00      0.00      0.00        20\n",
            "         431       0.00      0.00      0.00        21\n",
            "         432       1.00      0.11      0.19        19\n",
            "         433       0.00      0.00      0.00        24\n",
            "         434       0.00      0.00      0.00        11\n",
            "         435       0.00      0.00      0.00        19\n",
            "         436       0.00      0.00      0.00        24\n",
            "         437       0.00      0.00      0.00        21\n",
            "         438       0.00      0.00      0.00        14\n",
            "         439       1.00      0.05      0.10        20\n",
            "         440       0.50      0.06      0.10        18\n",
            "         441       0.67      0.14      0.24        14\n",
            "         442       0.00      0.00      0.00        24\n",
            "         443       0.00      0.00      0.00        25\n",
            "         444       0.00      0.00      0.00        16\n",
            "         445       0.50      0.07      0.12        15\n",
            "         446       0.00      0.00      0.00        17\n",
            "         447       1.00      0.31      0.48        16\n",
            "         448       0.00      0.00      0.00        15\n",
            "         449       1.00      0.15      0.26        20\n",
            "         450       0.00      0.00      0.00        19\n",
            "         451       1.00      0.05      0.09        21\n",
            "         452       0.73      0.50      0.59        16\n",
            "         453       0.00      0.00      0.00        15\n",
            "         454       0.00      0.00      0.00        17\n",
            "         455       0.00      0.00      0.00        14\n",
            "         456       0.00      0.00      0.00        12\n",
            "         457       0.00      0.00      0.00        20\n",
            "         458       0.00      0.00      0.00        10\n",
            "         459       0.00      0.00      0.00        20\n",
            "         460       0.00      0.00      0.00        11\n",
            "         461       0.00      0.00      0.00        19\n",
            "         462       0.00      0.00      0.00        17\n",
            "         463       0.50      0.11      0.17        19\n",
            "         464       0.50      0.10      0.17        10\n",
            "         465       0.00      0.00      0.00        13\n",
            "         466       0.00      0.00      0.00        18\n",
            "         467       0.33      0.05      0.09        20\n",
            "         468       0.33      0.10      0.15        21\n",
            "         469       0.00      0.00      0.00        17\n",
            "         470       0.67      0.14      0.24        14\n",
            "         471       1.00      0.05      0.10        19\n",
            "         472       0.00      0.00      0.00        14\n",
            "         473       0.00      0.00      0.00        18\n",
            "         474       0.00      0.00      0.00        16\n",
            "         475       1.00      0.06      0.11        17\n",
            "         476       0.00      0.00      0.00        23\n",
            "         477       0.00      0.00      0.00        16\n",
            "         478       0.00      0.00      0.00        13\n",
            "         479       0.00      0.00      0.00        16\n",
            "         480       0.00      0.00      0.00        13\n",
            "         481       0.00      0.00      0.00        11\n",
            "         482       0.67      0.40      0.50        15\n",
            "         483       1.00      0.10      0.18        10\n",
            "         484       0.00      0.00      0.00        12\n",
            "         485       1.00      0.22      0.36         9\n",
            "         486       1.00      0.06      0.11        18\n",
            "         487       1.00      0.07      0.13        14\n",
            "         488       0.00      0.00      0.00        19\n",
            "         489       0.25      0.06      0.09        18\n",
            "         490       0.44      0.29      0.35        14\n",
            "         491       0.33      0.09      0.14        11\n",
            "         492       1.00      0.05      0.09        21\n",
            "         493       0.33      0.06      0.10        17\n",
            "         494       0.00      0.00      0.00        10\n",
            "         495       0.00      0.00      0.00         8\n",
            "         496       0.00      0.00      0.00        10\n",
            "         497       0.00      0.00      0.00        21\n",
            "         498       0.67      0.13      0.22        15\n",
            "         499       1.00      0.06      0.11        17\n",
            "\n",
            "   micro avg       0.58      0.16      0.25     45465\n",
            "   macro avg       0.42      0.08      0.13     45465\n",
            "weighted avg       0.52      0.16      0.23     45465\n",
            " samples avg       0.27      0.18      0.19     45465\n",
            "\n"
          ],
          "name": "stdout"
        },
        {
          "output_type": "stream",
          "text": [
            "/usr/local/lib/python3.6/dist-packages/sklearn/metrics/_classification.py:1272: UndefinedMetricWarning: Precision and F-score are ill-defined and being set to 0.0 in labels with no predicted samples. Use `zero_division` parameter to control this behavior.\n",
            "  _warn_prf(average, modifier, msg_start, len(result))\n",
            "/usr/local/lib/python3.6/dist-packages/sklearn/metrics/_classification.py:1272: UndefinedMetricWarning: Precision and F-score are ill-defined and being set to 0.0 in samples with no predicted labels. Use `zero_division` parameter to control this behavior.\n",
            "  _warn_prf(average, modifier, msg_start, len(result))\n",
            "/usr/local/lib/python3.6/dist-packages/sklearn/metrics/_classification.py:1272: UndefinedMetricWarning: Recall and F-score are ill-defined and being set to 0.0 in samples with no true labels. Use `zero_division` parameter to control this behavior.\n",
            "  _warn_prf(average, modifier, msg_start, len(result))\n"
          ],
          "name": "stderr"
        }
      ]
    },
    {
      "cell_type": "markdown",
      "metadata": {
        "id": "-gNgHOf3C_pD",
        "colab_type": "text"
      },
      "source": [
        "## 4.6 SVM with Hyperparameter Tuning"
      ]
    },
    {
      "cell_type": "code",
      "metadata": {
        "id": "wp5NTJxHZa8W",
        "colab_type": "code",
        "outputId": "08f1cca8-177b-4f25-dcef-2af5ceb78b90",
        "colab": {
          "base_uri": "https://localhost:8080/",
          "height": 1000
        }
      },
      "source": [
        "svm_clf = OneVsRestClassifier(LinearSVC(penalty='l1', loss='squared_hinge',\n",
        "                              dual=False, max_iter=1000, random_state=101,\n",
        "                               verbose=2), n_jobs=3)\n",
        "svm_clf.fit(x_train_multilabel, y_train)\n",
        "svm_predictions = svm_clf.predict(x_test_multilabel)\n",
        "print(\"accuracy :\",metrics.accuracy_score(y_test, svm_predictions))\n",
        "print(\"macro f1 score :\",metrics.f1_score(y_test, svm_predictions, average = 'macro'))\n",
        "print(\"micro f1 scoore :\",metrics.f1_score(y_test, svm_predictions, average = 'micro'))\n",
        "print(\"hamming loss :\",metrics.hamming_loss(y_test,svm_predictions))\n",
        "print(\"Precision recall report :\\n\",metrics.classification_report(y_test, svm_predictions))"
      ],
      "execution_count": 0,
      "outputs": [
        {
          "output_type": "stream",
          "text": [
            "accuracy : 0.10701063642240113\n",
            "macro f1 score : 0.3735427501778079\n",
            "micro f1 scoore : 0.4725730916397052\n",
            "hamming loss : 0.00419592172533349\n",
            "Precision recall report :\n",
            "               precision    recall  f1-score   support\n",
            "\n",
            "           0       0.68      0.40      0.50      2675\n",
            "           1       0.67      0.43      0.53      2189\n",
            "           2       0.58      0.28      0.38      1296\n",
            "           3       0.77      0.54      0.64      1167\n",
            "           4       0.60      0.32      0.42       813\n",
            "           5       0.61      0.29      0.40       772\n",
            "           6       0.56      0.14      0.23       748\n",
            "           7       0.55      0.21      0.31       671\n",
            "           8       0.83      0.63      0.72       657\n",
            "           9       0.66      0.39      0.49       619\n",
            "          10       0.75      0.55      0.63       582\n",
            "          11       0.59      0.16      0.26       526\n",
            "          12       0.75      0.59      0.66       524\n",
            "          13       0.84      0.59      0.69       499\n",
            "          14       0.62      0.33      0.43       435\n",
            "          15       0.67      0.21      0.32       414\n",
            "          16       0.78      0.57      0.66       403\n",
            "          17       0.85      0.67      0.75       380\n",
            "          18       0.86      0.72      0.78       410\n",
            "          19       0.50      0.01      0.03       362\n",
            "          20       0.75      0.60      0.66       348\n",
            "          21       0.61      0.27      0.37       320\n",
            "          22       0.79      0.42      0.55       303\n",
            "          23       0.64      0.34      0.45       337\n",
            "          24       0.79      0.51      0.62       327\n",
            "          25       0.58      0.09      0.15       305\n",
            "          26       0.72      0.53      0.61       304\n",
            "          27       0.68      0.22      0.33       308\n",
            "          28       0.90      0.77      0.83       230\n",
            "          29       0.68      0.23      0.34       275\n",
            "          30       0.82      0.60      0.70       273\n",
            "          31       0.73      0.49      0.59       261\n",
            "          32       0.78      0.41      0.54       234\n",
            "          33       0.90      0.67      0.77       254\n",
            "          34       0.83      0.54      0.65       255\n",
            "          35       0.86      0.58      0.69       226\n",
            "          36       0.50      0.05      0.10       278\n",
            "          37       0.47      0.14      0.21       230\n",
            "          38       0.92      0.61      0.73       205\n",
            "          39       0.78      0.24      0.37       237\n",
            "          40       0.69      0.27      0.39       222\n",
            "          41       0.00      0.00      0.00       201\n",
            "          42       0.55      0.17      0.26       191\n",
            "          43       0.75      0.34      0.47       223\n",
            "          44       0.46      0.07      0.12       177\n",
            "          45       0.79      0.48      0.60       215\n",
            "          46       0.63      0.26      0.37       161\n",
            "          47       0.65      0.12      0.20       181\n",
            "          48       0.70      0.53      0.60       190\n",
            "          49       0.74      0.41      0.53       196\n",
            "          50       0.57      0.02      0.04       198\n",
            "          51       0.67      0.36      0.47       177\n",
            "          52       0.94      0.71      0.81       210\n",
            "          53       0.77      0.33      0.46       168\n",
            "          54       0.79      0.70      0.74       162\n",
            "          55       0.57      0.30      0.39       176\n",
            "          56       0.68      0.27      0.38       173\n",
            "          57       0.76      0.18      0.29       176\n",
            "          58       0.73      0.49      0.59       163\n",
            "          59       0.78      0.57      0.66       179\n",
            "          60       0.21      0.01      0.03       205\n",
            "          61       0.64      0.36      0.46       161\n",
            "          62       0.62      0.06      0.11       163\n",
            "          63       0.76      0.49      0.60       167\n",
            "          64       0.00      0.00      0.00       191\n",
            "          65       0.68      0.25      0.37       163\n",
            "          66       0.50      0.03      0.05       138\n",
            "          67       0.75      0.29      0.42       167\n",
            "          68       0.96      0.71      0.82       148\n",
            "          69       0.69      0.26      0.37       144\n",
            "          70       0.67      0.15      0.24       135\n",
            "          71       0.72      0.51      0.60       134\n",
            "          72       0.65      0.32      0.43       137\n",
            "          73       0.63      0.25      0.36       136\n",
            "          74       0.78      0.40      0.53       144\n",
            "          75       0.68      0.19      0.30       132\n",
            "          76       0.65      0.40      0.50       126\n",
            "          77       0.67      0.25      0.36       130\n",
            "          78       0.33      0.04      0.07       135\n",
            "          79       0.82      0.59      0.68       107\n",
            "          80       0.72      0.50      0.59       107\n",
            "          81       0.88      0.64      0.74       128\n",
            "          82       0.55      0.32      0.41       102\n",
            "          83       0.57      0.03      0.06       118\n",
            "          84       0.73      0.52      0.61       128\n",
            "          85       0.69      0.33      0.44       129\n",
            "          86       0.64      0.38      0.48       128\n",
            "          87       0.78      0.56      0.65       142\n",
            "          88       0.62      0.39      0.48       116\n",
            "          89       0.52      0.12      0.19       109\n",
            "          90       0.58      0.39      0.47       103\n",
            "          91       0.78      0.30      0.44       119\n",
            "          92       0.00      0.00      0.00        93\n",
            "          93       0.64      0.08      0.14       112\n",
            "          94       0.64      0.20      0.30       106\n",
            "          95       0.70      0.18      0.28       107\n",
            "          96       0.76      0.63      0.69        82\n",
            "          97       0.76      0.45      0.56        92\n",
            "          98       0.56      0.36      0.44        97\n",
            "          99       0.40      0.02      0.04       102\n",
            "         100       0.84      0.56      0.67       113\n",
            "         101       0.88      0.65      0.75        98\n",
            "         102       0.66      0.26      0.37        98\n",
            "         103       0.73      0.42      0.53       102\n",
            "         104       0.33      0.02      0.04       101\n",
            "         105       0.67      0.21      0.32       114\n",
            "         106       0.86      0.69      0.77        72\n",
            "         107       0.67      0.50      0.57       102\n",
            "         108       0.77      0.46      0.57        90\n",
            "         109       0.72      0.30      0.42        88\n",
            "         110       0.33      0.01      0.02        86\n",
            "         111       0.84      0.49      0.62        95\n",
            "         112       0.81      0.36      0.50        70\n",
            "         113       0.84      0.52      0.64        90\n",
            "         114       0.63      0.27      0.37        98\n",
            "         115       0.85      0.72      0.78        79\n",
            "         116       0.25      0.01      0.02        81\n",
            "         117       0.88      0.45      0.59       101\n",
            "         118       0.60      0.22      0.32        68\n",
            "         119       0.20      0.01      0.02        78\n",
            "         120       0.76      0.35      0.48        83\n",
            "         121       0.62      0.20      0.30        75\n",
            "         122       0.91      0.66      0.76        91\n",
            "         123       0.61      0.27      0.37        85\n",
            "         124       0.67      0.38      0.49        76\n",
            "         125       0.81      0.57      0.67        74\n",
            "         126       0.58      0.23      0.33        79\n",
            "         127       0.54      0.11      0.18        64\n",
            "         128       0.54      0.11      0.19        61\n",
            "         129       0.62      0.16      0.25        64\n",
            "         130       0.67      0.40      0.50        78\n",
            "         131       0.83      0.73      0.77        73\n",
            "         132       0.69      0.30      0.42        66\n",
            "         133       0.76      0.43      0.55        68\n",
            "         134       0.67      0.52      0.58        64\n",
            "         135       0.78      0.62      0.69        69\n",
            "         136       0.00      0.00      0.00        69\n",
            "         137       0.00      0.00      0.00        69\n",
            "         138       0.62      0.25      0.35        65\n",
            "         139       0.74      0.27      0.39        75\n",
            "         140       0.40      0.25      0.31        69\n",
            "         141       0.63      0.29      0.40        83\n",
            "         142       0.17      0.02      0.03        57\n",
            "         143       0.57      0.40      0.47        67\n",
            "         144       0.66      0.32      0.43        66\n",
            "         145       0.46      0.10      0.16        61\n",
            "         146       0.63      0.46      0.54        56\n",
            "         147       0.70      0.54      0.61        65\n",
            "         148       0.69      0.33      0.44        55\n",
            "         149       0.86      0.59      0.70        71\n",
            "         150       1.00      0.02      0.03        61\n",
            "         151       0.75      0.33      0.46        45\n",
            "         152       0.90      0.76      0.83        75\n",
            "         153       0.72      0.54      0.62        67\n",
            "         154       0.40      0.11      0.17        72\n",
            "         155       0.84      0.64      0.72        66\n",
            "         156       0.00      0.00      0.00        50\n",
            "         157       0.55      0.33      0.41        67\n",
            "         158       1.00      0.03      0.07        58\n",
            "         159       0.40      0.06      0.10        67\n",
            "         160       0.94      0.81      0.87        62\n",
            "         161       0.94      0.61      0.74        54\n",
            "         162       0.62      0.32      0.42        50\n",
            "         163       0.77      0.34      0.48        58\n",
            "         164       0.60      0.05      0.10        56\n",
            "         165       0.67      0.31      0.42        59\n",
            "         166       0.50      0.07      0.12        57\n",
            "         167       0.75      0.40      0.52        67\n",
            "         168       0.58      0.22      0.32        63\n",
            "         169       0.90      0.56      0.69        66\n",
            "         170       0.30      0.05      0.09        59\n",
            "         171       0.72      0.53      0.61        49\n",
            "         172       0.68      0.48      0.57        54\n",
            "         173       0.48      0.20      0.29        49\n",
            "         174       0.71      0.19      0.29        54\n",
            "         175       0.71      0.39      0.51        56\n",
            "         176       0.68      0.53      0.60        43\n",
            "         177       0.66      0.42      0.51        65\n",
            "         178       0.30      0.05      0.09        55\n",
            "         179       0.69      0.65      0.67        37\n",
            "         180       0.77      0.48      0.59        50\n",
            "         181       0.62      0.38      0.47        47\n",
            "         182       0.82      0.85      0.84        54\n",
            "         183       0.76      0.32      0.45        59\n",
            "         184       0.50      0.04      0.07        56\n",
            "         185       0.86      0.50      0.63        48\n",
            "         186       0.33      0.05      0.09        56\n",
            "         187       0.74      0.61      0.67        46\n",
            "         188       0.71      0.44      0.55        54\n",
            "         189       0.67      0.48      0.56        42\n",
            "         190       0.94      0.53      0.68        60\n",
            "         191       0.94      0.56      0.70        57\n",
            "         192       0.75      0.06      0.11        52\n",
            "         193       0.67      0.36      0.47        50\n",
            "         194       0.78      0.30      0.44        46\n",
            "         195       0.00      0.00      0.00        64\n",
            "         196       0.41      0.16      0.23        45\n",
            "         197       0.79      0.39      0.52        56\n",
            "         198       0.73      0.40      0.52        47\n",
            "         199       0.64      0.13      0.21        55\n",
            "         200       0.50      0.05      0.09        58\n",
            "         201       0.93      0.59      0.72        46\n",
            "         202       0.40      0.19      0.25        43\n",
            "         203       0.33      0.04      0.08        46\n",
            "         204       0.60      0.20      0.31        44\n",
            "         205       0.78      0.23      0.35        62\n",
            "         206       0.55      0.23      0.32        48\n",
            "         207       0.69      0.22      0.33        50\n",
            "         208       0.62      0.17      0.27        47\n",
            "         209       0.83      0.59      0.69        49\n",
            "         210       0.84      0.54      0.66        57\n",
            "         211       0.47      0.30      0.36        47\n",
            "         212       0.81      0.48      0.60        52\n",
            "         213       0.75      0.21      0.33        43\n",
            "         214       0.60      0.20      0.31        44\n",
            "         215       0.84      0.49      0.62        43\n",
            "         216       0.97      0.49      0.65        61\n",
            "         217       0.72      0.63      0.67        46\n",
            "         218       0.84      0.71      0.77        52\n",
            "         219       0.42      0.20      0.27        41\n",
            "         220       0.00      0.00      0.00        37\n",
            "         221       0.31      0.11      0.16        37\n",
            "         222       0.00      0.00      0.00        44\n",
            "         223       0.86      0.28      0.42        43\n",
            "         224       0.79      0.56      0.66        48\n",
            "         225       0.67      0.10      0.17        42\n",
            "         226       0.87      0.63      0.73        41\n",
            "         227       0.65      0.22      0.33        50\n",
            "         228       0.88      0.52      0.66        42\n",
            "         229       0.00      0.00      0.00        43\n",
            "         230       0.77      0.66      0.71        50\n",
            "         231       0.40      0.09      0.14        47\n",
            "         232       0.65      0.36      0.47        47\n",
            "         233       0.60      0.17      0.26        36\n",
            "         234       1.00      0.02      0.04        46\n",
            "         235       0.52      0.28      0.36        40\n",
            "         236       0.81      0.49      0.61        45\n",
            "         237       0.00      0.00      0.00        32\n",
            "         238       0.54      0.15      0.23        48\n",
            "         239       1.00      0.08      0.14        52\n",
            "         240       0.83      0.62      0.71        47\n",
            "         241       0.57      0.27      0.37        44\n",
            "         242       0.00      0.00      0.00        41\n",
            "         243       0.85      0.66      0.74        35\n",
            "         244       0.96      0.67      0.79        39\n",
            "         245       0.00      0.00      0.00        29\n",
            "         246       0.92      0.59      0.72        39\n",
            "         247       0.81      0.36      0.50        36\n",
            "         248       1.00      0.11      0.19        47\n",
            "         249       0.89      0.28      0.43        57\n",
            "         250       0.00      0.00      0.00        25\n",
            "         251       0.77      0.24      0.37        41\n",
            "         252       0.50      0.03      0.06        34\n",
            "         253       0.00      0.00      0.00        33\n",
            "         254       0.89      0.62      0.73        39\n",
            "         255       0.00      0.00      0.00        41\n",
            "         256       0.44      0.22      0.29        37\n",
            "         257       0.00      0.00      0.00        38\n",
            "         258       0.67      0.06      0.10        36\n",
            "         259       0.86      0.51      0.64        37\n",
            "         260       0.76      0.53      0.62        36\n",
            "         261       0.57      0.09      0.16        43\n",
            "         262       0.60      0.30      0.40        30\n",
            "         263       0.81      0.47      0.60        36\n",
            "         264       0.81      0.64      0.72        45\n",
            "         265       0.89      0.47      0.62        36\n",
            "         266       0.78      0.41      0.54        34\n",
            "         267       1.00      0.62      0.77        40\n",
            "         268       0.95      0.53      0.68        40\n",
            "         269       0.50      0.18      0.27        22\n",
            "         270       0.88      0.54      0.67        26\n",
            "         271       1.00      0.03      0.06        35\n",
            "         272       0.68      0.42      0.52        40\n",
            "         273       0.69      0.37      0.48        30\n",
            "         274       0.33      0.04      0.07        24\n",
            "         275       0.76      0.52      0.62        31\n",
            "         276       0.81      0.75      0.78        28\n",
            "         277       0.76      0.51      0.61        37\n",
            "         278       0.73      0.43      0.54        37\n",
            "         279       0.50      0.03      0.06        30\n",
            "         280       1.00      0.15      0.26        34\n",
            "         281       0.72      0.55      0.62        42\n",
            "         282       0.83      0.27      0.41        37\n",
            "         283       0.86      0.56      0.68        32\n",
            "         284       1.00      0.03      0.06        32\n",
            "         285       0.71      0.48      0.58        31\n",
            "         286       0.76      0.33      0.46        40\n",
            "         287       0.50      0.03      0.06        34\n",
            "         288       0.56      0.36      0.44        25\n",
            "         289       0.89      0.77      0.83        31\n",
            "         290       0.00      0.00      0.00        36\n",
            "         291       0.88      0.58      0.70        36\n",
            "         292       0.92      0.29      0.44        38\n",
            "         293       0.94      0.45      0.61        33\n",
            "         294       0.68      0.47      0.56        32\n",
            "         295       0.00      0.00      0.00        27\n",
            "         296       0.36      0.17      0.24        23\n",
            "         297       0.50      0.03      0.06        29\n",
            "         298       0.86      0.73      0.79        33\n",
            "         299       0.29      0.06      0.10        33\n",
            "         300       0.53      0.30      0.38        27\n",
            "         301       0.33      0.08      0.12        26\n",
            "         302       0.43      0.11      0.18        27\n",
            "         303       0.00      0.00      0.00        28\n",
            "         304       0.50      0.09      0.15        33\n",
            "         305       1.00      0.05      0.10        39\n",
            "         306       0.90      0.79      0.84        34\n",
            "         307       1.00      0.12      0.21        26\n",
            "         308       0.87      0.50      0.63        26\n",
            "         309       0.89      0.20      0.33        40\n",
            "         310       0.95      0.64      0.77        28\n",
            "         311       0.40      0.07      0.12        29\n",
            "         312       0.75      0.10      0.18        29\n",
            "         313       0.70      0.50      0.58        28\n",
            "         314       0.86      0.58      0.69        31\n",
            "         315       0.45      0.18      0.26        28\n",
            "         316       0.00      0.00      0.00        23\n",
            "         317       0.42      0.17      0.24        29\n",
            "         318       1.00      0.75      0.86        24\n",
            "         319       0.78      0.50      0.61        28\n",
            "         320       0.79      0.52      0.62        29\n",
            "         321       0.45      0.19      0.26        27\n",
            "         322       0.00      0.00      0.00        45\n",
            "         323       0.81      0.57      0.67        23\n",
            "         324       0.71      0.48      0.57        25\n",
            "         325       0.76      0.48      0.59        27\n",
            "         326       0.00      0.00      0.00        33\n",
            "         327       0.56      0.22      0.31        23\n",
            "         328       0.81      0.52      0.63        25\n",
            "         329       0.77      0.52      0.62        33\n",
            "         330       0.50      0.04      0.08        24\n",
            "         331       0.75      0.58      0.65        31\n",
            "         332       1.00      0.04      0.07        28\n",
            "         333       0.00      0.00      0.00        29\n",
            "         334       0.82      0.47      0.60        30\n",
            "         335       0.00      0.00      0.00        29\n",
            "         336       0.75      0.21      0.32        29\n",
            "         337       0.90      0.66      0.76        29\n",
            "         338       0.80      0.38      0.52        21\n",
            "         339       0.95      0.65      0.77        31\n",
            "         340       0.25      0.08      0.12        26\n",
            "         341       0.50      0.07      0.12        28\n",
            "         342       0.38      0.14      0.21        21\n",
            "         343       0.60      0.09      0.16        32\n",
            "         344       0.70      0.67      0.68        24\n",
            "         345       0.33      0.04      0.07        24\n",
            "         346       0.83      0.42      0.56        24\n",
            "         347       0.00      0.00      0.00        20\n",
            "         348       0.00      0.00      0.00        23\n",
            "         349       0.88      0.56      0.68        27\n",
            "         350       0.87      0.87      0.87        15\n",
            "         351       0.00      0.00      0.00        23\n",
            "         352       0.33      0.09      0.14        23\n",
            "         353       0.83      0.19      0.31        26\n",
            "         354       0.82      0.52      0.64        27\n",
            "         355       0.43      0.12      0.19        24\n",
            "         356       0.60      0.12      0.21        24\n",
            "         357       0.78      0.39      0.52        18\n",
            "         358       0.76      0.41      0.53        32\n",
            "         359       0.65      0.60      0.63        25\n",
            "         360       0.75      0.12      0.21        25\n",
            "         361       1.00      0.04      0.08        25\n",
            "         362       0.79      0.44      0.56        25\n",
            "         363       1.00      0.06      0.11        34\n",
            "         364       0.67      0.23      0.34        26\n",
            "         365       0.71      0.25      0.37        20\n",
            "         366       0.00      0.00      0.00        20\n",
            "         367       0.71      0.29      0.42        17\n",
            "         368       0.78      0.25      0.38        28\n",
            "         369       0.75      0.13      0.22        23\n",
            "         370       0.00      0.00      0.00        19\n",
            "         371       0.00      0.00      0.00        27\n",
            "         372       0.83      0.45      0.59        22\n",
            "         373       0.67      0.28      0.39        29\n",
            "         374       0.60      0.14      0.22        22\n",
            "         375       1.00      0.08      0.14        26\n",
            "         376       0.40      0.20      0.27        20\n",
            "         377       0.33      0.07      0.11        15\n",
            "         378       0.43      0.16      0.23        19\n",
            "         379       1.00      0.40      0.57        15\n",
            "         380       0.00      0.00      0.00        11\n",
            "         381       0.90      0.72      0.80        25\n",
            "         382       0.86      0.32      0.46        19\n",
            "         383       0.89      0.38      0.53        21\n",
            "         384       0.85      0.52      0.65        21\n",
            "         385       0.00      0.00      0.00        26\n",
            "         386       0.70      0.33      0.45        21\n",
            "         387       0.70      0.58      0.64        24\n",
            "         388       0.75      0.46      0.57        26\n",
            "         389       0.83      0.22      0.34        23\n",
            "         390       0.00      0.00      0.00        22\n",
            "         391       0.60      0.12      0.20        25\n",
            "         392       0.60      0.17      0.26        18\n",
            "         393       0.80      0.55      0.65        22\n",
            "         394       0.71      0.23      0.34        22\n",
            "         395       0.50      0.25      0.33        16\n",
            "         396       0.40      0.57      0.47        14\n",
            "         397       1.00      0.50      0.67        18\n",
            "         398       0.33      0.10      0.15        21\n",
            "         399       0.00      0.00      0.00        13\n",
            "         400       0.75      0.32      0.45        28\n",
            "         401       0.00      0.00      0.00        22\n",
            "         402       0.60      0.16      0.25        19\n",
            "         403       0.00      0.00      0.00        19\n",
            "         404       0.00      0.00      0.00        22\n",
            "         405       0.00      0.00      0.00        15\n",
            "         406       1.00      0.53      0.69        17\n",
            "         407       0.00      0.00      0.00        17\n",
            "         408       0.82      0.50      0.62        18\n",
            "         409       0.00      0.00      0.00        25\n",
            "         410       0.60      0.40      0.48        15\n",
            "         411       0.00      0.00      0.00        13\n",
            "         412       0.82      0.36      0.50        25\n",
            "         413       0.83      0.68      0.75        22\n",
            "         414       0.89      0.76      0.82        21\n",
            "         415       0.00      0.00      0.00        15\n",
            "         416       0.38      0.16      0.22        19\n",
            "         417       0.00      0.00      0.00        20\n",
            "         418       0.79      0.69      0.73        16\n",
            "         419       0.00      0.00      0.00        19\n",
            "         420       0.75      0.20      0.32        15\n",
            "         421       0.69      0.52      0.59        21\n",
            "         422       0.50      0.33      0.40        15\n",
            "         423       1.00      0.05      0.09        22\n",
            "         424       0.73      0.31      0.43        26\n",
            "         425       1.00      0.14      0.25         7\n",
            "         426       0.00      0.00      0.00        16\n",
            "         427       0.81      0.57      0.67        23\n",
            "         428       0.00      0.00      0.00        14\n",
            "         429       0.92      0.55      0.69        20\n",
            "         430       0.00      0.00      0.00        20\n",
            "         431       0.57      0.19      0.29        21\n",
            "         432       0.86      0.63      0.73        19\n",
            "         433       0.00      0.00      0.00        24\n",
            "         434       0.67      0.18      0.29        11\n",
            "         435       0.20      0.11      0.14        19\n",
            "         436       0.00      0.00      0.00        24\n",
            "         437       0.60      0.43      0.50        21\n",
            "         438       0.00      0.00      0.00        14\n",
            "         439       0.00      0.00      0.00        20\n",
            "         440       0.33      0.06      0.10        18\n",
            "         441       0.69      0.64      0.67        14\n",
            "         442       0.00      0.00      0.00        24\n",
            "         443       0.00      0.00      0.00        25\n",
            "         444       0.50      0.19      0.27        16\n",
            "         445       0.45      0.33      0.38        15\n",
            "         446       0.00      0.00      0.00        17\n",
            "         447       0.88      0.44      0.58        16\n",
            "         448       0.00      0.00      0.00        15\n",
            "         449       0.80      0.40      0.53        20\n",
            "         450       0.00      0.00      0.00        19\n",
            "         451       0.92      0.57      0.71        21\n",
            "         452       1.00      0.56      0.72        16\n",
            "         453       0.00      0.00      0.00        15\n",
            "         454       0.67      0.24      0.35        17\n",
            "         455       0.33      0.14      0.20        14\n",
            "         456       0.00      0.00      0.00        12\n",
            "         457       0.00      0.00      0.00        20\n",
            "         458       0.00      0.00      0.00        10\n",
            "         459       0.00      0.00      0.00        20\n",
            "         460       0.56      0.45      0.50        11\n",
            "         461       0.50      0.05      0.10        19\n",
            "         462       0.00      0.00      0.00        17\n",
            "         463       0.82      0.47      0.60        19\n",
            "         464       0.75      0.60      0.67        10\n",
            "         465       0.38      0.23      0.29        13\n",
            "         466       0.75      0.17      0.27        18\n",
            "         467       0.75      0.60      0.67        20\n",
            "         468       0.50      0.05      0.09        21\n",
            "         469       0.00      0.00      0.00        17\n",
            "         470       1.00      0.14      0.25        14\n",
            "         471       0.80      0.63      0.71        19\n",
            "         472       0.67      0.29      0.40        14\n",
            "         473       0.33      0.06      0.10        18\n",
            "         474       0.00      0.00      0.00        16\n",
            "         475       0.50      0.06      0.11        17\n",
            "         476       0.00      0.00      0.00        23\n",
            "         477       0.00      0.00      0.00        16\n",
            "         478       0.50      0.08      0.13        13\n",
            "         479       0.00      0.00      0.00        16\n",
            "         480       0.00      0.00      0.00        13\n",
            "         481       0.43      0.55      0.48        11\n",
            "         482       0.86      0.40      0.55        15\n",
            "         483       0.00      0.00      0.00        10\n",
            "         484       0.50      0.08      0.14        12\n",
            "         485       0.50      0.22      0.31         9\n",
            "         486       0.00      0.00      0.00        18\n",
            "         487       0.56      0.36      0.43        14\n",
            "         488       0.86      0.32      0.46        19\n",
            "         489       0.00      0.00      0.00        18\n",
            "         490       0.83      0.36      0.50        14\n",
            "         491       0.80      0.36      0.50        11\n",
            "         492       0.50      0.24      0.32        21\n",
            "         493       0.62      0.47      0.53        17\n",
            "         494       1.00      0.40      0.57        10\n",
            "         495       0.50      0.50      0.50         8\n",
            "         496       1.00      0.20      0.33        10\n",
            "         497       0.00      0.00      0.00        21\n",
            "         498       0.55      0.40      0.46        15\n",
            "         499       0.80      0.47      0.59        17\n",
            "\n",
            "   micro avg       0.72      0.35      0.47     45465\n",
            "   macro avg       0.59      0.30      0.37     45465\n",
            "weighted avg       0.66      0.35      0.44     45465\n",
            " samples avg       0.59      0.38      0.43     45465\n",
            "\n"
          ],
          "name": "stdout"
        },
        {
          "output_type": "stream",
          "text": [
            "/usr/local/lib/python3.6/dist-packages/sklearn/metrics/_classification.py:1272: UndefinedMetricWarning: Precision and F-score are ill-defined and being set to 0.0 in labels with no predicted samples. Use `zero_division` parameter to control this behavior.\n",
            "  _warn_prf(average, modifier, msg_start, len(result))\n",
            "/usr/local/lib/python3.6/dist-packages/sklearn/metrics/_classification.py:1272: UndefinedMetricWarning: Precision and F-score are ill-defined and being set to 0.0 in samples with no predicted labels. Use `zero_division` parameter to control this behavior.\n",
            "  _warn_prf(average, modifier, msg_start, len(result))\n",
            "/usr/local/lib/python3.6/dist-packages/sklearn/metrics/_classification.py:1272: UndefinedMetricWarning: Recall and F-score are ill-defined and being set to 0.0 in samples with no true labels. Use `zero_division` parameter to control this behavior.\n",
            "  _warn_prf(average, modifier, msg_start, len(result))\n"
          ],
          "name": "stderr"
        }
      ]
    },
    {
      "cell_type": "code",
      "metadata": {
        "id": "F6kxQKmvmQ2_",
        "colab_type": "code",
        "colab": {}
      },
      "source": [
        ""
      ],
      "execution_count": 0,
      "outputs": []
    }
  ]
}