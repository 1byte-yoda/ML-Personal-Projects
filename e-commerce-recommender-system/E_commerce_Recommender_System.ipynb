{
  "nbformat": 4,
  "nbformat_minor": 0,
  "metadata": {
    "colab": {
      "name": "E-commerce-Recommender-System.ipynb",
      "provenance": [],
      "collapsed_sections": [
        "FxHNb3qDUzt0",
        "nIN2fJiCVGku",
        "LkKrn60pVN2C",
        "J-elG87WVZsr",
        "GyayyBsNVvEG"
      ],
      "mount_file_id": "1hV3HZEMduti90oVdlOhuTswot4bRQ0-5",
      "authorship_tag": "ABX9TyNx3sgA9UQh3tOpnd5/TxaZ",
      "include_colab_link": true
    },
    "kernelspec": {
      "name": "python3",
      "display_name": "Python 3"
    }
  },
  "cells": [
    {
      "cell_type": "markdown",
      "metadata": {
        "id": "view-in-github",
        "colab_type": "text"
      },
      "source": [
        "<a href=\"https://colab.research.google.com/github/PHMark/ML-Personal-Projects/blob/master/e-commerce-recommender-system/E_commerce_Recommender_System.ipynb\" target=\"_parent\"><img src=\"https://colab.research.google.com/assets/colab-badge.svg\" alt=\"Open In Colab\"/></a>"
      ]
    },
    {
      "cell_type": "markdown",
      "metadata": {
        "id": "bxy7KLk3N5Su",
        "colab_type": "text"
      },
      "source": [
        "<h1> Amazon Ladies Apparel Recommendations </h1>\n",
        "\n"
      ]
    },
    {
      "cell_type": "code",
      "metadata": {
        "id": "-o2JdAdADyiy",
        "colab_type": "code",
        "colab": {}
      },
      "source": [
        "import requests\n",
        "import os\n",
        "from io import BytesIO\n",
        "import itertools\n",
        "\n",
        "\n",
        "from PIL import Image\n",
        "import pandas as pd\n",
        "from matplotlib import pyplot as plt\n",
        "import numpy as np\n",
        "from wordcloud import WordCloud\n",
        "import nltk\n",
        "from nltk.corpus import stopwords"
      ],
      "execution_count": 127,
      "outputs": []
    },
    {
      "cell_type": "code",
      "metadata": {
        "id": "y7Hc8iWQTfO9",
        "colab_type": "code",
        "colab": {
          "base_uri": "https://localhost:8080/",
          "height": 68
        },
        "outputId": "059921e5-3138-4b86-e9e2-7cec0161edb9"
      },
      "source": [
        "nltk.download('stopwords')"
      ],
      "execution_count": 128,
      "outputs": [
        {
          "output_type": "stream",
          "text": [
            "[nltk_data] Downloading package stopwords to /root/nltk_data...\n",
            "[nltk_data]   Unzipping corpora/stopwords.zip.\n"
          ],
          "name": "stdout"
        },
        {
          "output_type": "execute_result",
          "data": {
            "text/plain": [
              "True"
            ]
          },
          "metadata": {
            "tags": []
          },
          "execution_count": 128
        }
      ]
    },
    {
      "cell_type": "code",
      "metadata": {
        "id": "yS_nBpdjHI0q",
        "colab_type": "code",
        "colab": {}
      },
      "source": [
        "# to display all the columns of the dataframe in the notebook\n",
        "pd.pandas.set_option('display.max_columns', None)\n",
        "\n",
        "% matplotlib inline"
      ],
      "execution_count": 84,
      "outputs": []
    },
    {
      "cell_type": "code",
      "metadata": {
        "id": "pirZvpD8FDJs",
        "colab_type": "code",
        "colab": {}
      },
      "source": [
        "CURRENT_DIR = os.path.abspath(os.curdir)\n",
        "DATA_DIR = os.path.join(CURRENT_DIR, \"drive/My Drive/ML Projects/E-commerce Recommender System/data\")\n",
        "FILE_DIR = os.path.join(DATA_DIR, \"2020-08-28-ladies-apparel-tops.json\")"
      ],
      "execution_count": 85,
      "outputs": []
    },
    {
      "cell_type": "code",
      "metadata": {
        "id": "z-q1wiSqEcgK",
        "colab_type": "code",
        "colab": {}
      },
      "source": [
        "df = pd.read_json(FILE_DIR)"
      ],
      "execution_count": 86,
      "outputs": []
    },
    {
      "cell_type": "code",
      "metadata": {
        "id": "uHmvBRuTGDOJ",
        "colab_type": "code",
        "colab": {
          "base_uri": "https://localhost:8080/",
          "height": 51
        },
        "outputId": "fa398948-b93f-4060-ef12-887f29ce6287"
      },
      "source": [
        "print(\"Total Number of Data Points: {}\\nTotal Number of Features: {}\".format(*df.shape))"
      ],
      "execution_count": 87,
      "outputs": [
        {
          "output_type": "stream",
          "text": [
            "Total Number of Data Points: 183138\n",
            "Total Number of Features: 19\n"
          ],
          "name": "stdout"
        }
      ]
    },
    {
      "cell_type": "code",
      "metadata": {
        "id": "uo2Lv028GI8c",
        "colab_type": "code",
        "colab": {
          "base_uri": "https://localhost:8080/",
          "height": 119
        },
        "outputId": "4f7b7a1d-16e1-46b2-fd95-8f45013d332b"
      },
      "source": [
        "print(df.columns)"
      ],
      "execution_count": 88,
      "outputs": [
        {
          "output_type": "stream",
          "text": [
            "Index(['sku', 'asin', 'product_type_name', 'formatted_price', 'author',\n",
            "       'color', 'brand', 'publisher', 'availability', 'reviews',\n",
            "       'large_image_url', 'availability_type', 'small_image_url',\n",
            "       'editorial_review', 'title', 'model', 'medium_image_url',\n",
            "       'manufacturer', 'editorial_reivew'],\n",
            "      dtype='object')\n"
          ],
          "name": "stdout"
        }
      ]
    },
    {
      "cell_type": "markdown",
      "metadata": {
        "id": "qoQjhM49HW7e",
        "colab_type": "text"
      },
      "source": [
        "Because of limited computational resource, and also to iterate on things much faster, we will be using only 6 features namely:\n",
        "\n",
        "1. **asin** - Amazon standard identification number.\n",
        "\n",
        "2. **brand** - Brand to which the product belongs to.\n",
        "\n",
        "3. **color** Color information of apparel, it can contain many colors as a value *ex: red and black stripes*.\n",
        "\n",
        "4. **product_type_name** - Type of the apperal, *ex: SHIRT/TSHIRT*.\n",
        "\n",
        "5. **medium_image_url** - URL of the image.\n",
        "\n",
        "6. **title** - title of the product.\n",
        "\n",
        "7. **formatted_price** - price of the product.\n",
        "\n",
        "\n",
        "Since I will use NLP techniques,\n",
        "these features are relevant for my current use case. Also, intuitively, these metadata gives so much information to describe a product in an e-commerce shop.\n"
      ]
    },
    {
      "cell_type": "code",
      "metadata": {
        "id": "SEvi648HMMEb",
        "colab_type": "code",
        "colab": {}
      },
      "source": [
        "df = df[['asin', 'brand', 'color', 'medium_image_url', 'product_type_name', 'title', 'formatted_price']]"
      ],
      "execution_count": 89,
      "outputs": []
    },
    {
      "cell_type": "code",
      "metadata": {
        "id": "LJ3bhgn7HMrU",
        "colab_type": "code",
        "colab": {
          "base_uri": "https://localhost:8080/",
          "height": 496
        },
        "outputId": "9f83baca-9a74-485b-c52d-59159b6dd7f1"
      },
      "source": [
        "df.head()"
      ],
      "execution_count": 90,
      "outputs": [
        {
          "output_type": "execute_result",
          "data": {
            "text/html": [
              "<div>\n",
              "<style scoped>\n",
              "    .dataframe tbody tr th:only-of-type {\n",
              "        vertical-align: middle;\n",
              "    }\n",
              "\n",
              "    .dataframe tbody tr th {\n",
              "        vertical-align: top;\n",
              "    }\n",
              "\n",
              "    .dataframe thead th {\n",
              "        text-align: right;\n",
              "    }\n",
              "</style>\n",
              "<table border=\"1\" class=\"dataframe\">\n",
              "  <thead>\n",
              "    <tr style=\"text-align: right;\">\n",
              "      <th></th>\n",
              "      <th>asin</th>\n",
              "      <th>brand</th>\n",
              "      <th>color</th>\n",
              "      <th>medium_image_url</th>\n",
              "      <th>product_type_name</th>\n",
              "      <th>title</th>\n",
              "      <th>formatted_price</th>\n",
              "    </tr>\n",
              "  </thead>\n",
              "  <tbody>\n",
              "    <tr>\n",
              "      <th>0</th>\n",
              "      <td>B016I2TS4W</td>\n",
              "      <td>FNC7C</td>\n",
              "      <td>None</td>\n",
              "      <td>https://images-na.ssl-images-amazon.com/images...</td>\n",
              "      <td>SHIRT</td>\n",
              "      <td>Minions Como Superheroes Ironman Long Sleeve R...</td>\n",
              "      <td>None</td>\n",
              "    </tr>\n",
              "    <tr>\n",
              "      <th>1</th>\n",
              "      <td>B01N49AI08</td>\n",
              "      <td>FIG Clothing</td>\n",
              "      <td>None</td>\n",
              "      <td>https://images-na.ssl-images-amazon.com/images...</td>\n",
              "      <td>SHIRT</td>\n",
              "      <td>FIG Clothing Womens Izo Tunic</td>\n",
              "      <td>None</td>\n",
              "    </tr>\n",
              "    <tr>\n",
              "      <th>2</th>\n",
              "      <td>B01JDPCOHO</td>\n",
              "      <td>FIG Clothing</td>\n",
              "      <td>None</td>\n",
              "      <td>https://images-na.ssl-images-amazon.com/images...</td>\n",
              "      <td>SHIRT</td>\n",
              "      <td>FIG Clothing Womens Won Top</td>\n",
              "      <td>None</td>\n",
              "    </tr>\n",
              "    <tr>\n",
              "      <th>3</th>\n",
              "      <td>B01N19U5H5</td>\n",
              "      <td>Focal18</td>\n",
              "      <td>None</td>\n",
              "      <td>https://images-na.ssl-images-amazon.com/images...</td>\n",
              "      <td>SHIRT</td>\n",
              "      <td>Focal18 Sailor Collar Bubble Sleeve Blouse Shi...</td>\n",
              "      <td>None</td>\n",
              "    </tr>\n",
              "    <tr>\n",
              "      <th>4</th>\n",
              "      <td>B004GSI2OS</td>\n",
              "      <td>FeatherLite</td>\n",
              "      <td>Onyx Black/ Stone</td>\n",
              "      <td>https://images-na.ssl-images-amazon.com/images...</td>\n",
              "      <td>SHIRT</td>\n",
              "      <td>Featherlite Ladies' Long Sleeve Stain Resistan...</td>\n",
              "      <td>$26.26</td>\n",
              "    </tr>\n",
              "  </tbody>\n",
              "</table>\n",
              "</div>"
            ],
            "text/plain": [
              "         asin         brand              color  \\\n",
              "0  B016I2TS4W         FNC7C               None   \n",
              "1  B01N49AI08  FIG Clothing               None   \n",
              "2  B01JDPCOHO  FIG Clothing               None   \n",
              "3  B01N19U5H5       Focal18               None   \n",
              "4  B004GSI2OS   FeatherLite  Onyx Black/ Stone   \n",
              "\n",
              "                                    medium_image_url product_type_name  \\\n",
              "0  https://images-na.ssl-images-amazon.com/images...             SHIRT   \n",
              "1  https://images-na.ssl-images-amazon.com/images...             SHIRT   \n",
              "2  https://images-na.ssl-images-amazon.com/images...             SHIRT   \n",
              "3  https://images-na.ssl-images-amazon.com/images...             SHIRT   \n",
              "4  https://images-na.ssl-images-amazon.com/images...             SHIRT   \n",
              "\n",
              "                                               title formatted_price  \n",
              "0  Minions Como Superheroes Ironman Long Sleeve R...            None  \n",
              "1                      FIG Clothing Womens Izo Tunic            None  \n",
              "2                        FIG Clothing Womens Won Top            None  \n",
              "3  Focal18 Sailor Collar Bubble Sleeve Blouse Shi...            None  \n",
              "4  Featherlite Ladies' Long Sleeve Stain Resistan...          $26.26  "
            ]
          },
          "metadata": {
            "tags": []
          },
          "execution_count": 90
        }
      ]
    },
    {
      "cell_type": "markdown",
      "metadata": {
        "id": "BPIJH6LxJ1_d",
        "colab_type": "text"
      },
      "source": [
        "# 1.) Feature Analysis"
      ]
    },
    {
      "cell_type": "markdown",
      "metadata": {
        "id": "mTzJyMACJ-kD",
        "colab_type": "text"
      },
      "source": [
        "The amazon dataset contains 183138 rows, i.e., womens tops, and 19 features. \n",
        "\n",
        "**We will analyse the dataset to identify:**\n",
        "\n",
        "1. Missing values\n",
        "2. High Level Statistics of each Feature.\n",
        "3. Check for duplicated data points / products."
      ]
    },
    {
      "cell_type": "markdown",
      "metadata": {
        "id": "bXmHnipyKch5",
        "colab_type": "text"
      },
      "source": [
        "## 1.1 Missing Values"
      ]
    },
    {
      "cell_type": "markdown",
      "metadata": {
        "id": "Tt-hqItyNKXo",
        "colab_type": "text"
      },
      "source": [
        "Garbage-In-Garbage-Out.\n",
        "\n",
        "Checking for missing values is an important part of data analysis. Ideally in machine learning, we want to transform our data to be an edible information for our computer to process."
      ]
    },
    {
      "cell_type": "code",
      "metadata": {
        "id": "BiatEmceHQc2",
        "colab_type": "code",
        "colab": {
          "base_uri": "https://localhost:8080/",
          "height": 68
        },
        "outputId": "75a823b7-ccf2-4ab6-97c1-be3bd71e9661"
      },
      "source": [
        "# make a list of the variables that contain missing values\n",
        "vars_with_na = [var for var in df.columns if df[var].isnull().sum() > 1]\n",
        "\n",
        "# print the variable name and the percentage of missing values\n",
        "for var in vars_with_na:\n",
        "    print(var, np.round(df[var].isnull().mean(), 3),  ' % missing values')"
      ],
      "execution_count": 91,
      "outputs": [
        {
          "output_type": "stream",
          "text": [
            "brand 0.001  % missing values\n",
            "color 0.645  % missing values\n",
            "formatted_price 0.845  % missing values\n"
          ],
          "name": "stdout"
        }
      ]
    },
    {
      "cell_type": "markdown",
      "metadata": {
        "id": "aHWIKDzsLI9R",
        "colab_type": "text"
      },
      "source": [
        "Our dataset contains 3 variables with missing values. We need to account for this in our data preprocessing section."
      ]
    },
    {
      "cell_type": "markdown",
      "metadata": {
        "id": "SuIsXTXQMCq3",
        "colab_type": "text"
      },
      "source": [
        "## 1.2 High Level Statistics"
      ]
    },
    {
      "cell_type": "code",
      "metadata": {
        "id": "6pWGbU7NK7l-",
        "colab_type": "code",
        "colab": {}
      },
      "source": [
        "def show_feature_statistics(data: pd.Series, n: int, variable_name: str):\n",
        "  print(\"Basic Statistics for the {} variable:\".format(variable_name))\n",
        "  print(\"=\"*75)\n",
        "  print(data.describe())\n",
        "  print(\"=\"*75)\n",
        "  print(\"\\nUnique Values:\")\n",
        "  print(data.unique())\n",
        "  print(\"=\"*75)\n",
        "\n",
        "  _frequency = data.value_counts()\n",
        "  plt.figure(figsize=(10, 6))\n",
        "  plt.title(\"Top {} most frequent values in the {} variable\".format(n, variable_name))\n",
        "  plt.xlabel(\"Category Levels\")\n",
        "  plt.ylabel(\"Frequency\")\n",
        "  _frequency.head(n).plot(kind='bar', color=\"orange\")\n",
        "  plt.show()"
      ],
      "execution_count": 92,
      "outputs": []
    },
    {
      "cell_type": "markdown",
      "metadata": {
        "id": "FxHNb3qDUzt0",
        "colab_type": "text"
      },
      "source": [
        "#### 1.2.1 For product_type_name variable"
      ]
    },
    {
      "cell_type": "code",
      "metadata": {
        "id": "Mqu6aOOQPFeu",
        "colab_type": "code",
        "colab": {
          "base_uri": "https://localhost:8080/",
          "height": 0
        },
        "outputId": "ace8cafb-163f-40a0-f0c8-a62366c159f4"
      },
      "source": [
        "show_feature_statistics(data=df[\"product_type_name\"], n=10, variable_name=\"product_type_name\")"
      ],
      "execution_count": 93,
      "outputs": [
        {
          "output_type": "stream",
          "text": [
            "Basic Statistics for the product_type_name variable:\n",
            "===========================================================================\n",
            "count     183138\n",
            "unique        72\n",
            "top        SHIRT\n",
            "freq      167794\n",
            "Name: product_type_name, dtype: object\n",
            "===========================================================================\n",
            "\n",
            "Unique Values:\n",
            "['SHIRT' 'SWEATER' 'APPAREL' 'OUTDOOR_RECREATION_PRODUCT'\n",
            " 'BOOKS_1973_AND_LATER' 'PANTS' 'HAT' 'SPORTING_GOODS' 'DRESS' 'UNDERWEAR'\n",
            " 'SKIRT' 'OUTERWEAR' 'BRA' 'ACCESSORY' 'ART_SUPPLIES' 'SLEEPWEAR'\n",
            " 'ORCA_SHIRT' 'HANDBAG' 'PET_SUPPLIES' 'SHOES' 'KITCHEN' 'ADULT_COSTUME'\n",
            " 'HOME_BED_AND_BATH' 'MISC_OTHER' 'BLAZER' 'HEALTH_PERSONAL_CARE'\n",
            " 'TOYS_AND_GAMES' 'SWIMWEAR' 'CONSUMER_ELECTRONICS' 'SHORTS' 'HOME'\n",
            " 'AUTO_PART' 'OFFICE_PRODUCTS' 'ETHNIC_WEAR' 'BEAUTY'\n",
            " 'INSTRUMENT_PARTS_AND_ACCESSORIES' 'POWERSPORTS_PROTECTIVE_GEAR' 'SHIRTS'\n",
            " 'ABIS_APPAREL' 'AUTO_ACCESSORY' 'NONAPPARELMISC' 'TOOLS' 'BABY_PRODUCT'\n",
            " 'SOCKSHOSIERY' 'POWERSPORTS_RIDING_SHIRT' 'EYEWEAR' 'SUIT'\n",
            " 'OUTDOOR_LIVING' 'POWERSPORTS_RIDING_JACKET' 'HARDWARE' 'SAFETY_SUPPLY'\n",
            " 'ABIS_DVD' 'VIDEO_DVD' 'GOLF_CLUB' 'MUSIC_POPULAR_VINYL'\n",
            " 'HOME_FURNITURE_AND_DECOR' 'TABLET_COMPUTER' 'GUILD_ACCESSORIES'\n",
            " 'ABIS_SPORTS' 'ART_AND_CRAFT_SUPPLY' 'BAG' 'MECHANICAL_COMPONENTS'\n",
            " 'SOUND_AND_RECORDING_EQUIPMENT' 'COMPUTER_COMPONENT' 'JEWELRY'\n",
            " 'BUILDING_MATERIAL' 'LUGGAGE' 'BABY_COSTUME' 'POWERSPORTS_VEHICLE_PART'\n",
            " 'PROFESSIONAL_HEALTHCARE' 'SEEDS_AND_PLANTS' 'WIRELESS_ACCESSORY']\n",
            "===========================================================================\n"
          ],
          "name": "stdout"
        },
        {
          "output_type": "display_data",
          "data": {
            "image/png": "[encoded data removed]",
            "text/plain": [
              "<Figure size 720x432 with 1 Axes>"
            ]
          },
          "metadata": {
            "tags": [],
            "needs_background": "light"
          }
        }
      ]
    },
    {
      "cell_type": "markdown",
      "metadata": {
        "id": "TieMFsJ4OQvX",
        "colab_type": "text"
      },
      "source": [
        "We have a total of 72 unique type of product_type_names, and the most frequent category was \"SHIRT\"."
      ]
    },
    {
      "cell_type": "code",
      "metadata": {
        "id": "fyMdGvp1OKOi",
        "colab_type": "code",
        "colab": {}
      },
      "source": [
        "def plot_wordcloud(data: pd.Series):\n",
        "  data = data.copy().value_counts()\n",
        "  data = data.to_dict()\n",
        "  wordcloud = (WordCloud(background_color='grey', width=640, height=480)\n",
        "                .generate_from_frequencies(data))\n",
        "  plt.figure(figsize=(30, 10))\n",
        "  plt.imshow(wordcloud)\n",
        "  plt.axis(False)\n",
        "  plt.show()"
      ],
      "execution_count": 94,
      "outputs": []
    },
    {
      "cell_type": "markdown",
      "metadata": {
        "id": "nIN2fJiCVGku",
        "colab_type": "text"
      },
      "source": [
        "#### 1.2.2 For brand variable"
      ]
    },
    {
      "cell_type": "code",
      "metadata": {
        "id": "CEXwtg-1RG2d",
        "colab_type": "code",
        "colab": {
          "base_uri": "https://localhost:8080/",
          "height": 0
        },
        "outputId": "f306df53-cc01-4b93-9a25-e51f947e61b7"
      },
      "source": [
        "show_feature_statistics(data=df[\"brand\"], n=10, variable_name=\"brand\")"
      ],
      "execution_count": 95,
      "outputs": [
        {
          "output_type": "stream",
          "text": [
            "Basic Statistics for the brand variable:\n",
            "===========================================================================\n",
            "count     182987\n",
            "unique     10577\n",
            "top         Zago\n",
            "freq         223\n",
            "Name: brand, dtype: object\n",
            "===========================================================================\n",
            "\n",
            "Unique Values:\n",
            "['FNC7C' 'FIG Clothing' 'Focal18' ... 'Z' \"Rain's Pan Jacket\"\n",
            " 'FFLMYUHULIU']\n",
            "===========================================================================\n"
          ],
          "name": "stdout"
        },
        {
          "output_type": "display_data",
          "data": {
            "image/png": "[encoded data removed]",
            "text/plain": [
              "<Figure size 720x432 with 1 Axes>"
            ]
          },
          "metadata": {
            "tags": [],
            "needs_background": "light"
          }
        }
      ]
    },
    {
      "cell_type": "markdown",
      "metadata": {
        "id": "LkKrn60pVN2C",
        "colab_type": "text"
      },
      "source": [
        "#### 1.2.3 For color variable"
      ]
    },
    {
      "cell_type": "code",
      "metadata": {
        "id": "h5XN3mwiVRsj",
        "colab_type": "code",
        "colab": {
          "base_uri": "https://localhost:8080/",
          "height": 0
        },
        "outputId": "dbb96db5-5ed6-422e-dfc4-5ddb7870486c"
      },
      "source": [
        "show_feature_statistics(data=df[\"color\"], n=10, variable_name=\"color\")"
      ],
      "execution_count": 96,
      "outputs": [
        {
          "output_type": "stream",
          "text": [
            "Basic Statistics for the color variable:\n",
            "===========================================================================\n",
            "count     64956\n",
            "unique     7380\n",
            "top       Black\n",
            "freq      13207\n",
            "Name: color, dtype: object\n",
            "===========================================================================\n",
            "\n",
            "Unique Values:\n",
            "[None 'Onyx Black/ Stone' 'Grape' ... 'Combo C'\n",
            " 'White, Soft Coral and Charcoal Varigated' 'Monochrome Plaid']\n",
            "===========================================================================\n"
          ],
          "name": "stdout"
        },
        {
          "output_type": "display_data",
          "data": {
            "image/png": "[encoded data removed]",
            "text/plain": [
              "<Figure size 720x432 with 1 Axes>"
            ]
          },
          "metadata": {
            "tags": [],
            "needs_background": "light"
          }
        }
      ]
    },
    {
      "cell_type": "markdown",
      "metadata": {
        "id": "J-elG87WVZsr",
        "colab_type": "text"
      },
      "source": [
        "#### 1.2.4 For formatted_price variable"
      ]
    },
    {
      "cell_type": "code",
      "metadata": {
        "id": "AoQoc8gQVdWU",
        "colab_type": "code",
        "colab": {
          "base_uri": "https://localhost:8080/",
          "height": 0
        },
        "outputId": "e6e57a9c-e0b5-443b-abe7-edc9a71608f8"
      },
      "source": [
        "show_feature_statistics(data=df[\"formatted_price\"], n=10, variable_name=\"formatted_price\")"
      ],
      "execution_count": 97,
      "outputs": [
        {
          "output_type": "stream",
          "text": [
            "Basic Statistics for the formatted_price variable:\n",
            "===========================================================================\n",
            "count      28395\n",
            "unique      3135\n",
            "top       $19.99\n",
            "freq         945\n",
            "Name: formatted_price, dtype: object\n",
            "===========================================================================\n",
            "\n",
            "Unique Values:\n",
            "[None '$26.26' '$9.99' ... '$16.05' '$88.29' '$28.05']\n",
            "===========================================================================\n"
          ],
          "name": "stdout"
        },
        {
          "output_type": "display_data",
          "data": {
            "image/png": "[encoded data removed]",
            "text/plain": [
              "<Figure size 720x432 with 1 Axes>"
            ]
          },
          "metadata": {
            "tags": [],
            "needs_background": "light"
          }
        }
      ]
    },
    {
      "cell_type": "markdown",
      "metadata": {
        "id": "GyayyBsNVvEG",
        "colab_type": "text"
      },
      "source": [
        "#### 1.2.5 For title variable"
      ]
    },
    {
      "cell_type": "code",
      "metadata": {
        "id": "rdWJXvbKVwqV",
        "colab_type": "code",
        "colab": {
          "base_uri": "https://localhost:8080/",
          "height": 0
        },
        "outputId": "d4ac60e1-16ca-44c2-f4d3-08c27ec52b3d"
      },
      "source": [
        "show_feature_statistics(data=df[\"title\"], n=10, variable_name=\"title\")"
      ],
      "execution_count": 98,
      "outputs": [
        {
          "output_type": "stream",
          "text": [
            "Basic Statistics for the title variable:\n",
            "===========================================================================\n",
            "count                                                183138\n",
            "unique                                               175985\n",
            "top       Nakoda Cotton Self Print Straight Kurti For Women\n",
            "freq                                                     77\n",
            "Name: title, dtype: object\n",
            "===========================================================================\n",
            "\n",
            "Unique Values:\n",
            "['Minions Como Superheroes Ironman Long Sleeve Round Neck T-Shirt For Women'\n",
            " 'FIG Clothing Womens Izo Tunic' 'FIG Clothing Womens Won Top' ...\n",
            " 'Wrangler George Strait For Her Long Sleeve Pink Print Western Shirt'\n",
            " 'Susana Monaco Womens Susana Monoco Sleeveless Smock Top, 6, Pink'\n",
            " \"SexyBaby Women's Mesh Splive Flounced Sleeve Crew Neck Tops Blouses\"]\n",
            "===========================================================================\n"
          ],
          "name": "stdout"
        },
        {
          "output_type": "display_data",
          "data": {
            "image/png": "[encoded data removed]",
            "text/plain": [
              "<Figure size 720x432 with 1 Axes>"
            ]
          },
          "metadata": {
            "tags": [],
            "needs_background": "light"
          }
        }
      ]
    },
    {
      "cell_type": "code",
      "metadata": {
        "id": "Ofo54pLtVzju",
        "colab_type": "code",
        "colab": {}
      },
      "source": [
        ""
      ],
      "execution_count": 98,
      "outputs": []
    },
    {
      "cell_type": "markdown",
      "metadata": {
        "id": "eMDlNRCRWYRr",
        "colab_type": "text"
      },
      "source": [
        "### 1.3 Check for duplicated data points"
      ]
    },
    {
      "cell_type": "code",
      "metadata": {
        "id": "JG1nzS2VWgr4",
        "colab_type": "code",
        "colab": {
          "base_uri": "https://localhost:8080/",
          "height": 34
        },
        "outputId": "c360c7dd-c26b-4546-ba8a-95dabd47b5cf"
      },
      "source": [
        "print(f\"There are {sum(df.duplicated('title'))} products which have the same title.\")"
      ],
      "execution_count": 99,
      "outputs": [
        {
          "output_type": "stream",
          "text": [
            "There are 7153 products which have the same title.\n"
          ],
          "name": "stdout"
        }
      ]
    },
    {
      "cell_type": "markdown",
      "metadata": {
        "id": "I5918iQeX7-F",
        "colab_type": "text"
      },
      "source": [
        "#### 1.3.1 Visualizing Duplicates"
      ]
    },
    {
      "cell_type": "markdown",
      "metadata": {
        "id": "RhOQuaQ7YDKX",
        "colab_type": "text"
      },
      "source": [
        "We can visualize duplicate products using the medium_image_url variable."
      ]
    },
    {
      "cell_type": "code",
      "metadata": {
        "id": "y5VFWZCWYBLZ",
        "colab_type": "code",
        "colab": {}
      },
      "source": [
        "def get_image(url):\n",
        "  response = requests.get(url, stream=True)\n",
        "  img = Image.open(response.raw)\n",
        "  # img.save('images/28k_images/'+row['asin']+'.jpeg')\n",
        "  return img"
      ],
      "execution_count": 100,
      "outputs": []
    },
    {
      "cell_type": "code",
      "metadata": {
        "id": "MV0bM80gWxbo",
        "colab_type": "code",
        "colab": {
          "base_uri": "https://localhost:8080/",
          "height": 683
        },
        "outputId": "2ee102fb-447f-4aef-d072-81f71da8ac38"
      },
      "source": [
        "df_sorted = df[df.duplicated('title')].sort_values('title', ascending=True)\n",
        "df_sorted.head()"
      ],
      "execution_count": 101,
      "outputs": [
        {
          "output_type": "execute_result",
          "data": {
            "text/html": [
              "<div>\n",
              "<style scoped>\n",
              "    .dataframe tbody tr th:only-of-type {\n",
              "        vertical-align: middle;\n",
              "    }\n",
              "\n",
              "    .dataframe tbody tr th {\n",
              "        vertical-align: top;\n",
              "    }\n",
              "\n",
              "    .dataframe thead th {\n",
              "        text-align: right;\n",
              "    }\n",
              "</style>\n",
              "<table border=\"1\" class=\"dataframe\">\n",
              "  <thead>\n",
              "    <tr style=\"text-align: right;\">\n",
              "      <th></th>\n",
              "      <th>asin</th>\n",
              "      <th>brand</th>\n",
              "      <th>color</th>\n",
              "      <th>medium_image_url</th>\n",
              "      <th>product_type_name</th>\n",
              "      <th>title</th>\n",
              "      <th>formatted_price</th>\n",
              "    </tr>\n",
              "  </thead>\n",
              "  <tbody>\n",
              "    <tr>\n",
              "      <th>13389</th>\n",
              "      <td>B01GGKMTEW</td>\n",
              "      <td>Acting Pro</td>\n",
              "      <td>None</td>\n",
              "      <td>https://images-na.ssl-images-amazon.com/images...</td>\n",
              "      <td>SHIRT</td>\n",
              "      <td>\"Tonight is Bottoms Up\" Scoop Neck Racerback T...</td>\n",
              "      <td>None</td>\n",
              "    </tr>\n",
              "    <tr>\n",
              "      <th>114281</th>\n",
              "      <td>B01LWSP7G2</td>\n",
              "      <td>Faithful Findings</td>\n",
              "      <td>Gray</td>\n",
              "      <td>https://images-na.ssl-images-amazon.com/images...</td>\n",
              "      <td>SHIRT</td>\n",
              "      <td>#Hope, Women's Jr Size Tee, Religious, Faith-I...</td>\n",
              "      <td>None</td>\n",
              "    </tr>\n",
              "    <tr>\n",
              "      <th>132703</th>\n",
              "      <td>B01LXRRR0B</td>\n",
              "      <td>Faithful Findings</td>\n",
              "      <td>Gray</td>\n",
              "      <td>https://images-na.ssl-images-amazon.com/images...</td>\n",
              "      <td>SHIRT</td>\n",
              "      <td>#Love, Women's Jr Size Tee, Religious, Faith-I...</td>\n",
              "      <td>None</td>\n",
              "    </tr>\n",
              "    <tr>\n",
              "      <th>105741</th>\n",
              "      <td>B00UUEQC6M</td>\n",
              "      <td>GLJ TRADING</td>\n",
              "      <td>B318 SD_BLACK</td>\n",
              "      <td>https://images-na.ssl-images-amazon.com/images...</td>\n",
              "      <td>SHIRT</td>\n",
              "      <td>(Plus Size) Cutout Crochet Lined Tunic with Ch...</td>\n",
              "      <td>$31.99</td>\n",
              "    </tr>\n",
              "    <tr>\n",
              "      <th>104836</th>\n",
              "      <td>B018RR1QNW</td>\n",
              "      <td>GLJ TRADING</td>\n",
              "      <td>None</td>\n",
              "      <td>https://images-na.ssl-images-amazon.com/images...</td>\n",
              "      <td>SHIRT</td>\n",
              "      <td>(Plus Size) Long Sleeves Crew Neck Hi-Lo Hem K...</td>\n",
              "      <td>None</td>\n",
              "    </tr>\n",
              "  </tbody>\n",
              "</table>\n",
              "</div>"
            ],
            "text/plain": [
              "              asin              brand          color  \\\n",
              "13389   B01GGKMTEW         Acting Pro           None   \n",
              "114281  B01LWSP7G2  Faithful Findings           Gray   \n",
              "132703  B01LXRRR0B  Faithful Findings           Gray   \n",
              "105741  B00UUEQC6M        GLJ TRADING  B318 SD_BLACK   \n",
              "104836  B018RR1QNW        GLJ TRADING           None   \n",
              "\n",
              "                                         medium_image_url product_type_name  \\\n",
              "13389   https://images-na.ssl-images-amazon.com/images...             SHIRT   \n",
              "114281  https://images-na.ssl-images-amazon.com/images...             SHIRT   \n",
              "132703  https://images-na.ssl-images-amazon.com/images...             SHIRT   \n",
              "105741  https://images-na.ssl-images-amazon.com/images...             SHIRT   \n",
              "104836  https://images-na.ssl-images-amazon.com/images...             SHIRT   \n",
              "\n",
              "                                                    title formatted_price  \n",
              "13389   \"Tonight is Bottoms Up\" Scoop Neck Racerback T...            None  \n",
              "114281  #Hope, Women's Jr Size Tee, Religious, Faith-I...            None  \n",
              "132703  #Love, Women's Jr Size Tee, Religious, Faith-I...            None  \n",
              "105741  (Plus Size) Cutout Crochet Lined Tunic with Ch...          $31.99  \n",
              "104836  (Plus Size) Long Sleeves Crew Neck Hi-Lo Hem K...            None  "
            ]
          },
          "metadata": {
            "tags": []
          },
          "execution_count": 101
        }
      ]
    },
    {
      "cell_type": "code",
      "metadata": {
        "id": "yLDkd0KSXUvM",
        "colab_type": "code",
        "colab": {
          "base_uri": "https://localhost:8080/",
          "height": 403
        },
        "outputId": "40923901-7c8a-4040-9f2e-55a249ce05d2"
      },
      "source": [
        "duplicated_asins = [\"B00AQ4GMCK\", \"B00G278Z2A\", \"B074SYFP2W\", \"B074SRT6LV\", \"B00AQ4GN3I\", \"B00G278W6O\"]\n",
        "images_to_visualize = df.loc[df[\"asin\"].isin(duplicated_asins), [\"title\", \"medium_image_url\"]].values\n",
        "fig, axes = plt.subplots(3, 2, figsize=(15, 8), sharey=True)\n",
        "plt.subplots_adjust(hspace=0.6)\n",
        "for ax, title, url in zip(axes, images_to_visualize.T[0].reshape(3, 2), images_to_visualize.T[1].reshape(3, 2)):\n",
        "  img1, img2 = get_image(url[0]), get_image(url[1])\n",
        "  ax[0].imshow(img1)\n",
        "  ax[0].set_title(title[0])\n",
        "  ax[0].set_xticks([])\n",
        "  ax[1].imshow(img2)\n",
        "  ax[1].set_title(title[0])\n",
        "  ax[1].set_xticks([])\n",
        "plt.show()"
      ],
      "execution_count": 102,
      "outputs": [
        {
          "output_type": "display_data",
          "data": {
            "image/png": "[encoded data removed]",
            "text/plain": [
              "<Figure size 1080x576 with 6 Axes>"
            ]
          },
          "metadata": {
            "tags": [],
            "needs_background": "light"
          }
        }
      ]
    },
    {
      "cell_type": "markdown",
      "metadata": {
        "id": "jXJwJkGshBIK",
        "colab_type": "text"
      },
      "source": [
        "Since we will use the title variable to find similar products, and generally speaking, removing duplicates will help us improve the performance of our algorithm."
      ]
    },
    {
      "cell_type": "markdown",
      "metadata": {
        "id": "oeApUTbOLj_Z",
        "colab_type": "text"
      },
      "source": [
        "## 2.) Data Cleaning"
      ]
    },
    {
      "cell_type": "markdown",
      "metadata": {
        "id": "ypbPKIm6Lr2Z",
        "colab_type": "text"
      },
      "source": [
        "### 2.1 Removing Missing Values"
      ]
    },
    {
      "cell_type": "markdown",
      "metadata": {
        "id": "-iPAxRnQMDHP",
        "colab_type": "text"
      },
      "source": [
        "I am not a fan of removing missing values, but since I wanted to iteraterate quickly and see if my chosen features would work, I will remove all of the data points w.r.t color and formatted_price variables' missing values. Thus, will decrease the amount of data that we are going to process. But ideally, we should impute those missing values (ie. mean/median imputation, predictive based imputation. In color, we can use image processing to help us identify the corresponding color of the product)."
      ]
    },
    {
      "cell_type": "code",
      "metadata": {
        "id": "RwFIuMrYG94k",
        "colab_type": "code",
        "colab": {}
      },
      "source": [
        "df = df.loc[~df['formatted_price'].isnull()]"
      ],
      "execution_count": 103,
      "outputs": []
    },
    {
      "cell_type": "code",
      "metadata": {
        "id": "Zslkpp9EL3Xv",
        "colab_type": "code",
        "colab": {}
      },
      "source": [
        "df =df.loc[~df['color'].isnull()]"
      ],
      "execution_count": 104,
      "outputs": []
    },
    {
      "cell_type": "code",
      "metadata": {
        "id": "tOMu18izL2PM",
        "colab_type": "code",
        "colab": {
          "base_uri": "https://localhost:8080/",
          "height": 34
        },
        "outputId": "256b98d4-f4a1-438d-d7bc-d1af698550a4"
      },
      "source": [
        "df.shape"
      ],
      "execution_count": 105,
      "outputs": [
        {
          "output_type": "execute_result",
          "data": {
            "text/plain": [
              "(28385, 7)"
            ]
          },
          "metadata": {
            "tags": []
          },
          "execution_count": 105
        }
      ]
    },
    {
      "cell_type": "code",
      "metadata": {
        "id": "KuIqMyaNL62B",
        "colab_type": "code",
        "colab": {
          "base_uri": "https://localhost:8080/",
          "height": 34
        },
        "outputId": "474bf7a7-780e-491b-eeb7-7b100b164c6a"
      },
      "source": [
        "df.shape"
      ],
      "execution_count": 106,
      "outputs": [
        {
          "output_type": "execute_result",
          "data": {
            "text/plain": [
              "(28385, 7)"
            ]
          },
          "metadata": {
            "tags": []
          },
          "execution_count": 106
        }
      ]
    },
    {
      "cell_type": "markdown",
      "metadata": {
        "id": "zOQchK18Nk-Q",
        "colab_type": "text"
      },
      "source": [
        "### 2.2 Removing Products with Few Words in the Title"
      ]
    },
    {
      "cell_type": "markdown",
      "metadata": {
        "id": "IhKztCPuN5ze",
        "colab_type": "text"
      },
      "source": [
        "Short titles doesn't give us much information about the product, so I decided to remove all products with title length less than equal to 5."
      ]
    },
    {
      "cell_type": "code",
      "metadata": {
        "id": "pyO1rULDNuvi",
        "colab_type": "code",
        "colab": {}
      },
      "source": [
        "df_sorted = df[df['title'].apply(lambda x: len(x.split()) > 4)]"
      ],
      "execution_count": 107,
      "outputs": []
    },
    {
      "cell_type": "code",
      "metadata": {
        "id": "_knHSvzYOPmj",
        "colab_type": "code",
        "colab": {
          "base_uri": "https://localhost:8080/",
          "height": 34
        },
        "outputId": "48505eed-4c4e-4455-ef6b-0ace60897ed3"
      },
      "source": [
        "df_sorted.shape"
      ],
      "execution_count": 108,
      "outputs": [
        {
          "output_type": "execute_result",
          "data": {
            "text/plain": [
              "(27949, 7)"
            ]
          },
          "metadata": {
            "tags": []
          },
          "execution_count": 108
        }
      ]
    },
    {
      "cell_type": "code",
      "metadata": {
        "id": "VamnQ62cOMfU",
        "colab_type": "code",
        "colab": {
          "base_uri": "https://localhost:8080/",
          "height": 768
        },
        "outputId": "b0ec5cab-9688-49f3-e671-2dc0eb383d77"
      },
      "source": [
        "df_sorted.sort_values('title', inplace=True, ascending=False)\n",
        "df_sorted.head()"
      ],
      "execution_count": 109,
      "outputs": [
        {
          "output_type": "stream",
          "text": [
            "/usr/local/lib/python3.6/dist-packages/ipykernel_launcher.py:1: SettingWithCopyWarning: \n",
            "A value is trying to be set on a copy of a slice from a DataFrame\n",
            "\n",
            "See the caveats in the documentation: https://pandas.pydata.org/pandas-docs/stable/user_guide/indexing.html#returning-a-view-versus-a-copy\n",
            "  \"\"\"Entry point for launching an IPython kernel.\n"
          ],
          "name": "stderr"
        },
        {
          "output_type": "execute_result",
          "data": {
            "text/html": [
              "<div>\n",
              "<style scoped>\n",
              "    .dataframe tbody tr th:only-of-type {\n",
              "        vertical-align: middle;\n",
              "    }\n",
              "\n",
              "    .dataframe tbody tr th {\n",
              "        vertical-align: top;\n",
              "    }\n",
              "\n",
              "    .dataframe thead th {\n",
              "        text-align: right;\n",
              "    }\n",
              "</style>\n",
              "<table border=\"1\" class=\"dataframe\">\n",
              "  <thead>\n",
              "    <tr style=\"text-align: right;\">\n",
              "      <th></th>\n",
              "      <th>asin</th>\n",
              "      <th>brand</th>\n",
              "      <th>color</th>\n",
              "      <th>medium_image_url</th>\n",
              "      <th>product_type_name</th>\n",
              "      <th>title</th>\n",
              "      <th>formatted_price</th>\n",
              "    </tr>\n",
              "  </thead>\n",
              "  <tbody>\n",
              "    <tr>\n",
              "      <th>61973</th>\n",
              "      <td>B06Y1KZ2WB</td>\n",
              "      <td>Éclair</td>\n",
              "      <td>Black/Pink</td>\n",
              "      <td>https://images-na.ssl-images-amazon.com/images...</td>\n",
              "      <td>SHIRT</td>\n",
              "      <td>Éclair Women's Printed Thin Strap Blouse Black...</td>\n",
              "      <td>$24.99</td>\n",
              "    </tr>\n",
              "    <tr>\n",
              "      <th>133820</th>\n",
              "      <td>B010RV33VE</td>\n",
              "      <td>xiaoming</td>\n",
              "      <td>Pink</td>\n",
              "      <td>https://images-na.ssl-images-amazon.com/images...</td>\n",
              "      <td>SHIRT</td>\n",
              "      <td>xiaoming Womens Sleeveless Loose Long T-shirts...</td>\n",
              "      <td>$18.19</td>\n",
              "    </tr>\n",
              "    <tr>\n",
              "      <th>81461</th>\n",
              "      <td>B01DDSDLNS</td>\n",
              "      <td>xiaoming</td>\n",
              "      <td>White</td>\n",
              "      <td>https://images-na.ssl-images-amazon.com/images...</td>\n",
              "      <td>SHIRT</td>\n",
              "      <td>xiaoming Women's White Long Sleeve Single Brea...</td>\n",
              "      <td>$21.58</td>\n",
              "    </tr>\n",
              "    <tr>\n",
              "      <th>75995</th>\n",
              "      <td>B00X5LYO9Y</td>\n",
              "      <td>xiaoming</td>\n",
              "      <td>Red Anchors</td>\n",
              "      <td>https://images-na.ssl-images-amazon.com/images...</td>\n",
              "      <td>SHIRT</td>\n",
              "      <td>xiaoming Stripes Tank Patch/Bear Sleeve Anchor...</td>\n",
              "      <td>$15.91</td>\n",
              "    </tr>\n",
              "    <tr>\n",
              "      <th>151570</th>\n",
              "      <td>B00WPJG35K</td>\n",
              "      <td>xiaoming</td>\n",
              "      <td>White</td>\n",
              "      <td>https://images-na.ssl-images-amazon.com/images...</td>\n",
              "      <td>SHIRT</td>\n",
              "      <td>xiaoming Sleeve Sheer Loose Tassel Kimono Woma...</td>\n",
              "      <td>$14.32</td>\n",
              "    </tr>\n",
              "  </tbody>\n",
              "</table>\n",
              "</div>"
            ],
            "text/plain": [
              "              asin     brand        color  \\\n",
              "61973   B06Y1KZ2WB    Éclair   Black/Pink   \n",
              "133820  B010RV33VE  xiaoming         Pink   \n",
              "81461   B01DDSDLNS  xiaoming        White   \n",
              "75995   B00X5LYO9Y  xiaoming  Red Anchors   \n",
              "151570  B00WPJG35K  xiaoming        White   \n",
              "\n",
              "                                         medium_image_url product_type_name  \\\n",
              "61973   https://images-na.ssl-images-amazon.com/images...             SHIRT   \n",
              "133820  https://images-na.ssl-images-amazon.com/images...             SHIRT   \n",
              "81461   https://images-na.ssl-images-amazon.com/images...             SHIRT   \n",
              "75995   https://images-na.ssl-images-amazon.com/images...             SHIRT   \n",
              "151570  https://images-na.ssl-images-amazon.com/images...             SHIRT   \n",
              "\n",
              "                                                    title formatted_price  \n",
              "61973   Éclair Women's Printed Thin Strap Blouse Black...          $24.99  \n",
              "133820  xiaoming Womens Sleeveless Loose Long T-shirts...          $18.19  \n",
              "81461   xiaoming Women's White Long Sleeve Single Brea...          $21.58  \n",
              "75995   xiaoming Stripes Tank Patch/Bear Sleeve Anchor...          $15.91  \n",
              "151570  xiaoming Sleeve Sheer Loose Tassel Kimono Woma...          $14.32  "
            ]
          },
          "metadata": {
            "tags": []
          },
          "execution_count": 109
        }
      ]
    },
    {
      "cell_type": "markdown",
      "metadata": {
        "id": "bYHv4ajSRDFQ",
        "colab_type": "text"
      },
      "source": [
        "### 2.3 Deduplication"
      ]
    },
    {
      "cell_type": "code",
      "metadata": {
        "id": "nV80IHIWOSdu",
        "colab_type": "code",
        "colab": {}
      },
      "source": [
        "indices = df_sorted.index.tolist()\n",
        "\n",
        "stage1_dedupe_asins = []\n",
        "i = 0\n",
        "j = 0\n",
        "num_data_points = df_sorted.shape[0]\n",
        "while i < num_data_points and j < num_data_points:\n",
        "    \n",
        "    previous_i = i\n",
        "\n",
        "    # store the list of words of ith string in a, ex: a = ['tokidoki', 'The', 'Queen', 'of', 'Diamonds', 'Women's', 'Shirt', 'X-Large']\n",
        "    a = df['title'].loc[indices[i]].split()\n",
        "\n",
        "    # search for the similar products sequentially \n",
        "    j = i+1\n",
        "    while j < num_data_points:\n",
        "\n",
        "        # store the list of words of jth string in b, ex: b = ['tokidoki', 'The', 'Queen', 'of', 'Diamonds', 'Women's', 'Shirt', 'Small']\n",
        "        b = df['title'].loc[indices[j]].split()\n",
        "\n",
        "        # store the maximum length of two strings\n",
        "        length = max(len(a), len(b))\n",
        "\n",
        "        # count is used to store the number of words that are matched in both strings\n",
        "        count  = 0\n",
        "\n",
        "        # itertools.zip_longest(a,b): will map the corresponding words in both strings, it will appened None in case of unequal strings\n",
        "        # example: a =['a', 'b', 'c', 'd']\n",
        "        # b = ['a', 'b', 'd']\n",
        "        # itertools.zip_longest(a,b): will give [('a','a'), ('b','b'), ('c','d'), ('d', None)]\n",
        "        for k in itertools.zip_longest(a,b): \n",
        "            if (k[0] == k[1]):\n",
        "                count += 1\n",
        "\n",
        "        # if the number of words in which both strings differ are > 2 , we are considering it as those two apperals are different\n",
        "        # if the number of words in which both strings differ are < 2 , we are considering it as those two apperals are same, hence we are ignoring them\n",
        "        if (length - count) > 2: # number of words in which both sensences differ\n",
        "            # if both strings are differ by more than 2 words we include the 1st string index\n",
        "            stage1_dedupe_asins.append(df_sorted['asin'].loc[indices[i]])\n",
        "\n",
        "\n",
        "            # start searching for similar apperals corresponds 2nd string\n",
        "            i = j\n",
        "            break\n",
        "        else:\n",
        "            j += 1\n",
        "    if previous_i == i:\n",
        "        break"
      ],
      "execution_count": 113,
      "outputs": []
    },
    {
      "cell_type": "code",
      "metadata": {
        "id": "7jwCPi6jQKF7",
        "colab_type": "code",
        "colab": {}
      },
      "source": [
        "df = df.loc[df['asin'].isin(stage1_dedupe_asins)]"
      ],
      "execution_count": 114,
      "outputs": []
    },
    {
      "cell_type": "code",
      "metadata": {
        "id": "WncKSno1Qplt",
        "colab_type": "code",
        "colab": {
          "base_uri": "https://localhost:8080/",
          "height": 34
        },
        "outputId": "85e67fb3-a845-4736-c6c4-b76fbeb4d954"
      },
      "source": [
        "print('Number of data points : ', df.shape[0])"
      ],
      "execution_count": 115,
      "outputs": [
        {
          "output_type": "stream",
          "text": [
            "Number of data points :  17592\n"
          ],
          "name": "stdout"
        }
      ]
    },
    {
      "cell_type": "code",
      "metadata": {
        "id": "k5PffpR_Qt3B",
        "colab_type": "code",
        "colab": {}
      },
      "source": [
        "indices = df.index.tolist()\n",
        "stage2_dedupe_asins = []\n",
        "while len(indices)!=0:\n",
        "    i = indices.pop()\n",
        "    stage2_dedupe_asins.append(df['asin'].loc[i])\n",
        "    # consider the first apperal's title\n",
        "    a = df['title'].loc[i].split()\n",
        "    # store the list of words of ith string in a, ex: a = ['tokidoki', 'The', 'Queen', 'of', 'Diamonds', 'Women's', 'Shirt', 'X-Large']\n",
        "    for j in indices:\n",
        "        \n",
        "        b = df['title'].loc[j].split()\n",
        "        # store the list of words of jth string in b, ex: b = ['tokidoki', 'The', 'Queen', 'of', 'Diamonds', 'Women's', 'Shirt', 'X-Large']\n",
        "        \n",
        "        length = max(len(a),len(b))\n",
        "        \n",
        "        # count is used to store the number of words that are matched in both strings\n",
        "        count  = 0\n",
        "\n",
        "        # itertools.zip_longest(a,b): will map the corresponding words in both strings, it will appened None in case of unequal strings\n",
        "        # example: a =['a', 'b', 'c', 'd']\n",
        "        # b = ['a', 'b', 'd']\n",
        "        # itertools.zip_longest(a,b): will give [('a','a'), ('b','b'), ('c','d'), ('d', None)]\n",
        "        for k in itertools.zip_longest(a,b): \n",
        "            if (k[0]==k[1]):\n",
        "                count += 1\n",
        "\n",
        "        # if the number of words in which both strings differ are < 3 , we are considering it as those two apperals are same, hence we are ignoring them\n",
        "        if (length - count) < 3:\n",
        "            indices.remove(j)"
      ],
      "execution_count": null,
      "outputs": []
    },
    {
      "cell_type": "code",
      "metadata": {
        "id": "ewf1ZpX8Q17h",
        "colab_type": "code",
        "colab": {}
      },
      "source": [
        "df = df.loc[df['asin'].isin(stage2_dedupe_asins)]"
      ],
      "execution_count": null,
      "outputs": []
    },
    {
      "cell_type": "code",
      "metadata": {
        "id": "um-6aW3TRICS",
        "colab_type": "code",
        "colab": {
          "base_uri": "https://localhost:8080/",
          "height": 34
        },
        "outputId": "39f48b87-b5f2-43c5-e15e-3a8531390f87"
      },
      "source": [
        "print('Number of data points after stage two of dedupe: ', data.shape[0])\n",
        "# from 17k apparels we reduced to 16k apparels"
      ],
      "execution_count": 117,
      "outputs": [
        {
          "output_type": "stream",
          "text": [
            "Number of data points after stage two of dedupe:  16042\n"
          ],
          "name": "stdout"
        }
      ]
    },
    {
      "cell_type": "code",
      "metadata": {
        "id": "S9Eu6oJYRaRI",
        "colab_type": "code",
        "colab": {}
      },
      "source": [
        "df.to_pickle(os.path.join(DATA_DIR, '16k_reduced_data'))"
      ],
      "execution_count": 119,
      "outputs": []
    },
    {
      "cell_type": "markdown",
      "metadata": {
        "id": "Zqzs8x1ATFJ9",
        "colab_type": "text"
      },
      "source": [
        "## 3.) Text Preprocessing"
      ]
    },
    {
      "cell_type": "code",
      "metadata": {
        "id": "_y7ViAbZSHp_",
        "colab_type": "code",
        "colab": {}
      },
      "source": [
        "df = pd.read_pickle(os.path.join(DATA_DIR, '16k_reduced_data'))"
      ],
      "execution_count": 120,
      "outputs": []
    },
    {
      "cell_type": "code",
      "metadata": {
        "id": "P_7G-z4DStEr",
        "colab_type": "code",
        "colab": {
          "base_uri": "https://localhost:8080/",
          "height": 54
        },
        "outputId": "5cc9ff68-28fc-4381-97be-a0e5316ed2b0"
      },
      "source": [
        "stop_words = set(stopwords.words('english'))\n",
        "print ('list of stop words:', stop_words)\n",
        "\n",
        "def nlp_preprocessing(total_text):\n",
        "    if type(total_text) is not int:\n",
        "        string = \"\"\n",
        "        for words in total_text.split():\n",
        "            # remove the special chars in review like '\"#$@!%^&*()_+-~?>< etc.\n",
        "            word = (\"\".join(e for e in words if e.isalnum()))\n",
        "            # Conver all letters to lower-case\n",
        "            word = word.lower()\n",
        "            # stop-word removal\n",
        "            if not word in stop_words:\n",
        "                string += word + \" \"\n",
        "        return string"
      ],
      "execution_count": 131,
      "outputs": [
        {
          "output_type": "stream",
          "text": [
            "list of stop words: {'s', 'how', 'mightn', 'those', 'ain', 'under', 'yourself', 'until', 'me', 'with', 'some', 'i', 'who', 'off', 'he', 'doesn', \"that'll\", 'now', 'y', 'hadn', 'which', \"isn't\", 'him', 'have', 'you', \"aren't\", 'but', 'than', 'needn', 'they', 'for', 'doing', 'too', 'hers', 'd', 'no', 'was', 'against', 'or', 'himself', 'weren', 'where', 'there', 'were', 'through', \"she's\", 'our', 'if', 'haven', 'be', 'didn', 'wouldn', 'as', \"wouldn't\", 'are', \"hadn't\", 'up', 'can', 'other', 'very', 'itself', 'my', 'did', 'nor', 'will', 'further', 'isn', \"hasn't\", 'out', 'on', 'few', 'mustn', 'ours', 'over', \"haven't\", 'more', 'been', 'these', 'when', 'from', 'll', 'having', 't', \"wasn't\", 'below', \"you've\", 'ourselves', 'because', 'then', 'again', \"won't\", 'theirs', \"shan't\", \"should've\", 'what', 'wasn', 'themselves', \"you'd\", \"couldn't\", 'during', 'just', 'myself', 'above', 'to', 'his', 'before', 'her', 'both', 'couldn', 'while', 've', 'own', \"needn't\", 'not', 'your', \"weren't\", 'so', 'an', \"didn't\", 'we', 'the', 'here', 'only', \"it's\", \"mustn't\", 'same', 'm', 'won', 'this', 'about', 'do', 'it', 'by', \"doesn't\", 'don', 'is', 'once', 'of', 'why', \"you're\", 'shan', 'o', 'am', 'aren', 'shouldn', \"don't\", 'hasn', 'between', 're', \"shouldn't\", 'ma', 'in', 'most', 'all', 'any', 'at', 'yours', 'had', 'has', 'she', 'down', 'that', 'herself', 'its', 'each', \"you'll\", 'a', 'their', 'does', 'whom', 'such', 'yourselves', 'being', 'and', 'into', 'after', 'them', 'should', \"mightn't\"}\n"
          ],
          "name": "stdout"
        }
      ]
    },
    {
      "cell_type": "code",
      "metadata": {
        "id": "DiXn7gz6TMSF",
        "colab_type": "code",
        "colab": {}
      },
      "source": [
        "df[\"title\"] = df[\"title\"].apply(nlp_preprocessing)"
      ],
      "execution_count": 132,
      "outputs": []
    },
    {
      "cell_type": "code",
      "metadata": {
        "id": "aLDfXaEhTsrw",
        "colab_type": "code",
        "colab": {
          "base_uri": "https://localhost:8080/",
          "height": 204
        },
        "outputId": "afc57320-d1b2-4ad3-ace4-189842e94eb2"
      },
      "source": [
        "df.head()"
      ],
      "execution_count": 133,
      "outputs": [
        {
          "output_type": "execute_result",
          "data": {
            "text/html": [
              "<div>\n",
              "<style scoped>\n",
              "    .dataframe tbody tr th:only-of-type {\n",
              "        vertical-align: middle;\n",
              "    }\n",
              "\n",
              "    .dataframe tbody tr th {\n",
              "        vertical-align: top;\n",
              "    }\n",
              "\n",
              "    .dataframe thead th {\n",
              "        text-align: right;\n",
              "    }\n",
              "</style>\n",
              "<table border=\"1\" class=\"dataframe\">\n",
              "  <thead>\n",
              "    <tr style=\"text-align: right;\">\n",
              "      <th></th>\n",
              "      <th>asin</th>\n",
              "      <th>brand</th>\n",
              "      <th>color</th>\n",
              "      <th>medium_image_url</th>\n",
              "      <th>product_type_name</th>\n",
              "      <th>title</th>\n",
              "      <th>formatted_price</th>\n",
              "    </tr>\n",
              "  </thead>\n",
              "  <tbody>\n",
              "    <tr>\n",
              "      <th>4</th>\n",
              "      <td>B004GSI2OS</td>\n",
              "      <td>FeatherLite</td>\n",
              "      <td>Onyx Black/ Stone</td>\n",
              "      <td>https://images-na.ssl-images-amazon.com/images...</td>\n",
              "      <td>SHIRT</td>\n",
              "      <td>featherlite ladies long sleeve stain resistant...</td>\n",
              "      <td>$26.26</td>\n",
              "    </tr>\n",
              "    <tr>\n",
              "      <th>6</th>\n",
              "      <td>B012YX2ZPI</td>\n",
              "      <td>HX-Kingdom Fashion T-shirts</td>\n",
              "      <td>White</td>\n",
              "      <td>https://images-na.ssl-images-amazon.com/images...</td>\n",
              "      <td>SHIRT</td>\n",
              "      <td>womens unique 100 cotton  special olympics wor...</td>\n",
              "      <td>$9.99</td>\n",
              "    </tr>\n",
              "    <tr>\n",
              "      <th>15</th>\n",
              "      <td>B003BSRPB0</td>\n",
              "      <td>FeatherLite</td>\n",
              "      <td>White</td>\n",
              "      <td>https://images-na.ssl-images-amazon.com/images...</td>\n",
              "      <td>SHIRT</td>\n",
              "      <td>featherlite ladies moisture free mesh sport sh...</td>\n",
              "      <td>$20.54</td>\n",
              "    </tr>\n",
              "    <tr>\n",
              "      <th>27</th>\n",
              "      <td>B014ICEJ1Q</td>\n",
              "      <td>FNC7C</td>\n",
              "      <td>Purple</td>\n",
              "      <td>https://images-na.ssl-images-amazon.com/images...</td>\n",
              "      <td>SHIRT</td>\n",
              "      <td>supernatural chibis sam dean castiel neck tshi...</td>\n",
              "      <td>$7.39</td>\n",
              "    </tr>\n",
              "    <tr>\n",
              "      <th>46</th>\n",
              "      <td>B01NACPBG2</td>\n",
              "      <td>Fifth Degree</td>\n",
              "      <td>Black</td>\n",
              "      <td>https://images-na.ssl-images-amazon.com/images...</td>\n",
              "      <td>SHIRT</td>\n",
              "      <td>fifth degree womens gold foil graphic tees jun...</td>\n",
              "      <td>$6.95</td>\n",
              "    </tr>\n",
              "  </tbody>\n",
              "</table>\n",
              "</div>"
            ],
            "text/plain": [
              "          asin                        brand              color  \\\n",
              "4   B004GSI2OS                  FeatherLite  Onyx Black/ Stone   \n",
              "6   B012YX2ZPI  HX-Kingdom Fashion T-shirts              White   \n",
              "15  B003BSRPB0                  FeatherLite              White   \n",
              "27  B014ICEJ1Q                        FNC7C             Purple   \n",
              "46  B01NACPBG2                 Fifth Degree              Black   \n",
              "\n",
              "                                     medium_image_url product_type_name  \\\n",
              "4   https://images-na.ssl-images-amazon.com/images...             SHIRT   \n",
              "6   https://images-na.ssl-images-amazon.com/images...             SHIRT   \n",
              "15  https://images-na.ssl-images-amazon.com/images...             SHIRT   \n",
              "27  https://images-na.ssl-images-amazon.com/images...             SHIRT   \n",
              "46  https://images-na.ssl-images-amazon.com/images...             SHIRT   \n",
              "\n",
              "                                                title formatted_price  \n",
              "4   featherlite ladies long sleeve stain resistant...          $26.26  \n",
              "6   womens unique 100 cotton  special olympics wor...           $9.99  \n",
              "15  featherlite ladies moisture free mesh sport sh...          $20.54  \n",
              "27  supernatural chibis sam dean castiel neck tshi...           $7.39  \n",
              "46  fifth degree womens gold foil graphic tees jun...           $6.95  "
            ]
          },
          "metadata": {
            "tags": []
          },
          "execution_count": 133
        }
      ]
    },
    {
      "cell_type": "code",
      "metadata": {
        "id": "LULjoETvT5Im",
        "colab_type": "code",
        "colab": {}
      },
      "source": [
        ""
      ],
      "execution_count": null,
      "outputs": []
    }
  ]
}